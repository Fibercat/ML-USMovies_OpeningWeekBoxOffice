{
 "cells": [
  {
   "cell_type": "code",
   "execution_count": 1,
   "metadata": {},
   "outputs": [],
   "source": [
    "import numpy as np\n",
    "import pandas as pd"
   ]
  },
  {
   "cell_type": "code",
   "execution_count": 2,
   "metadata": {},
   "outputs": [],
   "source": [
    "import matplotlib.pyplot as plt\n",
    "import matplotlib.colors as mcolors\n",
    "import seaborn as sns"
   ]
  },
  {
   "cell_type": "code",
   "execution_count": 3,
   "metadata": {},
   "outputs": [],
   "source": [
    "%matplotlib inline\n",
    "sns.set()"
   ]
  },
  {
   "cell_type": "code",
   "execution_count": 204,
   "metadata": {},
   "outputs": [],
   "source": [
    "movies_df = pd.read_csv('movies_data_20191030_v3.csv')"
   ]
  },
  {
   "cell_type": "code",
   "execution_count": 205,
   "metadata": {},
   "outputs": [
    {
     "data": {
      "text/html": [
       "<div>\n",
       "<style scoped>\n",
       "    .dataframe tbody tr th:only-of-type {\n",
       "        vertical-align: middle;\n",
       "    }\n",
       "\n",
       "    .dataframe tbody tr th {\n",
       "        vertical-align: top;\n",
       "    }\n",
       "\n",
       "    .dataframe thead th {\n",
       "        text-align: right;\n",
       "    }\n",
       "</style>\n",
       "<table border=\"1\" class=\"dataframe\">\n",
       "  <thead>\n",
       "    <tr style=\"text-align: right;\">\n",
       "      <th></th>\n",
       "      <th>tmdb_id</th>\n",
       "      <th>mojo_title</th>\n",
       "      <th>original_title</th>\n",
       "      <th>tagline</th>\n",
       "      <th>collection_id</th>\n",
       "      <th>budget</th>\n",
       "      <th>Total_gross</th>\n",
       "      <th>comments_total_qty</th>\n",
       "      <th>sc_negative</th>\n",
       "      <th>sc_neutral</th>\n",
       "      <th>...</th>\n",
       "      <th>num_sp_languages</th>\n",
       "      <th>gdp_deflator</th>\n",
       "      <th>unemployment_rate</th>\n",
       "      <th>gdp_annual_rate</th>\n",
       "      <th>First_week_gross</th>\n",
       "      <th>adj_first_week_gross</th>\n",
       "      <th>boxoffice_level</th>\n",
       "      <th>week_boxoffice_level</th>\n",
       "      <th>boxoffice_level(4)</th>\n",
       "      <th>week_boxoffice_level(4)</th>\n",
       "    </tr>\n",
       "  </thead>\n",
       "  <tbody>\n",
       "    <tr>\n",
       "      <th>0</th>\n",
       "      <td>19995.0</td>\n",
       "      <td>Avatar</td>\n",
       "      <td>Avatar</td>\n",
       "      <td>Enter the World of Pandora.</td>\n",
       "      <td>87096.0</td>\n",
       "      <td>237000000.0</td>\n",
       "      <td>760507625</td>\n",
       "      <td>0.0</td>\n",
       "      <td>0.0</td>\n",
       "      <td>0.0</td>\n",
       "      <td>...</td>\n",
       "      <td>2</td>\n",
       "      <td>0.76235</td>\n",
       "      <td>9.2542</td>\n",
       "      <td>-2.536757</td>\n",
       "      <td>137094001</td>\n",
       "      <td>1.798308e+08</td>\n",
       "      <td>1</td>\n",
       "      <td>1</td>\n",
       "      <td>1</td>\n",
       "      <td>1</td>\n",
       "    </tr>\n",
       "    <tr>\n",
       "      <th>1</th>\n",
       "      <td>8373.0</td>\n",
       "      <td>Transformers: Revenge of the Fallen</td>\n",
       "      <td>Transformers: Revenge of the Fallen</td>\n",
       "      <td>Revenge is coming.</td>\n",
       "      <td>8650.0</td>\n",
       "      <td>150000000.0</td>\n",
       "      <td>402111870</td>\n",
       "      <td>0.0</td>\n",
       "      <td>0.0</td>\n",
       "      <td>0.0</td>\n",
       "      <td>...</td>\n",
       "      <td>2</td>\n",
       "      <td>0.76235</td>\n",
       "      <td>9.2542</td>\n",
       "      <td>-2.536757</td>\n",
       "      <td>91110948</td>\n",
       "      <td>1.195133e+08</td>\n",
       "      <td>1</td>\n",
       "      <td>1</td>\n",
       "      <td>1</td>\n",
       "      <td>1</td>\n",
       "    </tr>\n",
       "    <tr>\n",
       "      <th>2</th>\n",
       "      <td>767.0</td>\n",
       "      <td>Harry Potter and the Half-Blood Prince</td>\n",
       "      <td>Harry Potter and the Half-Blood Prince</td>\n",
       "      <td>Dark Secrets Revealed</td>\n",
       "      <td>1241.0</td>\n",
       "      <td>250000000.0</td>\n",
       "      <td>302089278</td>\n",
       "      <td>0.0</td>\n",
       "      <td>0.0</td>\n",
       "      <td>0.0</td>\n",
       "      <td>...</td>\n",
       "      <td>1</td>\n",
       "      <td>0.76235</td>\n",
       "      <td>9.2542</td>\n",
       "      <td>-2.536757</td>\n",
       "      <td>80186627</td>\n",
       "      <td>1.051835e+08</td>\n",
       "      <td>1</td>\n",
       "      <td>1</td>\n",
       "      <td>1</td>\n",
       "      <td>1</td>\n",
       "    </tr>\n",
       "    <tr>\n",
       "      <th>3</th>\n",
       "      <td>18239.0</td>\n",
       "      <td>The Twilight Saga: New Moon</td>\n",
       "      <td>The Twilight Saga: New Moon</td>\n",
       "      <td>The Next Chapter Begins.</td>\n",
       "      <td>33514.0</td>\n",
       "      <td>50000000.0</td>\n",
       "      <td>296623634</td>\n",
       "      <td>0.0</td>\n",
       "      <td>0.0</td>\n",
       "      <td>0.0</td>\n",
       "      <td>...</td>\n",
       "      <td>2</td>\n",
       "      <td>0.76235</td>\n",
       "      <td>9.2542</td>\n",
       "      <td>-2.536757</td>\n",
       "      <td>188077665</td>\n",
       "      <td>2.467078e+08</td>\n",
       "      <td>1</td>\n",
       "      <td>1</td>\n",
       "      <td>1</td>\n",
       "      <td>1</td>\n",
       "    </tr>\n",
       "    <tr>\n",
       "      <th>4</th>\n",
       "      <td>14160.0</td>\n",
       "      <td>Up</td>\n",
       "      <td>Up</td>\n",
       "      <td>NaN</td>\n",
       "      <td>NaN</td>\n",
       "      <td>175000000.0</td>\n",
       "      <td>293004164</td>\n",
       "      <td>0.0</td>\n",
       "      <td>0.0</td>\n",
       "      <td>0.0</td>\n",
       "      <td>...</td>\n",
       "      <td>1</td>\n",
       "      <td>0.76235</td>\n",
       "      <td>9.2542</td>\n",
       "      <td>-2.536757</td>\n",
       "      <td>93072435</td>\n",
       "      <td>1.220862e+08</td>\n",
       "      <td>1</td>\n",
       "      <td>1</td>\n",
       "      <td>1</td>\n",
       "      <td>1</td>\n",
       "    </tr>\n",
       "  </tbody>\n",
       "</table>\n",
       "<p>5 rows × 74 columns</p>\n",
       "</div>"
      ],
      "text/plain": [
       "   tmdb_id                              mojo_title  \\\n",
       "0  19995.0                                  Avatar   \n",
       "1   8373.0     Transformers: Revenge of the Fallen   \n",
       "2    767.0  Harry Potter and the Half-Blood Prince   \n",
       "3  18239.0             The Twilight Saga: New Moon   \n",
       "4  14160.0                                      Up   \n",
       "\n",
       "                           original_title                      tagline  \\\n",
       "0                                  Avatar  Enter the World of Pandora.   \n",
       "1     Transformers: Revenge of the Fallen           Revenge is coming.   \n",
       "2  Harry Potter and the Half-Blood Prince        Dark Secrets Revealed   \n",
       "3             The Twilight Saga: New Moon     The Next Chapter Begins.   \n",
       "4                                      Up                          NaN   \n",
       "\n",
       "   collection_id       budget  Total_gross  comments_total_qty  sc_negative  \\\n",
       "0        87096.0  237000000.0    760507625                 0.0          0.0   \n",
       "1         8650.0  150000000.0    402111870                 0.0          0.0   \n",
       "2         1241.0  250000000.0    302089278                 0.0          0.0   \n",
       "3        33514.0   50000000.0    296623634                 0.0          0.0   \n",
       "4            NaN  175000000.0    293004164                 0.0          0.0   \n",
       "\n",
       "   sc_neutral  ...  num_sp_languages gdp_deflator unemployment_rate  \\\n",
       "0         0.0  ...                 2      0.76235            9.2542   \n",
       "1         0.0  ...                 2      0.76235            9.2542   \n",
       "2         0.0  ...                 1      0.76235            9.2542   \n",
       "3         0.0  ...                 2      0.76235            9.2542   \n",
       "4         0.0  ...                 1      0.76235            9.2542   \n",
       "\n",
       "  gdp_annual_rate  First_week_gross  adj_first_week_gross  boxoffice_level  \\\n",
       "0       -2.536757         137094001          1.798308e+08                1   \n",
       "1       -2.536757          91110948          1.195133e+08                1   \n",
       "2       -2.536757          80186627          1.051835e+08                1   \n",
       "3       -2.536757         188077665          2.467078e+08                1   \n",
       "4       -2.536757          93072435          1.220862e+08                1   \n",
       "\n",
       "   week_boxoffice_level boxoffice_level(4) week_boxoffice_level(4)  \n",
       "0                     1                  1                       1  \n",
       "1                     1                  1                       1  \n",
       "2                     1                  1                       1  \n",
       "3                     1                  1                       1  \n",
       "4                     1                  1                       1  \n",
       "\n",
       "[5 rows x 74 columns]"
      ]
     },
     "execution_count": 205,
     "metadata": {},
     "output_type": "execute_result"
    }
   ],
   "source": [
    "movies_df.head()"
   ]
  },
  {
   "cell_type": "markdown",
   "metadata": {},
   "source": [
    "## Preprocessing "
   ]
  },
  {
   "cell_type": "markdown",
   "metadata": {},
   "source": [
    "#### \"Total_gross\" 4分位差"
   ]
  },
  {
   "cell_type": "code",
   "execution_count": 6,
   "metadata": {},
   "outputs": [
    {
     "data": {
      "text/plain": [
       "count        0.629600\n",
       "mean      1813.126786\n",
       "std       5579.985394\n",
       "min          0.007200\n",
       "25%          2.972250\n",
       "50%         21.068850\n",
       "75%        530.860850\n",
       "max      93666.222500\n",
       "Name: Total_gross, dtype: float64"
      ]
     },
     "execution_count": 6,
     "metadata": {},
     "output_type": "execute_result"
    }
   ],
   "source": [
    "movies_df['Total_gross'].describe()/10000"
   ]
  },
  {
   "cell_type": "code",
   "execution_count": 7,
   "metadata": {},
   "outputs": [
    {
     "data": {
      "text/plain": [
       "count        0.629600\n",
       "mean       684.454441\n",
       "std       2364.175545\n",
       "min          0.001100\n",
       "25%          0.832375\n",
       "50%          4.426550\n",
       "75%         85.261600\n",
       "max      47389.463800\n",
       "Name: First_week_gross, dtype: float64"
      ]
     },
     "execution_count": 7,
     "metadata": {},
     "output_type": "execute_result"
    }
   ],
   "source": [
    "movies_df['First_week_gross'].describe()/10000"
   ]
  },
  {
   "cell_type": "code",
   "execution_count": 8,
   "metadata": {},
   "outputs": [
    {
     "data": {
      "text/plain": [
       "count        0.629600\n",
       "mean       472.716142\n",
       "std       1691.929375\n",
       "min          0.000527\n",
       "25%          0.526136\n",
       "50%          2.799249\n",
       "75%         55.939390\n",
       "max      36551.092040\n",
       "Name: adj_first_week_gross, dtype: float64"
      ]
     },
     "execution_count": 8,
     "metadata": {},
     "output_type": "execute_result"
    }
   ],
   "source": [
    "movies_df['adj_first_week_gross'].describe()/10000"
   ]
  },
  {
   "cell_type": "markdown",
   "metadata": {},
   "source": [
    "### 用首週票房金額分四類"
   ]
  },
  {
   "cell_type": "code",
   "execution_count": 9,
   "metadata": {},
   "outputs": [],
   "source": [
    "def get_gross_level4(value):\n",
    "    if value >= 40000000:\n",
    "        return 1\n",
    "    elif value >= 10000000 and value < 40000000:\n",
    "        return 2\n",
    "    elif value >= 1000000 and value < 10000000:\n",
    "        return 3\n",
    "    else:\n",
    "        return 4"
   ]
  },
  {
   "cell_type": "code",
   "execution_count": 10,
   "metadata": {},
   "outputs": [
    {
     "data": {
      "text/html": [
       "<div>\n",
       "<style scoped>\n",
       "    .dataframe tbody tr th:only-of-type {\n",
       "        vertical-align: middle;\n",
       "    }\n",
       "\n",
       "    .dataframe tbody tr th {\n",
       "        vertical-align: top;\n",
       "    }\n",
       "\n",
       "    .dataframe thead th {\n",
       "        text-align: right;\n",
       "    }\n",
       "</style>\n",
       "<table border=\"1\" class=\"dataframe\">\n",
       "  <thead>\n",
       "    <tr style=\"text-align: right;\">\n",
       "      <th></th>\n",
       "      <th>tmdb_id</th>\n",
       "      <th>mojo_title</th>\n",
       "      <th>original_title</th>\n",
       "      <th>tagline</th>\n",
       "      <th>collection_id</th>\n",
       "      <th>budget</th>\n",
       "      <th>Total_gross</th>\n",
       "      <th>comments_total_qty</th>\n",
       "      <th>sc_negative</th>\n",
       "      <th>sc_neutral</th>\n",
       "      <th>...</th>\n",
       "      <th>num_sp_languages</th>\n",
       "      <th>gdp_deflator</th>\n",
       "      <th>unemployment_rate</th>\n",
       "      <th>gdp_annual_rate</th>\n",
       "      <th>First_week_gross</th>\n",
       "      <th>adj_first_week_gross</th>\n",
       "      <th>boxoffice_level</th>\n",
       "      <th>week_boxoffice_level</th>\n",
       "      <th>boxoffice_level(4)</th>\n",
       "      <th>week_boxoffice_level(4)</th>\n",
       "    </tr>\n",
       "  </thead>\n",
       "  <tbody>\n",
       "    <tr>\n",
       "      <th>0</th>\n",
       "      <td>19995.0</td>\n",
       "      <td>Avatar</td>\n",
       "      <td>Avatar</td>\n",
       "      <td>Enter the World of Pandora.</td>\n",
       "      <td>87096.0</td>\n",
       "      <td>237000000.0</td>\n",
       "      <td>760507625</td>\n",
       "      <td>0.0</td>\n",
       "      <td>0.0</td>\n",
       "      <td>0.0</td>\n",
       "      <td>...</td>\n",
       "      <td>2</td>\n",
       "      <td>0.76235</td>\n",
       "      <td>9.2542</td>\n",
       "      <td>-2.536757</td>\n",
       "      <td>137094001</td>\n",
       "      <td>1.798308e+08</td>\n",
       "      <td>1</td>\n",
       "      <td>1</td>\n",
       "      <td>1</td>\n",
       "      <td>1</td>\n",
       "    </tr>\n",
       "    <tr>\n",
       "      <th>1</th>\n",
       "      <td>8373.0</td>\n",
       "      <td>Transformers: Revenge of the Fallen</td>\n",
       "      <td>Transformers: Revenge of the Fallen</td>\n",
       "      <td>Revenge is coming.</td>\n",
       "      <td>8650.0</td>\n",
       "      <td>150000000.0</td>\n",
       "      <td>402111870</td>\n",
       "      <td>0.0</td>\n",
       "      <td>0.0</td>\n",
       "      <td>0.0</td>\n",
       "      <td>...</td>\n",
       "      <td>2</td>\n",
       "      <td>0.76235</td>\n",
       "      <td>9.2542</td>\n",
       "      <td>-2.536757</td>\n",
       "      <td>91110948</td>\n",
       "      <td>1.195133e+08</td>\n",
       "      <td>1</td>\n",
       "      <td>1</td>\n",
       "      <td>1</td>\n",
       "      <td>1</td>\n",
       "    </tr>\n",
       "    <tr>\n",
       "      <th>2</th>\n",
       "      <td>767.0</td>\n",
       "      <td>Harry Potter and the Half-Blood Prince</td>\n",
       "      <td>Harry Potter and the Half-Blood Prince</td>\n",
       "      <td>Dark Secrets Revealed</td>\n",
       "      <td>1241.0</td>\n",
       "      <td>250000000.0</td>\n",
       "      <td>302089278</td>\n",
       "      <td>0.0</td>\n",
       "      <td>0.0</td>\n",
       "      <td>0.0</td>\n",
       "      <td>...</td>\n",
       "      <td>1</td>\n",
       "      <td>0.76235</td>\n",
       "      <td>9.2542</td>\n",
       "      <td>-2.536757</td>\n",
       "      <td>80186627</td>\n",
       "      <td>1.051835e+08</td>\n",
       "      <td>1</td>\n",
       "      <td>1</td>\n",
       "      <td>1</td>\n",
       "      <td>1</td>\n",
       "    </tr>\n",
       "    <tr>\n",
       "      <th>3</th>\n",
       "      <td>18239.0</td>\n",
       "      <td>The Twilight Saga: New Moon</td>\n",
       "      <td>The Twilight Saga: New Moon</td>\n",
       "      <td>The Next Chapter Begins.</td>\n",
       "      <td>33514.0</td>\n",
       "      <td>50000000.0</td>\n",
       "      <td>296623634</td>\n",
       "      <td>0.0</td>\n",
       "      <td>0.0</td>\n",
       "      <td>0.0</td>\n",
       "      <td>...</td>\n",
       "      <td>2</td>\n",
       "      <td>0.76235</td>\n",
       "      <td>9.2542</td>\n",
       "      <td>-2.536757</td>\n",
       "      <td>188077665</td>\n",
       "      <td>2.467078e+08</td>\n",
       "      <td>1</td>\n",
       "      <td>1</td>\n",
       "      <td>1</td>\n",
       "      <td>1</td>\n",
       "    </tr>\n",
       "    <tr>\n",
       "      <th>4</th>\n",
       "      <td>14160.0</td>\n",
       "      <td>Up</td>\n",
       "      <td>Up</td>\n",
       "      <td>NaN</td>\n",
       "      <td>NaN</td>\n",
       "      <td>175000000.0</td>\n",
       "      <td>293004164</td>\n",
       "      <td>0.0</td>\n",
       "      <td>0.0</td>\n",
       "      <td>0.0</td>\n",
       "      <td>...</td>\n",
       "      <td>1</td>\n",
       "      <td>0.76235</td>\n",
       "      <td>9.2542</td>\n",
       "      <td>-2.536757</td>\n",
       "      <td>93072435</td>\n",
       "      <td>1.220862e+08</td>\n",
       "      <td>1</td>\n",
       "      <td>1</td>\n",
       "      <td>1</td>\n",
       "      <td>1</td>\n",
       "    </tr>\n",
       "  </tbody>\n",
       "</table>\n",
       "<p>5 rows × 74 columns</p>\n",
       "</div>"
      ],
      "text/plain": [
       "   tmdb_id                              mojo_title  \\\n",
       "0  19995.0                                  Avatar   \n",
       "1   8373.0     Transformers: Revenge of the Fallen   \n",
       "2    767.0  Harry Potter and the Half-Blood Prince   \n",
       "3  18239.0             The Twilight Saga: New Moon   \n",
       "4  14160.0                                      Up   \n",
       "\n",
       "                           original_title                      tagline  \\\n",
       "0                                  Avatar  Enter the World of Pandora.   \n",
       "1     Transformers: Revenge of the Fallen           Revenge is coming.   \n",
       "2  Harry Potter and the Half-Blood Prince        Dark Secrets Revealed   \n",
       "3             The Twilight Saga: New Moon     The Next Chapter Begins.   \n",
       "4                                      Up                          NaN   \n",
       "\n",
       "   collection_id       budget  Total_gross  comments_total_qty  sc_negative  \\\n",
       "0        87096.0  237000000.0    760507625                 0.0          0.0   \n",
       "1         8650.0  150000000.0    402111870                 0.0          0.0   \n",
       "2         1241.0  250000000.0    302089278                 0.0          0.0   \n",
       "3        33514.0   50000000.0    296623634                 0.0          0.0   \n",
       "4            NaN  175000000.0    293004164                 0.0          0.0   \n",
       "\n",
       "   sc_neutral  ...  num_sp_languages gdp_deflator unemployment_rate  \\\n",
       "0         0.0  ...                 2      0.76235            9.2542   \n",
       "1         0.0  ...                 2      0.76235            9.2542   \n",
       "2         0.0  ...                 1      0.76235            9.2542   \n",
       "3         0.0  ...                 2      0.76235            9.2542   \n",
       "4         0.0  ...                 1      0.76235            9.2542   \n",
       "\n",
       "  gdp_annual_rate  First_week_gross  adj_first_week_gross  boxoffice_level  \\\n",
       "0       -2.536757         137094001          1.798308e+08                1   \n",
       "1       -2.536757          91110948          1.195133e+08                1   \n",
       "2       -2.536757          80186627          1.051835e+08                1   \n",
       "3       -2.536757         188077665          2.467078e+08                1   \n",
       "4       -2.536757          93072435          1.220862e+08                1   \n",
       "\n",
       "   week_boxoffice_level boxoffice_level(4) week_boxoffice_level(4)  \n",
       "0                     1                  1                       1  \n",
       "1                     1                  1                       1  \n",
       "2                     1                  1                       1  \n",
       "3                     1                  1                       1  \n",
       "4                     1                  1                       1  \n",
       "\n",
       "[5 rows x 74 columns]"
      ]
     },
     "execution_count": 10,
     "metadata": {},
     "output_type": "execute_result"
    }
   ],
   "source": [
    "movies_df.head()"
   ]
  },
  {
   "cell_type": "code",
   "execution_count": 11,
   "metadata": {},
   "outputs": [],
   "source": [
    "movies_df['week_boxoffice_level(4)'] = movies_df['First_week_gross'].apply(lambda x: get_gross_level4(x))"
   ]
  },
  {
   "cell_type": "code",
   "execution_count": 12,
   "metadata": {},
   "outputs": [
    {
     "name": "stdout",
     "output_type": "stream",
     "text": [
      "292\n",
      "674\n",
      "567\n",
      "4763\n"
     ]
    }
   ],
   "source": [
    "for i in set(movies_df['week_boxoffice_level(4)']):\n",
    "    print(movies_df[movies_df['week_boxoffice_level(4)'] == i]['tmdb_id'].count())"
   ]
  },
  {
   "cell_type": "code",
   "execution_count": 25,
   "metadata": {},
   "outputs": [],
   "source": [
    "# movies_df.to_csv('movies_data_20191030_v3.csv', encoding='utf-8', index=False)"
   ]
  },
  {
   "cell_type": "code",
   "execution_count": 13,
   "metadata": {},
   "outputs": [
    {
     "name": "stdout",
     "output_type": "stream",
     "text": [
      "<class 'pandas.core.frame.DataFrame'>\n",
      "RangeIndex: 6296 entries, 0 to 6295\n",
      "Data columns (total 74 columns):\n",
      "tmdb_id                           6296 non-null float64\n",
      "mojo_title                        6296 non-null object\n",
      "original_title                    6296 non-null object\n",
      "tagline                           3619 non-null object\n",
      "collection_id                     668 non-null float64\n",
      "budget                            2401 non-null float64\n",
      "Total_gross                       6296 non-null int64\n",
      "comments_total_qty                6296 non-null float64\n",
      "sc_negative                       6296 non-null float64\n",
      "sc_neutral                        6296 non-null float64\n",
      "sc_positive                       6296 non-null float64\n",
      "total_sentiment_level             6296 non-null object\n",
      "holidayweek                       1019 non-null object\n",
      "Release_date                      6296 non-null object\n",
      "Release_year                      6296 non-null int64\n",
      "Release_month                     6296 non-null int64\n",
      "Release_weekday                   6296 non-null int64\n",
      "release_in_holidayweek            6296 non-null int64\n",
      "original_language                 6296 non-null object\n",
      "distributor                       6296 non-null object\n",
      "belongs_to_collection             6296 non-null int64\n",
      "homepage                          6296 non-null int64\n",
      "genres                            6296 non-null object\n",
      "Adventure                         6296 non-null int64\n",
      "Fantasy                           6296 non-null int64\n",
      "Animation                         6296 non-null int64\n",
      "Drama                             6296 non-null int64\n",
      "Horror                            6296 non-null int64\n",
      "Action                            6296 non-null int64\n",
      "Comedy                            6296 non-null int64\n",
      "History                           6296 non-null int64\n",
      "Thriller                          6296 non-null int64\n",
      "Crime                             6296 non-null int64\n",
      "Documentary                       6296 non-null int64\n",
      "Science Fiction                   6296 non-null int64\n",
      "Mystery                           6296 non-null int64\n",
      "Romance                           6296 non-null int64\n",
      "Family                            6296 non-null int64\n",
      "genre_others                      6296 non-null int64\n",
      "director_id                       6296 non-null object\n",
      "top3_cast                         6296 non-null object\n",
      "1st_cast                          6296 non-null object\n",
      "2nd_cast                          6296 non-null object\n",
      "3rd_cast                          6296 non-null object\n",
      "have_comments                     6296 non-null int64\n",
      "runtime                           6296 non-null float64\n",
      "num_of_genres                     6296 non-null int64\n",
      "num_cast                          6296 non-null int64\n",
      "num_director                      6296 non-null int64\n",
      "num_awardActor                    6296 non-null int64\n",
      "num_nomActor                      6296 non-null int64\n",
      "num_awardDir                      6296 non-null int64\n",
      "comments_qty_before_release       6296 non-null float64\n",
      "comments_pc_before_release        6296 non-null float64\n",
      "sc2_negative                      6296 non-null float64\n",
      "sc2_neutral                       6296 non-null float64\n",
      "sc2_positive                      6296 non-null float64\n",
      "sentiment_level_before_release    6296 non-null object\n",
      "sc2_negative_pc                   6296 non-null float64\n",
      "sc2_neutral_pc                    6296 non-null float64\n",
      "sc2_positive_pc                   6296 non-null float64\n",
      "comments_bf_1wk                   6296 non-null float64\n",
      "comments_bf_2wk                   6296 non-null float64\n",
      "comments_bf_4wk                   6296 non-null float64\n",
      "num_sp_languages                  6296 non-null int64\n",
      "gdp_deflator                      6296 non-null float64\n",
      "unemployment_rate                 6296 non-null float64\n",
      "gdp_annual_rate                   6296 non-null float64\n",
      "First_week_gross                  6296 non-null int64\n",
      "adj_first_week_gross              6296 non-null float64\n",
      "boxoffice_level                   6296 non-null int64\n",
      "week_boxoffice_level              6296 non-null int64\n",
      "boxoffice_level(4)                6296 non-null int64\n",
      "week_boxoffice_level(4)           6296 non-null int64\n",
      "dtypes: float64(23), int64(36), object(15)\n",
      "memory usage: 3.6+ MB\n"
     ]
    }
   ],
   "source": [
    "movies_df.info()"
   ]
  },
  {
   "cell_type": "markdown",
   "metadata": {},
   "source": [
    "###  類別標籤編碼"
   ]
  },
  {
   "cell_type": "code",
   "execution_count": 6,
   "metadata": {},
   "outputs": [],
   "source": [
    "from sklearn.preprocessing import LabelEncoder"
   ]
  },
  {
   "cell_type": "markdown",
   "metadata": {},
   "source": [
    "original_language"
   ]
  },
  {
   "cell_type": "code",
   "execution_count": 7,
   "metadata": {},
   "outputs": [
    {
     "data": {
      "text/plain": [
       "array([14, 14, 14, ..., 12, 14, 19])"
      ]
     },
     "execution_count": 7,
     "metadata": {},
     "output_type": "execute_result"
    }
   ],
   "source": [
    "le_lang = LabelEncoder()\n",
    "label_language = le_lang.fit_transform(movies_df['original_language'].values)\n",
    "label_language"
   ]
  },
  {
   "cell_type": "code",
   "execution_count": 8,
   "metadata": {},
   "outputs": [
    {
     "data": {
      "text/plain": [
       "array(['en', 'en', 'en', ..., 'de', 'en', 'fr'], dtype=object)"
      ]
     },
     "execution_count": 8,
     "metadata": {},
     "output_type": "execute_result"
    }
   ],
   "source": [
    "le_lang.inverse_transform(label_language)"
   ]
  },
  {
   "cell_type": "code",
   "execution_count": 9,
   "metadata": {},
   "outputs": [],
   "source": [
    "movies_df['original_language'] = label_language"
   ]
  },
  {
   "cell_type": "markdown",
   "metadata": {},
   "source": [
    "distributor"
   ]
  },
  {
   "cell_type": "code",
   "execution_count": 10,
   "metadata": {},
   "outputs": [
    {
     "data": {
      "text/plain": [
       "array([192, 364, 511, ..., 170, 116, 505])"
      ]
     },
     "execution_count": 10,
     "metadata": {},
     "output_type": "execute_result"
    }
   ],
   "source": [
    "le_dis = LabelEncoder()\n",
    "label_distributor = le_dis.fit_transform(movies_df['distributor'].values)\n",
    "label_distributor"
   ]
  },
  {
   "cell_type": "code",
   "execution_count": 11,
   "metadata": {},
   "outputs": [
    {
     "data": {
      "text/plain": [
       "array(['Fox', 'Paramount', 'Warner Bros.', ..., 'Film Movement',\n",
       "       'Cinema Libre Studio', 'Viva Pictures Distribution'], dtype=object)"
      ]
     },
     "execution_count": 11,
     "metadata": {},
     "output_type": "execute_result"
    }
   ],
   "source": [
    "le_dis.inverse_transform(label_distributor)"
   ]
  },
  {
   "cell_type": "code",
   "execution_count": 12,
   "metadata": {},
   "outputs": [],
   "source": [
    "movies_df['distributor'] = label_distributor"
   ]
  },
  {
   "cell_type": "markdown",
   "metadata": {},
   "source": [
    "genres"
   ]
  },
  {
   "cell_type": "code",
   "execution_count": 13,
   "metadata": {},
   "outputs": [
    {
     "data": {
      "text/plain": [
       "array([ 56, 159,   7, ..., 130, 638, 311])"
      ]
     },
     "execution_count": 13,
     "metadata": {},
     "output_type": "execute_result"
    }
   ],
   "source": [
    "le_gen = LabelEncoder()\n",
    "label_genres = le_gen.fit_transform(movies_df['genres'].values)\n",
    "label_genres"
   ]
  },
  {
   "cell_type": "code",
   "execution_count": 14,
   "metadata": {},
   "outputs": [
    {
     "data": {
      "text/plain": [
       "array(['[12, 14, 28, 878]', '[12, 28, 878]', '[12, 14, 10751]', ...,\n",
       "       '[12, 18]', '[99]', '[16, 35]'], dtype=object)"
      ]
     },
     "execution_count": 14,
     "metadata": {},
     "output_type": "execute_result"
    }
   ],
   "source": [
    "le_gen.inverse_transform(label_genres)"
   ]
  },
  {
   "cell_type": "code",
   "execution_count": 15,
   "metadata": {},
   "outputs": [],
   "source": [
    "movies_df['genres'] = label_genres"
   ]
  },
  {
   "cell_type": "markdown",
   "metadata": {},
   "source": [
    "top3_cast"
   ]
  },
  {
   "cell_type": "code",
   "execution_count": 16,
   "metadata": {},
   "outputs": [
    {
     "data": {
      "text/plain": [
       "array([4763,  332,  342, ..., 2081, 5902,  632])"
      ]
     },
     "execution_count": 16,
     "metadata": {},
     "output_type": "execute_result"
    }
   ],
   "source": [
    "le_cast_pkg = LabelEncoder()\n",
    "label_top3_cast = le_cast_pkg.fit_transform(movies_df['top3_cast'].values)\n",
    "label_top3_cast"
   ]
  },
  {
   "cell_type": "code",
   "execution_count": 17,
   "metadata": {},
   "outputs": [
    {
     "data": {
      "text/plain": [
       "array(['[65731, 8691, 32747]', '[10959, 19537, 19536]',\n",
       "       '[10980, 10989, 10990]', ..., '[17373, 49204, 1846]', 'unknown',\n",
       "       '[1165008, 118178, 37181]'], dtype=object)"
      ]
     },
     "execution_count": 17,
     "metadata": {},
     "output_type": "execute_result"
    }
   ],
   "source": [
    "le_cast_pkg.inverse_transform(label_top3_cast)"
   ]
  },
  {
   "cell_type": "code",
   "execution_count": 18,
   "metadata": {},
   "outputs": [],
   "source": [
    "movies_df['top3_cast'] = label_top3_cast"
   ]
  },
  {
   "cell_type": "markdown",
   "metadata": {},
   "source": [
    "cast"
   ]
  },
  {
   "cell_type": "code",
   "execution_count": 19,
   "metadata": {},
   "outputs": [
    {
     "data": {
      "text/plain": [
       "array([3003,  250,  254, ..., 1530, 3671,  442])"
      ]
     },
     "execution_count": 19,
     "metadata": {},
     "output_type": "execute_result"
    }
   ],
   "source": [
    "le_cast = LabelEncoder()\n",
    "label_1st_cast = le_cast.fit_transform(movies_df['1st_cast'].values)\n",
    "label_1st_cast"
   ]
  },
  {
   "cell_type": "code",
   "execution_count": 20,
   "metadata": {},
   "outputs": [
    {
     "data": {
      "text/plain": [
       "array([3769, 1872,  252, ..., 2785, 4066,  532])"
      ]
     },
     "execution_count": 20,
     "metadata": {},
     "output_type": "execute_result"
    }
   ],
   "source": [
    "label_2nd_cast = le_cast.fit_transform(movies_df['2nd_cast'].values)\n",
    "label_2nd_cast"
   ]
  },
  {
   "cell_type": "code",
   "execution_count": 21,
   "metadata": {},
   "outputs": [
    {
     "data": {
      "text/plain": [
       "array([2676, 2001,  270, ..., 1881, 4316, 2771])"
      ]
     },
     "execution_count": 21,
     "metadata": {},
     "output_type": "execute_result"
    }
   ],
   "source": [
    "label_3rd_cast = le_cast.fit_transform(movies_df['3rd_cast'].values)\n",
    "label_3rd_cast"
   ]
  },
  {
   "cell_type": "code",
   "execution_count": 22,
   "metadata": {},
   "outputs": [],
   "source": [
    "movies_df['1st_cast'] = label_1st_cast\n",
    "movies_df['2nd_cast'] = label_2nd_cast\n",
    "movies_df['3rd_cast'] = label_3rd_cast"
   ]
  },
  {
   "cell_type": "markdown",
   "metadata": {},
   "source": [
    "director"
   ]
  },
  {
   "cell_type": "code",
   "execution_count": 23,
   "metadata": {},
   "outputs": [
    {
     "data": {
      "text/plain": [
       "array([2762, 4023,  545, ..., 3085, 3702, 2108])"
      ]
     },
     "execution_count": 23,
     "metadata": {},
     "output_type": "execute_result"
    }
   ],
   "source": [
    "le_drt = LabelEncoder()\n",
    "label_director = le_drt.fit_transform(movies_df['director_id'].values)\n",
    "label_director"
   ]
  },
  {
   "cell_type": "code",
   "execution_count": 24,
   "metadata": {},
   "outputs": [],
   "source": [
    "movies_df['director_id'] = label_director"
   ]
  },
  {
   "cell_type": "markdown",
   "metadata": {},
   "source": [
    "sentiment_level"
   ]
  },
  {
   "cell_type": "code",
   "execution_count": 25,
   "metadata": {},
   "outputs": [
    {
     "data": {
      "text/plain": [
       "array([3, 3, 3, ..., 0, 3, 3])"
      ]
     },
     "execution_count": 25,
     "metadata": {},
     "output_type": "execute_result"
    }
   ],
   "source": [
    "le_sen = LabelEncoder()\n",
    "label_bf_release = le_sen.fit_transform(movies_df['sentiment_level_before_release'].values)\n",
    "label_bf_release"
   ]
  },
  {
   "cell_type": "code",
   "execution_count": 26,
   "metadata": {},
   "outputs": [],
   "source": [
    "movies_df['sentiment_level_before_release'] = label_bf_release"
   ]
  },
  {
   "cell_type": "code",
   "execution_count": 27,
   "metadata": {},
   "outputs": [
    {
     "data": {
      "text/plain": [
       "array(['unknown', 'unknown', 'unknown', ..., 'negative', 'unknown',\n",
       "       'unknown'], dtype=object)"
      ]
     },
     "execution_count": 27,
     "metadata": {},
     "output_type": "execute_result"
    }
   ],
   "source": [
    "le_sen.inverse_transform(label_bf_release)"
   ]
  },
  {
   "cell_type": "markdown",
   "metadata": {},
   "source": [
    "### Change datatype"
   ]
  },
  {
   "cell_type": "code",
   "execution_count": 28,
   "metadata": {},
   "outputs": [],
   "source": [
    "movies_df['Release_date'] = movies_df['Release_date'].astype('datetime64')"
   ]
  },
  {
   "cell_type": "code",
   "execution_count": 29,
   "metadata": {},
   "outputs": [],
   "source": [
    "movies_df['release_in_holidayweek'] = movies_df['release_in_holidayweek'].astype('int32')\n",
    "movies_df['homepage'] = movies_df['homepage'].astype('int32')\n",
    "movies_df['have_comments'] = movies_df['have_comments'].astype('int32')"
   ]
  },
  {
   "cell_type": "code",
   "execution_count": 30,
   "metadata": {
    "scrolled": false
   },
   "outputs": [
    {
     "name": "stdout",
     "output_type": "stream",
     "text": [
      "<class 'pandas.core.frame.DataFrame'>\n",
      "RangeIndex: 6296 entries, 0 to 6295\n",
      "Data columns (total 74 columns):\n",
      "tmdb_id                           6296 non-null float64\n",
      "mojo_title                        6296 non-null object\n",
      "original_title                    6296 non-null object\n",
      "tagline                           3619 non-null object\n",
      "collection_id                     668 non-null float64\n",
      "budget                            2401 non-null float64\n",
      "Total_gross                       6296 non-null int64\n",
      "comments_total_qty                6296 non-null float64\n",
      "sc_negative                       6296 non-null float64\n",
      "sc_neutral                        6296 non-null float64\n",
      "sc_positive                       6296 non-null float64\n",
      "total_sentiment_level             6296 non-null object\n",
      "holidayweek                       1019 non-null object\n",
      "Release_date                      6296 non-null datetime64[ns]\n",
      "Release_year                      6296 non-null int64\n",
      "Release_month                     6296 non-null int64\n",
      "Release_weekday                   6296 non-null int64\n",
      "release_in_holidayweek            6296 non-null int32\n",
      "original_language                 6296 non-null int32\n",
      "distributor                       6296 non-null int32\n",
      "belongs_to_collection             6296 non-null int64\n",
      "homepage                          6296 non-null int32\n",
      "genres                            6296 non-null int32\n",
      "Adventure                         6296 non-null int64\n",
      "Fantasy                           6296 non-null int64\n",
      "Animation                         6296 non-null int64\n",
      "Drama                             6296 non-null int64\n",
      "Horror                            6296 non-null int64\n",
      "Action                            6296 non-null int64\n",
      "Comedy                            6296 non-null int64\n",
      "History                           6296 non-null int64\n",
      "Thriller                          6296 non-null int64\n",
      "Crime                             6296 non-null int64\n",
      "Documentary                       6296 non-null int64\n",
      "Science Fiction                   6296 non-null int64\n",
      "Mystery                           6296 non-null int64\n",
      "Romance                           6296 non-null int64\n",
      "Family                            6296 non-null int64\n",
      "genre_others                      6296 non-null int64\n",
      "director_id                       6296 non-null int32\n",
      "top3_cast                         6296 non-null int32\n",
      "1st_cast                          6296 non-null int32\n",
      "2nd_cast                          6296 non-null int32\n",
      "3rd_cast                          6296 non-null int32\n",
      "have_comments                     6296 non-null int32\n",
      "runtime                           6296 non-null float64\n",
      "num_of_genres                     6296 non-null int64\n",
      "num_cast                          6296 non-null int64\n",
      "num_director                      6296 non-null int64\n",
      "num_awardActor                    6296 non-null int64\n",
      "num_nomActor                      6296 non-null int64\n",
      "num_awardDir                      6296 non-null int64\n",
      "comments_qty_before_release       6296 non-null float64\n",
      "comments_pc_before_release        6296 non-null float64\n",
      "sc2_negative                      6296 non-null float64\n",
      "sc2_neutral                       6296 non-null float64\n",
      "sc2_positive                      6296 non-null float64\n",
      "sentiment_level_before_release    6296 non-null int32\n",
      "sc2_negative_pc                   6296 non-null float64\n",
      "sc2_neutral_pc                    6296 non-null float64\n",
      "sc2_positive_pc                   6296 non-null float64\n",
      "comments_bf_1wk                   6296 non-null float64\n",
      "comments_bf_2wk                   6296 non-null float64\n",
      "comments_bf_4wk                   6296 non-null float64\n",
      "num_sp_languages                  6296 non-null int64\n",
      "gdp_deflator                      6296 non-null float64\n",
      "unemployment_rate                 6296 non-null float64\n",
      "gdp_annual_rate                   6296 non-null float64\n",
      "First_week_gross                  6296 non-null int64\n",
      "adj_first_week_gross              6296 non-null float64\n",
      "boxoffice_level                   6296 non-null int64\n",
      "week_boxoffice_level              6296 non-null int64\n",
      "boxoffice_level(4)                6296 non-null int64\n",
      "week_boxoffice_level(4)           6296 non-null int64\n",
      "dtypes: datetime64[ns](1), float64(23), int32(12), int64(33), object(5)\n",
      "memory usage: 3.3+ MB\n"
     ]
    }
   ],
   "source": [
    "movies_df.info()"
   ]
  },
  {
   "cell_type": "markdown",
   "metadata": {},
   "source": [
    "## Clustering analysis"
   ]
  },
  {
   "cell_type": "code",
   "execution_count": 366,
   "metadata": {},
   "outputs": [
    {
     "data": {
      "text/plain": [
       "(74953, 15)"
      ]
     },
     "execution_count": 366,
     "metadata": {},
     "output_type": "execute_result"
    }
   ],
   "source": [
    "cast_name = pd.read_csv('D:/Movie/actor_list.csv')\n",
    "cast_name.shape"
   ]
  },
  {
   "cell_type": "code",
   "execution_count": 367,
   "metadata": {},
   "outputs": [
    {
     "data": {
      "text/html": [
       "<div>\n",
       "<style scoped>\n",
       "    .dataframe tbody tr th:only-of-type {\n",
       "        vertical-align: middle;\n",
       "    }\n",
       "\n",
       "    .dataframe tbody tr th {\n",
       "        vertical-align: top;\n",
       "    }\n",
       "\n",
       "    .dataframe thead th {\n",
       "        text-align: right;\n",
       "    }\n",
       "</style>\n",
       "<table border=\"1\" class=\"dataframe\">\n",
       "  <thead>\n",
       "    <tr style=\"text-align: right;\">\n",
       "      <th></th>\n",
       "      <th>id</th>\n",
       "      <th>name</th>\n",
       "      <th>gender</th>\n",
       "      <th>boxoffice_2009</th>\n",
       "      <th>boxoffice_2010</th>\n",
       "      <th>boxoffice_2011</th>\n",
       "      <th>boxoffice_2012</th>\n",
       "      <th>boxoffice_2013</th>\n",
       "      <th>boxoffice_2014</th>\n",
       "      <th>boxoffice_2015</th>\n",
       "      <th>boxoffice_2016</th>\n",
       "      <th>boxoffice_2017</th>\n",
       "      <th>boxoffice_2018</th>\n",
       "      <th>boxoffice_2019</th>\n",
       "      <th>boxoffice</th>\n",
       "    </tr>\n",
       "  </thead>\n",
       "  <tbody>\n",
       "    <tr>\n",
       "      <th>0</th>\n",
       "      <td>1</td>\n",
       "      <td>George Lucas</td>\n",
       "      <td>2</td>\n",
       "      <td>0</td>\n",
       "      <td>0</td>\n",
       "      <td>0</td>\n",
       "      <td>0</td>\n",
       "      <td>3078</td>\n",
       "      <td>0</td>\n",
       "      <td>0</td>\n",
       "      <td>0</td>\n",
       "      <td>0</td>\n",
       "      <td>0</td>\n",
       "      <td>0</td>\n",
       "      <td>3078</td>\n",
       "    </tr>\n",
       "    <tr>\n",
       "      <th>1</th>\n",
       "      <td>2</td>\n",
       "      <td>Mark Hamill</td>\n",
       "      <td>2</td>\n",
       "      <td>0</td>\n",
       "      <td>0</td>\n",
       "      <td>0</td>\n",
       "      <td>0</td>\n",
       "      <td>0</td>\n",
       "      <td>0</td>\n",
       "      <td>936662225</td>\n",
       "      <td>3775000</td>\n",
       "      <td>620714051</td>\n",
       "      <td>5795524</td>\n",
       "      <td>29208403</td>\n",
       "      <td>1596155203</td>\n",
       "    </tr>\n",
       "    <tr>\n",
       "      <th>2</th>\n",
       "      <td>3</td>\n",
       "      <td>Harrison Ford</td>\n",
       "      <td>2</td>\n",
       "      <td>455654</td>\n",
       "      <td>43080045</td>\n",
       "      <td>100240551</td>\n",
       "      <td>248159971</td>\n",
       "      <td>164142419</td>\n",
       "      <td>39322544</td>\n",
       "      <td>979292001</td>\n",
       "      <td>0</td>\n",
       "      <td>92054159</td>\n",
       "      <td>0</td>\n",
       "      <td>19740</td>\n",
       "      <td>1666767084</td>\n",
       "    </tr>\n",
       "    <tr>\n",
       "      <th>3</th>\n",
       "      <td>4</td>\n",
       "      <td>Carrie Fisher</td>\n",
       "      <td>1</td>\n",
       "      <td>0</td>\n",
       "      <td>0</td>\n",
       "      <td>356149</td>\n",
       "      <td>0</td>\n",
       "      <td>0</td>\n",
       "      <td>0</td>\n",
       "      <td>936662225</td>\n",
       "      <td>0</td>\n",
       "      <td>620181382</td>\n",
       "      <td>0</td>\n",
       "      <td>0</td>\n",
       "      <td>1557199756</td>\n",
       "    </tr>\n",
       "    <tr>\n",
       "      <th>4</th>\n",
       "      <td>6</td>\n",
       "      <td>Anthony Daniels</td>\n",
       "      <td>2</td>\n",
       "      <td>0</td>\n",
       "      <td>0</td>\n",
       "      <td>0</td>\n",
       "      <td>0</td>\n",
       "      <td>0</td>\n",
       "      <td>0</td>\n",
       "      <td>0</td>\n",
       "      <td>0</td>\n",
       "      <td>0</td>\n",
       "      <td>0</td>\n",
       "      <td>0</td>\n",
       "      <td>0</td>\n",
       "    </tr>\n",
       "  </tbody>\n",
       "</table>\n",
       "</div>"
      ],
      "text/plain": [
       "   id             name  gender  boxoffice_2009  boxoffice_2010  \\\n",
       "0   1     George Lucas       2               0               0   \n",
       "1   2      Mark Hamill       2               0               0   \n",
       "2   3    Harrison Ford       2          455654        43080045   \n",
       "3   4    Carrie Fisher       1               0               0   \n",
       "4   6  Anthony Daniels       2               0               0   \n",
       "\n",
       "   boxoffice_2011  boxoffice_2012  boxoffice_2013  boxoffice_2014  \\\n",
       "0               0               0            3078               0   \n",
       "1               0               0               0               0   \n",
       "2       100240551       248159971       164142419        39322544   \n",
       "3          356149               0               0               0   \n",
       "4               0               0               0               0   \n",
       "\n",
       "   boxoffice_2015  boxoffice_2016  boxoffice_2017  boxoffice_2018  \\\n",
       "0               0               0               0               0   \n",
       "1       936662225         3775000       620714051         5795524   \n",
       "2       979292001               0        92054159               0   \n",
       "3       936662225               0       620181382               0   \n",
       "4               0               0               0               0   \n",
       "\n",
       "   boxoffice_2019   boxoffice  \n",
       "0               0        3078  \n",
       "1        29208403  1596155203  \n",
       "2           19740  1666767084  \n",
       "3               0  1557199756  \n",
       "4               0           0  "
      ]
     },
     "execution_count": 367,
     "metadata": {},
     "output_type": "execute_result"
    }
   ],
   "source": [
    "cast_name.head()"
   ]
  },
  {
   "cell_type": "code",
   "execution_count": 368,
   "metadata": {},
   "outputs": [
    {
     "data": {
      "text/plain": [
       "(9621, 15)"
      ]
     },
     "execution_count": 368,
     "metadata": {},
     "output_type": "execute_result"
    }
   ],
   "source": [
    "cast_name = cast_name[cast_name['boxoffice'] != 0]\n",
    "cast_name.shape"
   ]
  },
  {
   "cell_type": "markdown",
   "metadata": {},
   "source": [
    "### k-means"
   ]
  },
  {
   "cell_type": "code",
   "execution_count": 369,
   "metadata": {},
   "outputs": [],
   "source": [
    "from sklearn.cluster import KMeans"
   ]
  },
  {
   "cell_type": "markdown",
   "metadata": {},
   "source": [
    "#### 演員名單特徵全丟"
   ]
  },
  {
   "cell_type": "code",
   "execution_count": 370,
   "metadata": {},
   "outputs": [
    {
     "data": {
      "text/html": [
       "<div>\n",
       "<style scoped>\n",
       "    .dataframe tbody tr th:only-of-type {\n",
       "        vertical-align: middle;\n",
       "    }\n",
       "\n",
       "    .dataframe tbody tr th {\n",
       "        vertical-align: top;\n",
       "    }\n",
       "\n",
       "    .dataframe thead th {\n",
       "        text-align: right;\n",
       "    }\n",
       "</style>\n",
       "<table border=\"1\" class=\"dataframe\">\n",
       "  <thead>\n",
       "    <tr style=\"text-align: right;\">\n",
       "      <th></th>\n",
       "      <th>gender</th>\n",
       "      <th>boxoffice_2009</th>\n",
       "      <th>boxoffice_2010</th>\n",
       "      <th>boxoffice_2011</th>\n",
       "      <th>boxoffice_2012</th>\n",
       "      <th>boxoffice_2013</th>\n",
       "      <th>boxoffice_2014</th>\n",
       "      <th>boxoffice_2015</th>\n",
       "      <th>boxoffice_2016</th>\n",
       "      <th>boxoffice_2017</th>\n",
       "      <th>boxoffice_2018</th>\n",
       "      <th>boxoffice_2019</th>\n",
       "      <th>boxoffice</th>\n",
       "    </tr>\n",
       "  </thead>\n",
       "  <tbody>\n",
       "    <tr>\n",
       "      <th>0</th>\n",
       "      <td>2</td>\n",
       "      <td>0</td>\n",
       "      <td>0</td>\n",
       "      <td>0</td>\n",
       "      <td>0</td>\n",
       "      <td>3078</td>\n",
       "      <td>0</td>\n",
       "      <td>0</td>\n",
       "      <td>0</td>\n",
       "      <td>0</td>\n",
       "      <td>0</td>\n",
       "      <td>0</td>\n",
       "      <td>3078</td>\n",
       "    </tr>\n",
       "    <tr>\n",
       "      <th>1</th>\n",
       "      <td>2</td>\n",
       "      <td>0</td>\n",
       "      <td>0</td>\n",
       "      <td>0</td>\n",
       "      <td>0</td>\n",
       "      <td>0</td>\n",
       "      <td>0</td>\n",
       "      <td>936662225</td>\n",
       "      <td>3775000</td>\n",
       "      <td>620714051</td>\n",
       "      <td>5795524</td>\n",
       "      <td>29208403</td>\n",
       "      <td>1596155203</td>\n",
       "    </tr>\n",
       "    <tr>\n",
       "      <th>2</th>\n",
       "      <td>2</td>\n",
       "      <td>455654</td>\n",
       "      <td>43080045</td>\n",
       "      <td>100240551</td>\n",
       "      <td>248159971</td>\n",
       "      <td>164142419</td>\n",
       "      <td>39322544</td>\n",
       "      <td>979292001</td>\n",
       "      <td>0</td>\n",
       "      <td>92054159</td>\n",
       "      <td>0</td>\n",
       "      <td>19740</td>\n",
       "      <td>1666767084</td>\n",
       "    </tr>\n",
       "    <tr>\n",
       "      <th>3</th>\n",
       "      <td>1</td>\n",
       "      <td>0</td>\n",
       "      <td>0</td>\n",
       "      <td>356149</td>\n",
       "      <td>0</td>\n",
       "      <td>0</td>\n",
       "      <td>0</td>\n",
       "      <td>936662225</td>\n",
       "      <td>0</td>\n",
       "      <td>620181382</td>\n",
       "      <td>0</td>\n",
       "      <td>0</td>\n",
       "      <td>1557199756</td>\n",
       "    </tr>\n",
       "    <tr>\n",
       "      <th>8</th>\n",
       "      <td>2</td>\n",
       "      <td>0</td>\n",
       "      <td>0</td>\n",
       "      <td>0</td>\n",
       "      <td>380843261</td>\n",
       "      <td>0</td>\n",
       "      <td>0</td>\n",
       "      <td>0</td>\n",
       "      <td>0</td>\n",
       "      <td>0</td>\n",
       "      <td>0</td>\n",
       "      <td>0</td>\n",
       "      <td>380843261</td>\n",
       "    </tr>\n",
       "  </tbody>\n",
       "</table>\n",
       "</div>"
      ],
      "text/plain": [
       "   gender  boxoffice_2009  boxoffice_2010  boxoffice_2011  boxoffice_2012  \\\n",
       "0       2               0               0               0               0   \n",
       "1       2               0               0               0               0   \n",
       "2       2          455654        43080045       100240551       248159971   \n",
       "3       1               0               0          356149               0   \n",
       "8       2               0               0               0       380843261   \n",
       "\n",
       "   boxoffice_2013  boxoffice_2014  boxoffice_2015  boxoffice_2016  \\\n",
       "0            3078               0               0               0   \n",
       "1               0               0       936662225         3775000   \n",
       "2       164142419        39322544       979292001               0   \n",
       "3               0               0       936662225               0   \n",
       "8               0               0               0               0   \n",
       "\n",
       "   boxoffice_2017  boxoffice_2018  boxoffice_2019   boxoffice  \n",
       "0               0               0               0        3078  \n",
       "1       620714051         5795524        29208403  1596155203  \n",
       "2        92054159               0           19740  1666767084  \n",
       "3       620181382               0               0  1557199756  \n",
       "8               0               0               0   380843261  "
      ]
     },
     "execution_count": 370,
     "metadata": {},
     "output_type": "execute_result"
    }
   ],
   "source": [
    "X = cast_name.iloc[:,2:]\n",
    "X.head()"
   ]
  },
  {
   "cell_type": "code",
   "execution_count": 371,
   "metadata": {},
   "outputs": [],
   "source": [
    "distortions = []\n",
    "for i in range(1,11):\n",
    "    km = KMeans(n_clusters=i)\n",
    "    km.fit(X)\n",
    "    distortions.append(km.inertia_)"
   ]
  },
  {
   "cell_type": "code",
   "execution_count": 372,
   "metadata": {},
   "outputs": [],
   "source": [
    "%matplotlib inline\n",
    "sns.set()"
   ]
  },
  {
   "cell_type": "code",
   "execution_count": 373,
   "metadata": {},
   "outputs": [
    {
     "data": {
      "text/plain": [
       "<function matplotlib.pyplot.show(*args, **kw)>"
      ]
     },
     "execution_count": 373,
     "metadata": {},
     "output_type": "execute_result"
    },
    {
     "data": {
      "image/png": "[encoded data removed]",
      "text/plain": [
       "<Figure size 432x288 with 1 Axes>"
      ]
     },
     "metadata": {},
     "output_type": "display_data"
    }
   ],
   "source": [
    "plt.plot(range(1,11), distortions, marker='o')\n",
    "plt.xlabel('Number pf clusters')\n",
    "plt.ylabel('Distortion')\n",
    "plt.show"
   ]
  },
  {
   "cell_type": "code",
   "execution_count": 374,
   "metadata": {},
   "outputs": [],
   "source": [
    "km = KMeans(n_clusters=2)\n",
    "y_km = km.fit_predict(X)"
   ]
  },
  {
   "cell_type": "code",
   "execution_count": 375,
   "metadata": {},
   "outputs": [
    {
     "data": {
      "text/plain": [
       "array([0, 1, 1, ..., 0, 0, 0])"
      ]
     },
     "execution_count": 375,
     "metadata": {},
     "output_type": "execute_result"
    }
   ],
   "source": [
    "y_km"
   ]
  },
  {
   "cell_type": "code",
   "execution_count": 376,
   "metadata": {},
   "outputs": [
    {
     "name": "stdout",
     "output_type": "stream",
     "text": [
      "0 9423\n",
      "1 198\n"
     ]
    }
   ],
   "source": [
    "for i in set(y_km):\n",
    "    print(i,len(X[y_km==i]))"
   ]
  },
  {
   "cell_type": "code",
   "execution_count": 377,
   "metadata": {},
   "outputs": [],
   "source": [
    "%matplotlib inline\n",
    "sns.set()"
   ]
  },
  {
   "cell_type": "code",
   "execution_count": 378,
   "metadata": {
    "scrolled": true
   },
   "outputs": [
    {
     "data": {
      "text/plain": [
       "Text(0, 0.5, 'Box Office Amount')"
      ]
     },
     "execution_count": 378,
     "metadata": {},
     "output_type": "execute_result"
    },
    {
     "data": {
      "image/png": "[encoded data removed]",
      "text/plain": [
       "<Figure size 432x288 with 1 Axes>"
      ]
     },
     "metadata": {},
     "output_type": "display_data"
    }
   ],
   "source": [
    "plt.figure()\n",
    "colors = [name for name, color in mcolors.TABLEAU_COLORS.items()]\n",
    "for i, c in enumerate(set(y_km)):\n",
    "    color = colors[i]\n",
    "    plt.scatter(cast_name['id'][y_km==i],cast_name['boxoffice'][y_km==i], marker='o', s=20, c=color, label= f'cluster{i}')\n",
    "\n",
    "plt.xlabel('id')\n",
    "plt.ylabel('Box Office Amount')"
   ]
  },
  {
   "cell_type": "markdown",
   "metadata": {},
   "source": [
    "### 合併data"
   ]
  },
  {
   "cell_type": "code",
   "execution_count": 379,
   "metadata": {},
   "outputs": [],
   "source": [
    "cast_name['cluster_label'] = y_km"
   ]
  },
  {
   "cell_type": "code",
   "execution_count": 380,
   "metadata": {},
   "outputs": [
    {
     "data": {
      "text/html": [
       "<div>\n",
       "<style scoped>\n",
       "    .dataframe tbody tr th:only-of-type {\n",
       "        vertical-align: middle;\n",
       "    }\n",
       "\n",
       "    .dataframe tbody tr th {\n",
       "        vertical-align: top;\n",
       "    }\n",
       "\n",
       "    .dataframe thead th {\n",
       "        text-align: right;\n",
       "    }\n",
       "</style>\n",
       "<table border=\"1\" class=\"dataframe\">\n",
       "  <thead>\n",
       "    <tr style=\"text-align: right;\">\n",
       "      <th></th>\n",
       "      <th>id</th>\n",
       "      <th>name</th>\n",
       "      <th>gender</th>\n",
       "      <th>boxoffice_2009</th>\n",
       "      <th>boxoffice_2010</th>\n",
       "      <th>boxoffice_2011</th>\n",
       "      <th>boxoffice_2012</th>\n",
       "      <th>boxoffice_2013</th>\n",
       "      <th>boxoffice_2014</th>\n",
       "      <th>boxoffice_2015</th>\n",
       "      <th>boxoffice_2016</th>\n",
       "      <th>boxoffice_2017</th>\n",
       "      <th>boxoffice_2018</th>\n",
       "      <th>boxoffice_2019</th>\n",
       "      <th>boxoffice</th>\n",
       "      <th>cluster_label</th>\n",
       "    </tr>\n",
       "  </thead>\n",
       "  <tbody>\n",
       "    <tr>\n",
       "      <th>0</th>\n",
       "      <td>1</td>\n",
       "      <td>George Lucas</td>\n",
       "      <td>2</td>\n",
       "      <td>0</td>\n",
       "      <td>0</td>\n",
       "      <td>0</td>\n",
       "      <td>0</td>\n",
       "      <td>3078</td>\n",
       "      <td>0</td>\n",
       "      <td>0</td>\n",
       "      <td>0</td>\n",
       "      <td>0</td>\n",
       "      <td>0</td>\n",
       "      <td>0</td>\n",
       "      <td>3078</td>\n",
       "      <td>0</td>\n",
       "    </tr>\n",
       "    <tr>\n",
       "      <th>1</th>\n",
       "      <td>2</td>\n",
       "      <td>Mark Hamill</td>\n",
       "      <td>2</td>\n",
       "      <td>0</td>\n",
       "      <td>0</td>\n",
       "      <td>0</td>\n",
       "      <td>0</td>\n",
       "      <td>0</td>\n",
       "      <td>0</td>\n",
       "      <td>936662225</td>\n",
       "      <td>3775000</td>\n",
       "      <td>620714051</td>\n",
       "      <td>5795524</td>\n",
       "      <td>29208403</td>\n",
       "      <td>1596155203</td>\n",
       "      <td>1</td>\n",
       "    </tr>\n",
       "    <tr>\n",
       "      <th>2</th>\n",
       "      <td>3</td>\n",
       "      <td>Harrison Ford</td>\n",
       "      <td>2</td>\n",
       "      <td>455654</td>\n",
       "      <td>43080045</td>\n",
       "      <td>100240551</td>\n",
       "      <td>248159971</td>\n",
       "      <td>164142419</td>\n",
       "      <td>39322544</td>\n",
       "      <td>979292001</td>\n",
       "      <td>0</td>\n",
       "      <td>92054159</td>\n",
       "      <td>0</td>\n",
       "      <td>19740</td>\n",
       "      <td>1666767084</td>\n",
       "      <td>1</td>\n",
       "    </tr>\n",
       "    <tr>\n",
       "      <th>3</th>\n",
       "      <td>4</td>\n",
       "      <td>Carrie Fisher</td>\n",
       "      <td>1</td>\n",
       "      <td>0</td>\n",
       "      <td>0</td>\n",
       "      <td>356149</td>\n",
       "      <td>0</td>\n",
       "      <td>0</td>\n",
       "      <td>0</td>\n",
       "      <td>936662225</td>\n",
       "      <td>0</td>\n",
       "      <td>620181382</td>\n",
       "      <td>0</td>\n",
       "      <td>0</td>\n",
       "      <td>1557199756</td>\n",
       "      <td>1</td>\n",
       "    </tr>\n",
       "    <tr>\n",
       "      <th>8</th>\n",
       "      <td>12</td>\n",
       "      <td>Alexander Gould</td>\n",
       "      <td>2</td>\n",
       "      <td>0</td>\n",
       "      <td>0</td>\n",
       "      <td>0</td>\n",
       "      <td>380843261</td>\n",
       "      <td>0</td>\n",
       "      <td>0</td>\n",
       "      <td>0</td>\n",
       "      <td>0</td>\n",
       "      <td>0</td>\n",
       "      <td>0</td>\n",
       "      <td>0</td>\n",
       "      <td>380843261</td>\n",
       "      <td>0</td>\n",
       "    </tr>\n",
       "  </tbody>\n",
       "</table>\n",
       "</div>"
      ],
      "text/plain": [
       "   id             name  gender  boxoffice_2009  boxoffice_2010  \\\n",
       "0   1     George Lucas       2               0               0   \n",
       "1   2      Mark Hamill       2               0               0   \n",
       "2   3    Harrison Ford       2          455654        43080045   \n",
       "3   4    Carrie Fisher       1               0               0   \n",
       "8  12  Alexander Gould       2               0               0   \n",
       "\n",
       "   boxoffice_2011  boxoffice_2012  boxoffice_2013  boxoffice_2014  \\\n",
       "0               0               0            3078               0   \n",
       "1               0               0               0               0   \n",
       "2       100240551       248159971       164142419        39322544   \n",
       "3          356149               0               0               0   \n",
       "8               0       380843261               0               0   \n",
       "\n",
       "   boxoffice_2015  boxoffice_2016  boxoffice_2017  boxoffice_2018  \\\n",
       "0               0               0               0               0   \n",
       "1       936662225         3775000       620714051         5795524   \n",
       "2       979292001               0        92054159               0   \n",
       "3       936662225               0       620181382               0   \n",
       "8               0               0               0               0   \n",
       "\n",
       "   boxoffice_2019   boxoffice  cluster_label  \n",
       "0               0        3078              0  \n",
       "1        29208403  1596155203              1  \n",
       "2           19740  1666767084              1  \n",
       "3               0  1557199756              1  \n",
       "8               0   380843261              0  "
      ]
     },
     "execution_count": 380,
     "metadata": {},
     "output_type": "execute_result"
    }
   ],
   "source": [
    "cast_name.head()"
   ]
  },
  {
   "cell_type": "code",
   "execution_count": 381,
   "metadata": {},
   "outputs": [
    {
     "data": {
      "text/plain": [
       "17791901.2330468"
      ]
     },
     "execution_count": 381,
     "metadata": {},
     "output_type": "execute_result"
    }
   ],
   "source": [
    "cast_name[cast_name['cluster_label'] == 0]['boxoffice'].mean()"
   ]
  },
  {
   "cell_type": "code",
   "execution_count": 382,
   "metadata": {},
   "outputs": [
    {
     "data": {
      "text/plain": [
       "961319909.439394"
      ]
     },
     "execution_count": 382,
     "metadata": {},
     "output_type": "execute_result"
    }
   ],
   "source": [
    "cast_name[cast_name['cluster_label'] == 1]['boxoffice'].mean()"
   ]
  },
  {
   "cell_type": "code",
   "execution_count": 383,
   "metadata": {},
   "outputs": [
    {
     "data": {
      "text/plain": [
       "54.03132002856624"
      ]
     },
     "execution_count": 383,
     "metadata": {},
     "output_type": "execute_result"
    }
   ],
   "source": [
    "cast_name[cast_name['cluster_label'] == 1]['boxoffice'].mean() / cast_name[cast_name['cluster_label'] == 0]['boxoffice'].mean()"
   ]
  },
  {
   "cell_type": "code",
   "execution_count": 384,
   "metadata": {},
   "outputs": [
    {
     "data": {
      "text/html": [
       "<div>\n",
       "<style scoped>\n",
       "    .dataframe tbody tr th:only-of-type {\n",
       "        vertical-align: middle;\n",
       "    }\n",
       "\n",
       "    .dataframe tbody tr th {\n",
       "        vertical-align: top;\n",
       "    }\n",
       "\n",
       "    .dataframe thead th {\n",
       "        text-align: right;\n",
       "    }\n",
       "</style>\n",
       "<table border=\"1\" class=\"dataframe\">\n",
       "  <thead>\n",
       "    <tr style=\"text-align: right;\">\n",
       "      <th></th>\n",
       "      <th>tmdb_id</th>\n",
       "      <th>mojo_title</th>\n",
       "      <th>original_title</th>\n",
       "      <th>tagline</th>\n",
       "      <th>collection_id</th>\n",
       "      <th>budget</th>\n",
       "      <th>Total_gross</th>\n",
       "      <th>comments_total_qty</th>\n",
       "      <th>sc_negative</th>\n",
       "      <th>sc_neutral</th>\n",
       "      <th>...</th>\n",
       "      <th>num_sp_languages</th>\n",
       "      <th>gdp_deflator</th>\n",
       "      <th>unemployment_rate</th>\n",
       "      <th>gdp_annual_rate</th>\n",
       "      <th>First_week_gross</th>\n",
       "      <th>adj_first_week_gross</th>\n",
       "      <th>boxoffice_level</th>\n",
       "      <th>week_boxoffice_level</th>\n",
       "      <th>boxoffice_level(4)</th>\n",
       "      <th>week_boxoffice_level(4)</th>\n",
       "    </tr>\n",
       "  </thead>\n",
       "  <tbody>\n",
       "    <tr>\n",
       "      <th>0</th>\n",
       "      <td>19995.0</td>\n",
       "      <td>Avatar</td>\n",
       "      <td>Avatar</td>\n",
       "      <td>Enter the World of Pandora.</td>\n",
       "      <td>87096.0</td>\n",
       "      <td>237000000.0</td>\n",
       "      <td>760507625</td>\n",
       "      <td>0.0</td>\n",
       "      <td>0.0</td>\n",
       "      <td>0.0</td>\n",
       "      <td>...</td>\n",
       "      <td>2</td>\n",
       "      <td>0.76235</td>\n",
       "      <td>9.2542</td>\n",
       "      <td>-2.536757</td>\n",
       "      <td>137094001</td>\n",
       "      <td>1.798308e+08</td>\n",
       "      <td>1</td>\n",
       "      <td>1</td>\n",
       "      <td>1</td>\n",
       "      <td>1</td>\n",
       "    </tr>\n",
       "    <tr>\n",
       "      <th>1</th>\n",
       "      <td>8373.0</td>\n",
       "      <td>Transformers: Revenge of the Fallen</td>\n",
       "      <td>Transformers: Revenge of the Fallen</td>\n",
       "      <td>Revenge is coming.</td>\n",
       "      <td>8650.0</td>\n",
       "      <td>150000000.0</td>\n",
       "      <td>402111870</td>\n",
       "      <td>0.0</td>\n",
       "      <td>0.0</td>\n",
       "      <td>0.0</td>\n",
       "      <td>...</td>\n",
       "      <td>2</td>\n",
       "      <td>0.76235</td>\n",
       "      <td>9.2542</td>\n",
       "      <td>-2.536757</td>\n",
       "      <td>91110948</td>\n",
       "      <td>1.195133e+08</td>\n",
       "      <td>1</td>\n",
       "      <td>1</td>\n",
       "      <td>1</td>\n",
       "      <td>1</td>\n",
       "    </tr>\n",
       "    <tr>\n",
       "      <th>2</th>\n",
       "      <td>767.0</td>\n",
       "      <td>Harry Potter and the Half-Blood Prince</td>\n",
       "      <td>Harry Potter and the Half-Blood Prince</td>\n",
       "      <td>Dark Secrets Revealed</td>\n",
       "      <td>1241.0</td>\n",
       "      <td>250000000.0</td>\n",
       "      <td>302089278</td>\n",
       "      <td>0.0</td>\n",
       "      <td>0.0</td>\n",
       "      <td>0.0</td>\n",
       "      <td>...</td>\n",
       "      <td>1</td>\n",
       "      <td>0.76235</td>\n",
       "      <td>9.2542</td>\n",
       "      <td>-2.536757</td>\n",
       "      <td>80186627</td>\n",
       "      <td>1.051835e+08</td>\n",
       "      <td>1</td>\n",
       "      <td>1</td>\n",
       "      <td>1</td>\n",
       "      <td>1</td>\n",
       "    </tr>\n",
       "    <tr>\n",
       "      <th>3</th>\n",
       "      <td>18239.0</td>\n",
       "      <td>The Twilight Saga: New Moon</td>\n",
       "      <td>The Twilight Saga: New Moon</td>\n",
       "      <td>The Next Chapter Begins.</td>\n",
       "      <td>33514.0</td>\n",
       "      <td>50000000.0</td>\n",
       "      <td>296623634</td>\n",
       "      <td>0.0</td>\n",
       "      <td>0.0</td>\n",
       "      <td>0.0</td>\n",
       "      <td>...</td>\n",
       "      <td>2</td>\n",
       "      <td>0.76235</td>\n",
       "      <td>9.2542</td>\n",
       "      <td>-2.536757</td>\n",
       "      <td>188077665</td>\n",
       "      <td>2.467078e+08</td>\n",
       "      <td>1</td>\n",
       "      <td>1</td>\n",
       "      <td>1</td>\n",
       "      <td>1</td>\n",
       "    </tr>\n",
       "    <tr>\n",
       "      <th>4</th>\n",
       "      <td>14160.0</td>\n",
       "      <td>Up</td>\n",
       "      <td>Up</td>\n",
       "      <td>NaN</td>\n",
       "      <td>NaN</td>\n",
       "      <td>175000000.0</td>\n",
       "      <td>293004164</td>\n",
       "      <td>0.0</td>\n",
       "      <td>0.0</td>\n",
       "      <td>0.0</td>\n",
       "      <td>...</td>\n",
       "      <td>1</td>\n",
       "      <td>0.76235</td>\n",
       "      <td>9.2542</td>\n",
       "      <td>-2.536757</td>\n",
       "      <td>93072435</td>\n",
       "      <td>1.220862e+08</td>\n",
       "      <td>1</td>\n",
       "      <td>1</td>\n",
       "      <td>1</td>\n",
       "      <td>1</td>\n",
       "    </tr>\n",
       "  </tbody>\n",
       "</table>\n",
       "<p>5 rows × 74 columns</p>\n",
       "</div>"
      ],
      "text/plain": [
       "   tmdb_id                              mojo_title  \\\n",
       "0  19995.0                                  Avatar   \n",
       "1   8373.0     Transformers: Revenge of the Fallen   \n",
       "2    767.0  Harry Potter and the Half-Blood Prince   \n",
       "3  18239.0             The Twilight Saga: New Moon   \n",
       "4  14160.0                                      Up   \n",
       "\n",
       "                           original_title                      tagline  \\\n",
       "0                                  Avatar  Enter the World of Pandora.   \n",
       "1     Transformers: Revenge of the Fallen           Revenge is coming.   \n",
       "2  Harry Potter and the Half-Blood Prince        Dark Secrets Revealed   \n",
       "3             The Twilight Saga: New Moon     The Next Chapter Begins.   \n",
       "4                                      Up                          NaN   \n",
       "\n",
       "   collection_id       budget  Total_gross  comments_total_qty  sc_negative  \\\n",
       "0        87096.0  237000000.0    760507625                 0.0          0.0   \n",
       "1         8650.0  150000000.0    402111870                 0.0          0.0   \n",
       "2         1241.0  250000000.0    302089278                 0.0          0.0   \n",
       "3        33514.0   50000000.0    296623634                 0.0          0.0   \n",
       "4            NaN  175000000.0    293004164                 0.0          0.0   \n",
       "\n",
       "   sc_neutral  ...  num_sp_languages gdp_deflator unemployment_rate  \\\n",
       "0         0.0  ...                 2      0.76235            9.2542   \n",
       "1         0.0  ...                 2      0.76235            9.2542   \n",
       "2         0.0  ...                 1      0.76235            9.2542   \n",
       "3         0.0  ...                 2      0.76235            9.2542   \n",
       "4         0.0  ...                 1      0.76235            9.2542   \n",
       "\n",
       "  gdp_annual_rate  First_week_gross  adj_first_week_gross  boxoffice_level  \\\n",
       "0       -2.536757         137094001          1.798308e+08                1   \n",
       "1       -2.536757          91110948          1.195133e+08                1   \n",
       "2       -2.536757          80186627          1.051835e+08                1   \n",
       "3       -2.536757         188077665          2.467078e+08                1   \n",
       "4       -2.536757          93072435          1.220862e+08                1   \n",
       "\n",
       "   week_boxoffice_level boxoffice_level(4) week_boxoffice_level(4)  \n",
       "0                     1                  1                       1  \n",
       "1                     1                  1                       1  \n",
       "2                     1                  1                       1  \n",
       "3                     1                  1                       1  \n",
       "4                     1                  1                       1  \n",
       "\n",
       "[5 rows x 74 columns]"
      ]
     },
     "execution_count": 384,
     "metadata": {},
     "output_type": "execute_result"
    }
   ],
   "source": [
    "movies_df.head()"
   ]
  },
  {
   "cell_type": "code",
   "execution_count": 385,
   "metadata": {},
   "outputs": [
    {
     "data": {
      "text/html": [
       "<div>\n",
       "<style scoped>\n",
       "    .dataframe tbody tr th:only-of-type {\n",
       "        vertical-align: middle;\n",
       "    }\n",
       "\n",
       "    .dataframe tbody tr th {\n",
       "        vertical-align: top;\n",
       "    }\n",
       "\n",
       "    .dataframe thead th {\n",
       "        text-align: right;\n",
       "    }\n",
       "</style>\n",
       "<table border=\"1\" class=\"dataframe\">\n",
       "  <thead>\n",
       "    <tr style=\"text-align: right;\">\n",
       "      <th></th>\n",
       "      <th>id</th>\n",
       "      <th>name</th>\n",
       "      <th>gender</th>\n",
       "      <th>boxoffice_2009</th>\n",
       "      <th>boxoffice_2010</th>\n",
       "      <th>boxoffice_2011</th>\n",
       "      <th>boxoffice_2012</th>\n",
       "      <th>boxoffice_2013</th>\n",
       "      <th>boxoffice_2014</th>\n",
       "      <th>boxoffice_2015</th>\n",
       "      <th>boxoffice_2016</th>\n",
       "      <th>boxoffice_2017</th>\n",
       "      <th>boxoffice_2018</th>\n",
       "      <th>boxoffice_2019</th>\n",
       "      <th>boxoffice</th>\n",
       "      <th>cluster_label</th>\n",
       "    </tr>\n",
       "  </thead>\n",
       "  <tbody>\n",
       "    <tr>\n",
       "      <th>0</th>\n",
       "      <td>1</td>\n",
       "      <td>George Lucas</td>\n",
       "      <td>2</td>\n",
       "      <td>0</td>\n",
       "      <td>0</td>\n",
       "      <td>0</td>\n",
       "      <td>0</td>\n",
       "      <td>3078</td>\n",
       "      <td>0</td>\n",
       "      <td>0</td>\n",
       "      <td>0</td>\n",
       "      <td>0</td>\n",
       "      <td>0</td>\n",
       "      <td>0</td>\n",
       "      <td>3078</td>\n",
       "      <td>0</td>\n",
       "    </tr>\n",
       "    <tr>\n",
       "      <th>1</th>\n",
       "      <td>2</td>\n",
       "      <td>Mark Hamill</td>\n",
       "      <td>2</td>\n",
       "      <td>0</td>\n",
       "      <td>0</td>\n",
       "      <td>0</td>\n",
       "      <td>0</td>\n",
       "      <td>0</td>\n",
       "      <td>0</td>\n",
       "      <td>936662225</td>\n",
       "      <td>3775000</td>\n",
       "      <td>620714051</td>\n",
       "      <td>5795524</td>\n",
       "      <td>29208403</td>\n",
       "      <td>1596155203</td>\n",
       "      <td>1</td>\n",
       "    </tr>\n",
       "    <tr>\n",
       "      <th>2</th>\n",
       "      <td>3</td>\n",
       "      <td>Harrison Ford</td>\n",
       "      <td>2</td>\n",
       "      <td>455654</td>\n",
       "      <td>43080045</td>\n",
       "      <td>100240551</td>\n",
       "      <td>248159971</td>\n",
       "      <td>164142419</td>\n",
       "      <td>39322544</td>\n",
       "      <td>979292001</td>\n",
       "      <td>0</td>\n",
       "      <td>92054159</td>\n",
       "      <td>0</td>\n",
       "      <td>19740</td>\n",
       "      <td>1666767084</td>\n",
       "      <td>1</td>\n",
       "    </tr>\n",
       "    <tr>\n",
       "      <th>3</th>\n",
       "      <td>4</td>\n",
       "      <td>Carrie Fisher</td>\n",
       "      <td>1</td>\n",
       "      <td>0</td>\n",
       "      <td>0</td>\n",
       "      <td>356149</td>\n",
       "      <td>0</td>\n",
       "      <td>0</td>\n",
       "      <td>0</td>\n",
       "      <td>936662225</td>\n",
       "      <td>0</td>\n",
       "      <td>620181382</td>\n",
       "      <td>0</td>\n",
       "      <td>0</td>\n",
       "      <td>1557199756</td>\n",
       "      <td>1</td>\n",
       "    </tr>\n",
       "    <tr>\n",
       "      <th>8</th>\n",
       "      <td>12</td>\n",
       "      <td>Alexander Gould</td>\n",
       "      <td>2</td>\n",
       "      <td>0</td>\n",
       "      <td>0</td>\n",
       "      <td>0</td>\n",
       "      <td>380843261</td>\n",
       "      <td>0</td>\n",
       "      <td>0</td>\n",
       "      <td>0</td>\n",
       "      <td>0</td>\n",
       "      <td>0</td>\n",
       "      <td>0</td>\n",
       "      <td>0</td>\n",
       "      <td>380843261</td>\n",
       "      <td>0</td>\n",
       "    </tr>\n",
       "  </tbody>\n",
       "</table>\n",
       "</div>"
      ],
      "text/plain": [
       "   id             name  gender  boxoffice_2009  boxoffice_2010  \\\n",
       "0   1     George Lucas       2               0               0   \n",
       "1   2      Mark Hamill       2               0               0   \n",
       "2   3    Harrison Ford       2          455654        43080045   \n",
       "3   4    Carrie Fisher       1               0               0   \n",
       "8  12  Alexander Gould       2               0               0   \n",
       "\n",
       "   boxoffice_2011  boxoffice_2012  boxoffice_2013  boxoffice_2014  \\\n",
       "0               0               0            3078               0   \n",
       "1               0               0               0               0   \n",
       "2       100240551       248159971       164142419        39322544   \n",
       "3          356149               0               0               0   \n",
       "8               0       380843261               0               0   \n",
       "\n",
       "   boxoffice_2015  boxoffice_2016  boxoffice_2017  boxoffice_2018  \\\n",
       "0               0               0               0               0   \n",
       "1       936662225         3775000       620714051         5795524   \n",
       "2       979292001               0        92054159               0   \n",
       "3       936662225               0       620181382               0   \n",
       "8               0               0               0               0   \n",
       "\n",
       "   boxoffice_2019   boxoffice  cluster_label  \n",
       "0               0        3078              0  \n",
       "1        29208403  1596155203              1  \n",
       "2           19740  1666767084              1  \n",
       "3               0  1557199756              1  \n",
       "8               0   380843261              0  "
      ]
     },
     "execution_count": 385,
     "metadata": {},
     "output_type": "execute_result"
    }
   ],
   "source": [
    "cast_name.head()"
   ]
  },
  {
   "cell_type": "code",
   "execution_count": 386,
   "metadata": {},
   "outputs": [
    {
     "data": {
      "text/html": [
       "<div>\n",
       "<style scoped>\n",
       "    .dataframe tbody tr th:only-of-type {\n",
       "        vertical-align: middle;\n",
       "    }\n",
       "\n",
       "    .dataframe tbody tr th {\n",
       "        vertical-align: top;\n",
       "    }\n",
       "\n",
       "    .dataframe thead th {\n",
       "        text-align: right;\n",
       "    }\n",
       "</style>\n",
       "<table border=\"1\" class=\"dataframe\">\n",
       "  <thead>\n",
       "    <tr style=\"text-align: right;\">\n",
       "      <th></th>\n",
       "      <th>id</th>\n",
       "      <th>name</th>\n",
       "      <th>gender</th>\n",
       "      <th>cluster_label</th>\n",
       "    </tr>\n",
       "  </thead>\n",
       "  <tbody>\n",
       "    <tr>\n",
       "      <th>0</th>\n",
       "      <td>1</td>\n",
       "      <td>George Lucas</td>\n",
       "      <td>2</td>\n",
       "      <td>0</td>\n",
       "    </tr>\n",
       "    <tr>\n",
       "      <th>1</th>\n",
       "      <td>2</td>\n",
       "      <td>Mark Hamill</td>\n",
       "      <td>2</td>\n",
       "      <td>1</td>\n",
       "    </tr>\n",
       "    <tr>\n",
       "      <th>2</th>\n",
       "      <td>3</td>\n",
       "      <td>Harrison Ford</td>\n",
       "      <td>2</td>\n",
       "      <td>1</td>\n",
       "    </tr>\n",
       "    <tr>\n",
       "      <th>3</th>\n",
       "      <td>4</td>\n",
       "      <td>Carrie Fisher</td>\n",
       "      <td>1</td>\n",
       "      <td>1</td>\n",
       "    </tr>\n",
       "    <tr>\n",
       "      <th>8</th>\n",
       "      <td>12</td>\n",
       "      <td>Alexander Gould</td>\n",
       "      <td>2</td>\n",
       "      <td>0</td>\n",
       "    </tr>\n",
       "  </tbody>\n",
       "</table>\n",
       "</div>"
      ],
      "text/plain": [
       "   id             name  gender  cluster_label\n",
       "0   1     George Lucas       2              0\n",
       "1   2      Mark Hamill       2              1\n",
       "2   3    Harrison Ford       2              1\n",
       "3   4    Carrie Fisher       1              1\n",
       "8  12  Alexander Gould       2              0"
      ]
     },
     "execution_count": 386,
     "metadata": {},
     "output_type": "execute_result"
    }
   ],
   "source": [
    "cast_name = cast_name.iloc[:,[0,1,2,-1]]\n",
    "cast_name.head()"
   ]
  },
  {
   "cell_type": "code",
   "execution_count": 387,
   "metadata": {},
   "outputs": [
    {
     "data": {
      "text/html": [
       "<div>\n",
       "<style scoped>\n",
       "    .dataframe tbody tr th:only-of-type {\n",
       "        vertical-align: middle;\n",
       "    }\n",
       "\n",
       "    .dataframe tbody tr th {\n",
       "        vertical-align: top;\n",
       "    }\n",
       "\n",
       "    .dataframe thead th {\n",
       "        text-align: right;\n",
       "    }\n",
       "</style>\n",
       "<table border=\"1\" class=\"dataframe\">\n",
       "  <thead>\n",
       "    <tr style=\"text-align: right;\">\n",
       "      <th>week_boxoffice_level(4)</th>\n",
       "      <th>level1</th>\n",
       "      <th>level2</th>\n",
       "      <th>level3</th>\n",
       "      <th>level4</th>\n",
       "    </tr>\n",
       "    <tr>\n",
       "      <th>1st_cast</th>\n",
       "      <th></th>\n",
       "      <th></th>\n",
       "      <th></th>\n",
       "      <th></th>\n",
       "    </tr>\n",
       "  </thead>\n",
       "  <tbody>\n",
       "    <tr>\n",
       "      <th>10001.0</th>\n",
       "      <td>0.0</td>\n",
       "      <td>0.0</td>\n",
       "      <td>0.0</td>\n",
       "      <td>1.0</td>\n",
       "    </tr>\n",
       "    <tr>\n",
       "      <th>1000391.0</th>\n",
       "      <td>0.0</td>\n",
       "      <td>0.0</td>\n",
       "      <td>0.0</td>\n",
       "      <td>1.0</td>\n",
       "    </tr>\n",
       "    <tr>\n",
       "      <th>1000980.0</th>\n",
       "      <td>0.0</td>\n",
       "      <td>0.0</td>\n",
       "      <td>0.0</td>\n",
       "      <td>1.0</td>\n",
       "    </tr>\n",
       "    <tr>\n",
       "      <th>1001657.0</th>\n",
       "      <td>1.0</td>\n",
       "      <td>0.0</td>\n",
       "      <td>0.0</td>\n",
       "      <td>0.0</td>\n",
       "    </tr>\n",
       "    <tr>\n",
       "      <th>1001828.0</th>\n",
       "      <td>0.0</td>\n",
       "      <td>0.0</td>\n",
       "      <td>0.0</td>\n",
       "      <td>1.0</td>\n",
       "    </tr>\n",
       "  </tbody>\n",
       "</table>\n",
       "</div>"
      ],
      "text/plain": [
       "week_boxoffice_level(4)  level1  level2  level3  level4\n",
       "1st_cast                                               \n",
       "10001.0                     0.0     0.0     0.0     1.0\n",
       "1000391.0                   0.0     0.0     0.0     1.0\n",
       "1000980.0                   0.0     0.0     0.0     1.0\n",
       "1001657.0                   1.0     0.0     0.0     0.0\n",
       "1001828.0                   0.0     0.0     0.0     1.0"
      ]
     },
     "execution_count": 387,
     "metadata": {},
     "output_type": "execute_result"
    }
   ],
   "source": [
    "temp = movies_df.pivot_table(index='1st_cast', columns='week_boxoffice_level(4)', values='tmdb_id', aggfunc='count')\n",
    "temp.rename(columns={'1st_cast':'id', 1:'level1',2:'level2',3:'level3',4:'level4'}, inplace=True)\n",
    "temp.fillna(0, inplace=True)\n",
    "temp.head()"
   ]
  },
  {
   "cell_type": "code",
   "execution_count": 388,
   "metadata": {},
   "outputs": [
    {
     "data": {
      "text/html": [
       "<div>\n",
       "<style scoped>\n",
       "    .dataframe tbody tr th:only-of-type {\n",
       "        vertical-align: middle;\n",
       "    }\n",
       "\n",
       "    .dataframe tbody tr th {\n",
       "        vertical-align: top;\n",
       "    }\n",
       "\n",
       "    .dataframe thead th {\n",
       "        text-align: right;\n",
       "    }\n",
       "</style>\n",
       "<table border=\"1\" class=\"dataframe\">\n",
       "  <thead>\n",
       "    <tr style=\"text-align: right;\">\n",
       "      <th>week_boxoffice_level(4)</th>\n",
       "      <th>level1</th>\n",
       "      <th>level2</th>\n",
       "      <th>level3</th>\n",
       "      <th>level4</th>\n",
       "    </tr>\n",
       "    <tr>\n",
       "      <th>2nd_cast</th>\n",
       "      <th></th>\n",
       "      <th></th>\n",
       "      <th></th>\n",
       "      <th></th>\n",
       "    </tr>\n",
       "  </thead>\n",
       "  <tbody>\n",
       "    <tr>\n",
       "      <th>100.0</th>\n",
       "      <td>0.0</td>\n",
       "      <td>0.0</td>\n",
       "      <td>0.0</td>\n",
       "      <td>3.0</td>\n",
       "    </tr>\n",
       "    <tr>\n",
       "      <th>1000094.0</th>\n",
       "      <td>0.0</td>\n",
       "      <td>0.0</td>\n",
       "      <td>0.0</td>\n",
       "      <td>1.0</td>\n",
       "    </tr>\n",
       "    <tr>\n",
       "      <th>1000873.0</th>\n",
       "      <td>0.0</td>\n",
       "      <td>0.0</td>\n",
       "      <td>0.0</td>\n",
       "      <td>1.0</td>\n",
       "    </tr>\n",
       "    <tr>\n",
       "      <th>1001657.0</th>\n",
       "      <td>0.0</td>\n",
       "      <td>0.0</td>\n",
       "      <td>0.0</td>\n",
       "      <td>1.0</td>\n",
       "    </tr>\n",
       "    <tr>\n",
       "      <th>1001727.0</th>\n",
       "      <td>0.0</td>\n",
       "      <td>0.0</td>\n",
       "      <td>0.0</td>\n",
       "      <td>1.0</td>\n",
       "    </tr>\n",
       "  </tbody>\n",
       "</table>\n",
       "</div>"
      ],
      "text/plain": [
       "week_boxoffice_level(4)  level1  level2  level3  level4\n",
       "2nd_cast                                               \n",
       "100.0                       0.0     0.0     0.0     3.0\n",
       "1000094.0                   0.0     0.0     0.0     1.0\n",
       "1000873.0                   0.0     0.0     0.0     1.0\n",
       "1001657.0                   0.0     0.0     0.0     1.0\n",
       "1001727.0                   0.0     0.0     0.0     1.0"
      ]
     },
     "execution_count": 388,
     "metadata": {},
     "output_type": "execute_result"
    }
   ],
   "source": [
    "temp2 = movies_df.pivot_table(index='2nd_cast', columns='week_boxoffice_level(4)', values='tmdb_id', aggfunc='count')\n",
    "temp2.rename(columns={'2nd_cast':'id', 1:'level1',2:'level2',3:'level3',4:'level4'}, inplace=True)\n",
    "temp2.fillna(0, inplace=True)\n",
    "temp2.head()"
   ]
  },
  {
   "cell_type": "code",
   "execution_count": 389,
   "metadata": {},
   "outputs": [
    {
     "data": {
      "text/html": [
       "<div>\n",
       "<style scoped>\n",
       "    .dataframe tbody tr th:only-of-type {\n",
       "        vertical-align: middle;\n",
       "    }\n",
       "\n",
       "    .dataframe tbody tr th {\n",
       "        vertical-align: top;\n",
       "    }\n",
       "\n",
       "    .dataframe thead th {\n",
       "        text-align: right;\n",
       "    }\n",
       "</style>\n",
       "<table border=\"1\" class=\"dataframe\">\n",
       "  <thead>\n",
       "    <tr style=\"text-align: right;\">\n",
       "      <th>week_boxoffice_level(4)</th>\n",
       "      <th>level1</th>\n",
       "      <th>level2</th>\n",
       "      <th>level3</th>\n",
       "      <th>level4</th>\n",
       "    </tr>\n",
       "    <tr>\n",
       "      <th>3rd_cast</th>\n",
       "      <th></th>\n",
       "      <th></th>\n",
       "      <th></th>\n",
       "      <th></th>\n",
       "    </tr>\n",
       "  </thead>\n",
       "  <tbody>\n",
       "    <tr>\n",
       "      <th>1.0</th>\n",
       "      <td>0.0</td>\n",
       "      <td>0.0</td>\n",
       "      <td>0.0</td>\n",
       "      <td>1.0</td>\n",
       "    </tr>\n",
       "    <tr>\n",
       "      <th>1000612.0</th>\n",
       "      <td>0.0</td>\n",
       "      <td>0.0</td>\n",
       "      <td>0.0</td>\n",
       "      <td>1.0</td>\n",
       "    </tr>\n",
       "    <tr>\n",
       "      <th>1001802.0</th>\n",
       "      <td>0.0</td>\n",
       "      <td>0.0</td>\n",
       "      <td>0.0</td>\n",
       "      <td>1.0</td>\n",
       "    </tr>\n",
       "    <tr>\n",
       "      <th>1002001.0</th>\n",
       "      <td>0.0</td>\n",
       "      <td>0.0</td>\n",
       "      <td>0.0</td>\n",
       "      <td>1.0</td>\n",
       "    </tr>\n",
       "    <tr>\n",
       "      <th>100241.0</th>\n",
       "      <td>0.0</td>\n",
       "      <td>0.0</td>\n",
       "      <td>0.0</td>\n",
       "      <td>1.0</td>\n",
       "    </tr>\n",
       "  </tbody>\n",
       "</table>\n",
       "</div>"
      ],
      "text/plain": [
       "week_boxoffice_level(4)  level1  level2  level3  level4\n",
       "3rd_cast                                               \n",
       "1.0                         0.0     0.0     0.0     1.0\n",
       "1000612.0                   0.0     0.0     0.0     1.0\n",
       "1001802.0                   0.0     0.0     0.0     1.0\n",
       "1002001.0                   0.0     0.0     0.0     1.0\n",
       "100241.0                    0.0     0.0     0.0     1.0"
      ]
     },
     "execution_count": 389,
     "metadata": {},
     "output_type": "execute_result"
    }
   ],
   "source": [
    "temp3 = movies_df.pivot_table(index='3rd_cast', columns='week_boxoffice_level(4)', values='tmdb_id', aggfunc='count')\n",
    "temp3.rename(columns={'3rd_cast':'id', 1:'level1',2:'level2',3:'level3',4:'level4'}, inplace=True)\n",
    "temp3.fillna(0, inplace=True)\n",
    "temp3.head()"
   ]
  },
  {
   "cell_type": "code",
   "execution_count": 390,
   "metadata": {},
   "outputs": [
    {
     "data": {
      "text/plain": [
       "((3672, 4), (4067, 4), (4317, 4))"
      ]
     },
     "execution_count": 390,
     "metadata": {},
     "output_type": "execute_result"
    }
   ],
   "source": [
    "temp.shape, temp2.shape, temp3.shape"
   ]
  },
  {
   "cell_type": "code",
   "execution_count": 391,
   "metadata": {},
   "outputs": [],
   "source": [
    "temp = temp.add(temp2, axis='columns', level=None, fill_value=0)"
   ]
  },
  {
   "cell_type": "code",
   "execution_count": 392,
   "metadata": {},
   "outputs": [],
   "source": [
    "temp = temp.add(temp3, axis='columns', level=None, fill_value=0)"
   ]
  },
  {
   "cell_type": "code",
   "execution_count": 393,
   "metadata": {},
   "outputs": [
    {
     "data": {
      "text/html": [
       "<div>\n",
       "<style scoped>\n",
       "    .dataframe tbody tr th:only-of-type {\n",
       "        vertical-align: middle;\n",
       "    }\n",
       "\n",
       "    .dataframe tbody tr th {\n",
       "        vertical-align: top;\n",
       "    }\n",
       "\n",
       "    .dataframe thead th {\n",
       "        text-align: right;\n",
       "    }\n",
       "</style>\n",
       "<table border=\"1\" class=\"dataframe\">\n",
       "  <thead>\n",
       "    <tr style=\"text-align: right;\">\n",
       "      <th>week_boxoffice_level(4)</th>\n",
       "      <th>index</th>\n",
       "      <th>level1</th>\n",
       "      <th>level2</th>\n",
       "      <th>level3</th>\n",
       "      <th>level4</th>\n",
       "    </tr>\n",
       "  </thead>\n",
       "  <tbody>\n",
       "    <tr>\n",
       "      <th>0</th>\n",
       "      <td>1.0</td>\n",
       "      <td>0.0</td>\n",
       "      <td>0.0</td>\n",
       "      <td>0.0</td>\n",
       "      <td>1.0</td>\n",
       "    </tr>\n",
       "    <tr>\n",
       "      <th>1</th>\n",
       "      <td>100.0</td>\n",
       "      <td>0.0</td>\n",
       "      <td>0.0</td>\n",
       "      <td>0.0</td>\n",
       "      <td>3.0</td>\n",
       "    </tr>\n",
       "    <tr>\n",
       "      <th>2</th>\n",
       "      <td>1000094.0</td>\n",
       "      <td>0.0</td>\n",
       "      <td>0.0</td>\n",
       "      <td>0.0</td>\n",
       "      <td>1.0</td>\n",
       "    </tr>\n",
       "    <tr>\n",
       "      <th>3</th>\n",
       "      <td>10001.0</td>\n",
       "      <td>0.0</td>\n",
       "      <td>0.0</td>\n",
       "      <td>0.0</td>\n",
       "      <td>1.0</td>\n",
       "    </tr>\n",
       "    <tr>\n",
       "      <th>4</th>\n",
       "      <td>1000391.0</td>\n",
       "      <td>0.0</td>\n",
       "      <td>0.0</td>\n",
       "      <td>0.0</td>\n",
       "      <td>1.0</td>\n",
       "    </tr>\n",
       "  </tbody>\n",
       "</table>\n",
       "</div>"
      ],
      "text/plain": [
       "week_boxoffice_level(4)      index  level1  level2  level3  level4\n",
       "0                              1.0     0.0     0.0     0.0     1.0\n",
       "1                            100.0     0.0     0.0     0.0     3.0\n",
       "2                        1000094.0     0.0     0.0     0.0     1.0\n",
       "3                          10001.0     0.0     0.0     0.0     1.0\n",
       "4                        1000391.0     0.0     0.0     0.0     1.0"
      ]
     },
     "execution_count": 393,
     "metadata": {},
     "output_type": "execute_result"
    }
   ],
   "source": [
    "temp.reset_index(inplace=True)\n",
    "temp.head()"
   ]
  },
  {
   "cell_type": "code",
   "execution_count": 394,
   "metadata": {},
   "outputs": [
    {
     "data": {
      "text/html": [
       "<div>\n",
       "<style scoped>\n",
       "    .dataframe tbody tr th:only-of-type {\n",
       "        vertical-align: middle;\n",
       "    }\n",
       "\n",
       "    .dataframe tbody tr th {\n",
       "        vertical-align: top;\n",
       "    }\n",
       "\n",
       "    .dataframe thead th {\n",
       "        text-align: right;\n",
       "    }\n",
       "</style>\n",
       "<table border=\"1\" class=\"dataframe\">\n",
       "  <thead>\n",
       "    <tr style=\"text-align: right;\">\n",
       "      <th>week_boxoffice_level(4)</th>\n",
       "      <th>index</th>\n",
       "      <th>level1</th>\n",
       "      <th>level2</th>\n",
       "      <th>level3</th>\n",
       "      <th>level4</th>\n",
       "    </tr>\n",
       "  </thead>\n",
       "  <tbody>\n",
       "    <tr>\n",
       "      <th>9488</th>\n",
       "      <td>unknown</td>\n",
       "      <td>0.0</td>\n",
       "      <td>2.0</td>\n",
       "      <td>27.0</td>\n",
       "      <td>1493.0</td>\n",
       "    </tr>\n",
       "  </tbody>\n",
       "</table>\n",
       "</div>"
      ],
      "text/plain": [
       "week_boxoffice_level(4)    index  level1  level2  level3  level4\n",
       "9488                     unknown     0.0     2.0    27.0  1493.0"
      ]
     },
     "execution_count": 394,
     "metadata": {},
     "output_type": "execute_result"
    }
   ],
   "source": [
    "temp[temp['index'] =='unknown']"
   ]
  },
  {
   "cell_type": "code",
   "execution_count": 395,
   "metadata": {},
   "outputs": [],
   "source": [
    "temp.drop(index=9488, inplace=True)"
   ]
  },
  {
   "cell_type": "code",
   "execution_count": 396,
   "metadata": {},
   "outputs": [
    {
     "data": {
      "text/html": [
       "<div>\n",
       "<style scoped>\n",
       "    .dataframe tbody tr th:only-of-type {\n",
       "        vertical-align: middle;\n",
       "    }\n",
       "\n",
       "    .dataframe tbody tr th {\n",
       "        vertical-align: top;\n",
       "    }\n",
       "\n",
       "    .dataframe thead th {\n",
       "        text-align: right;\n",
       "    }\n",
       "</style>\n",
       "<table border=\"1\" class=\"dataframe\">\n",
       "  <thead>\n",
       "    <tr style=\"text-align: right;\">\n",
       "      <th>week_boxoffice_level(4)</th>\n",
       "      <th>index</th>\n",
       "      <th>level1</th>\n",
       "      <th>level2</th>\n",
       "      <th>level3</th>\n",
       "      <th>level4</th>\n",
       "    </tr>\n",
       "  </thead>\n",
       "  <tbody>\n",
       "  </tbody>\n",
       "</table>\n",
       "</div>"
      ],
      "text/plain": [
       "Empty DataFrame\n",
       "Columns: [index, level1, level2, level3, level4]\n",
       "Index: []"
      ]
     },
     "execution_count": 396,
     "metadata": {},
     "output_type": "execute_result"
    }
   ],
   "source": [
    "temp[temp['index'] =='unknown']"
   ]
  },
  {
   "cell_type": "code",
   "execution_count": 397,
   "metadata": {},
   "outputs": [],
   "source": [
    "temp['index'] = temp['index'].apply(lambda x: int(eval(x)))"
   ]
  },
  {
   "cell_type": "code",
   "execution_count": 398,
   "metadata": {},
   "outputs": [
    {
     "data": {
      "text/html": [
       "<div>\n",
       "<style scoped>\n",
       "    .dataframe tbody tr th:only-of-type {\n",
       "        vertical-align: middle;\n",
       "    }\n",
       "\n",
       "    .dataframe tbody tr th {\n",
       "        vertical-align: top;\n",
       "    }\n",
       "\n",
       "    .dataframe thead th {\n",
       "        text-align: right;\n",
       "    }\n",
       "</style>\n",
       "<table border=\"1\" class=\"dataframe\">\n",
       "  <thead>\n",
       "    <tr style=\"text-align: right;\">\n",
       "      <th>week_boxoffice_level(4)</th>\n",
       "      <th>index</th>\n",
       "      <th>level1</th>\n",
       "      <th>level2</th>\n",
       "      <th>level3</th>\n",
       "      <th>level4</th>\n",
       "    </tr>\n",
       "  </thead>\n",
       "  <tbody>\n",
       "    <tr>\n",
       "      <th>0</th>\n",
       "      <td>1</td>\n",
       "      <td>0.0</td>\n",
       "      <td>0.0</td>\n",
       "      <td>0.0</td>\n",
       "      <td>1.0</td>\n",
       "    </tr>\n",
       "    <tr>\n",
       "      <th>1</th>\n",
       "      <td>100</td>\n",
       "      <td>0.0</td>\n",
       "      <td>0.0</td>\n",
       "      <td>0.0</td>\n",
       "      <td>3.0</td>\n",
       "    </tr>\n",
       "    <tr>\n",
       "      <th>2</th>\n",
       "      <td>1000094</td>\n",
       "      <td>0.0</td>\n",
       "      <td>0.0</td>\n",
       "      <td>0.0</td>\n",
       "      <td>1.0</td>\n",
       "    </tr>\n",
       "    <tr>\n",
       "      <th>3</th>\n",
       "      <td>10001</td>\n",
       "      <td>0.0</td>\n",
       "      <td>0.0</td>\n",
       "      <td>0.0</td>\n",
       "      <td>1.0</td>\n",
       "    </tr>\n",
       "    <tr>\n",
       "      <th>4</th>\n",
       "      <td>1000391</td>\n",
       "      <td>0.0</td>\n",
       "      <td>0.0</td>\n",
       "      <td>0.0</td>\n",
       "      <td>1.0</td>\n",
       "    </tr>\n",
       "  </tbody>\n",
       "</table>\n",
       "</div>"
      ],
      "text/plain": [
       "week_boxoffice_level(4)    index  level1  level2  level3  level4\n",
       "0                              1     0.0     0.0     0.0     1.0\n",
       "1                            100     0.0     0.0     0.0     3.0\n",
       "2                        1000094     0.0     0.0     0.0     1.0\n",
       "3                          10001     0.0     0.0     0.0     1.0\n",
       "4                        1000391     0.0     0.0     0.0     1.0"
      ]
     },
     "execution_count": 398,
     "metadata": {},
     "output_type": "execute_result"
    }
   ],
   "source": [
    "temp.head()"
   ]
  },
  {
   "cell_type": "code",
   "execution_count": 399,
   "metadata": {},
   "outputs": [],
   "source": [
    "cast_name = pd.merge(cast_name, temp, how='left', left_on='id', right_on='index').drop(columns='index')"
   ]
  },
  {
   "cell_type": "code",
   "execution_count": 400,
   "metadata": {},
   "outputs": [
    {
     "data": {
      "text/html": [
       "<div>\n",
       "<style scoped>\n",
       "    .dataframe tbody tr th:only-of-type {\n",
       "        vertical-align: middle;\n",
       "    }\n",
       "\n",
       "    .dataframe tbody tr th {\n",
       "        vertical-align: top;\n",
       "    }\n",
       "\n",
       "    .dataframe thead th {\n",
       "        text-align: right;\n",
       "    }\n",
       "</style>\n",
       "<table border=\"1\" class=\"dataframe\">\n",
       "  <thead>\n",
       "    <tr style=\"text-align: right;\">\n",
       "      <th></th>\n",
       "      <th>id</th>\n",
       "      <th>name</th>\n",
       "      <th>gender</th>\n",
       "      <th>cluster_label</th>\n",
       "      <th>level1</th>\n",
       "      <th>level2</th>\n",
       "      <th>level3</th>\n",
       "      <th>level4</th>\n",
       "    </tr>\n",
       "  </thead>\n",
       "  <tbody>\n",
       "    <tr>\n",
       "      <th>0</th>\n",
       "      <td>1</td>\n",
       "      <td>George Lucas</td>\n",
       "      <td>2</td>\n",
       "      <td>0</td>\n",
       "      <td>0.0</td>\n",
       "      <td>0.0</td>\n",
       "      <td>0.0</td>\n",
       "      <td>1.0</td>\n",
       "    </tr>\n",
       "    <tr>\n",
       "      <th>1</th>\n",
       "      <td>2</td>\n",
       "      <td>Mark Hamill</td>\n",
       "      <td>2</td>\n",
       "      <td>1</td>\n",
       "      <td>2.0</td>\n",
       "      <td>1.0</td>\n",
       "      <td>1.0</td>\n",
       "      <td>1.0</td>\n",
       "    </tr>\n",
       "    <tr>\n",
       "      <th>2</th>\n",
       "      <td>3</td>\n",
       "      <td>Harrison Ford</td>\n",
       "      <td>2</td>\n",
       "      <td>1</td>\n",
       "      <td>3.0</td>\n",
       "      <td>4.0</td>\n",
       "      <td>3.0</td>\n",
       "      <td>2.0</td>\n",
       "    </tr>\n",
       "    <tr>\n",
       "      <th>3</th>\n",
       "      <td>4</td>\n",
       "      <td>Carrie Fisher</td>\n",
       "      <td>1</td>\n",
       "      <td>1</td>\n",
       "      <td>2.0</td>\n",
       "      <td>0.0</td>\n",
       "      <td>0.0</td>\n",
       "      <td>1.0</td>\n",
       "    </tr>\n",
       "    <tr>\n",
       "      <th>4</th>\n",
       "      <td>12</td>\n",
       "      <td>Alexander Gould</td>\n",
       "      <td>2</td>\n",
       "      <td>0</td>\n",
       "      <td>NaN</td>\n",
       "      <td>NaN</td>\n",
       "      <td>NaN</td>\n",
       "      <td>NaN</td>\n",
       "    </tr>\n",
       "  </tbody>\n",
       "</table>\n",
       "</div>"
      ],
      "text/plain": [
       "   id             name  gender  cluster_label  level1  level2  level3  level4\n",
       "0   1     George Lucas       2              0     0.0     0.0     0.0     1.0\n",
       "1   2      Mark Hamill       2              1     2.0     1.0     1.0     1.0\n",
       "2   3    Harrison Ford       2              1     3.0     4.0     3.0     2.0\n",
       "3   4    Carrie Fisher       1              1     2.0     0.0     0.0     1.0\n",
       "4  12  Alexander Gould       2              0     NaN     NaN     NaN     NaN"
      ]
     },
     "execution_count": 400,
     "metadata": {},
     "output_type": "execute_result"
    }
   ],
   "source": [
    "cast_name.head()"
   ]
  },
  {
   "cell_type": "code",
   "execution_count": 401,
   "metadata": {},
   "outputs": [],
   "source": [
    "cast_name.dropna(inplace=True)"
   ]
  },
  {
   "cell_type": "code",
   "execution_count": 402,
   "metadata": {},
   "outputs": [
    {
     "data": {
      "text/html": [
       "<div>\n",
       "<style scoped>\n",
       "    .dataframe tbody tr th:only-of-type {\n",
       "        vertical-align: middle;\n",
       "    }\n",
       "\n",
       "    .dataframe tbody tr th {\n",
       "        vertical-align: top;\n",
       "    }\n",
       "\n",
       "    .dataframe thead th {\n",
       "        text-align: right;\n",
       "    }\n",
       "</style>\n",
       "<table border=\"1\" class=\"dataframe\">\n",
       "  <thead>\n",
       "    <tr style=\"text-align: right;\">\n",
       "      <th></th>\n",
       "      <th>id</th>\n",
       "      <th>name</th>\n",
       "      <th>gender</th>\n",
       "      <th>cluster_label</th>\n",
       "      <th>level1</th>\n",
       "      <th>level2</th>\n",
       "      <th>level3</th>\n",
       "      <th>level4</th>\n",
       "    </tr>\n",
       "  </thead>\n",
       "  <tbody>\n",
       "    <tr>\n",
       "      <th>0</th>\n",
       "      <td>1</td>\n",
       "      <td>George Lucas</td>\n",
       "      <td>2</td>\n",
       "      <td>0</td>\n",
       "      <td>0.0</td>\n",
       "      <td>0.0</td>\n",
       "      <td>0.0</td>\n",
       "      <td>1.0</td>\n",
       "    </tr>\n",
       "    <tr>\n",
       "      <th>1</th>\n",
       "      <td>2</td>\n",
       "      <td>Mark Hamill</td>\n",
       "      <td>2</td>\n",
       "      <td>1</td>\n",
       "      <td>2.0</td>\n",
       "      <td>1.0</td>\n",
       "      <td>1.0</td>\n",
       "      <td>1.0</td>\n",
       "    </tr>\n",
       "    <tr>\n",
       "      <th>2</th>\n",
       "      <td>3</td>\n",
       "      <td>Harrison Ford</td>\n",
       "      <td>2</td>\n",
       "      <td>1</td>\n",
       "      <td>3.0</td>\n",
       "      <td>4.0</td>\n",
       "      <td>3.0</td>\n",
       "      <td>2.0</td>\n",
       "    </tr>\n",
       "    <tr>\n",
       "      <th>3</th>\n",
       "      <td>4</td>\n",
       "      <td>Carrie Fisher</td>\n",
       "      <td>1</td>\n",
       "      <td>1</td>\n",
       "      <td>2.0</td>\n",
       "      <td>0.0</td>\n",
       "      <td>0.0</td>\n",
       "      <td>1.0</td>\n",
       "    </tr>\n",
       "    <tr>\n",
       "      <th>5</th>\n",
       "      <td>13</td>\n",
       "      <td>Albert Brooks</td>\n",
       "      <td>2</td>\n",
       "      <td>1</td>\n",
       "      <td>1.0</td>\n",
       "      <td>1.0</td>\n",
       "      <td>0.0</td>\n",
       "      <td>1.0</td>\n",
       "    </tr>\n",
       "  </tbody>\n",
       "</table>\n",
       "</div>"
      ],
      "text/plain": [
       "   id           name  gender  cluster_label  level1  level2  level3  level4\n",
       "0   1   George Lucas       2              0     0.0     0.0     0.0     1.0\n",
       "1   2    Mark Hamill       2              1     2.0     1.0     1.0     1.0\n",
       "2   3  Harrison Ford       2              1     3.0     4.0     3.0     2.0\n",
       "3   4  Carrie Fisher       1              1     2.0     0.0     0.0     1.0\n",
       "5  13  Albert Brooks       2              1     1.0     1.0     0.0     1.0"
      ]
     },
     "execution_count": 402,
     "metadata": {},
     "output_type": "execute_result"
    }
   ],
   "source": [
    "cast_name.head()"
   ]
  },
  {
   "cell_type": "code",
   "execution_count": 404,
   "metadata": {},
   "outputs": [],
   "source": [
    "# cast_name.to_csv('actor_list_with_label_20191103.csv', encoding='utf-8', index=False)"
   ]
  },
  {
   "cell_type": "code",
   "execution_count": 350,
   "metadata": {},
   "outputs": [
    {
     "data": {
      "text/html": [
       "<div>\n",
       "<style scoped>\n",
       "    .dataframe tbody tr th:only-of-type {\n",
       "        vertical-align: middle;\n",
       "    }\n",
       "\n",
       "    .dataframe tbody tr th {\n",
       "        vertical-align: top;\n",
       "    }\n",
       "\n",
       "    .dataframe thead th {\n",
       "        text-align: right;\n",
       "    }\n",
       "</style>\n",
       "<table border=\"1\" class=\"dataframe\">\n",
       "  <thead>\n",
       "    <tr style=\"text-align: right;\">\n",
       "      <th></th>\n",
       "      <th>id</th>\n",
       "      <th>name</th>\n",
       "      <th>gender</th>\n",
       "      <th>cluster_label</th>\n",
       "      <th>level1</th>\n",
       "      <th>level2</th>\n",
       "      <th>level3</th>\n",
       "      <th>level4</th>\n",
       "      <th>higher</th>\n",
       "      <th>lower</th>\n",
       "      <th>total</th>\n",
       "    </tr>\n",
       "  </thead>\n",
       "  <tbody>\n",
       "    <tr>\n",
       "      <th>0</th>\n",
       "      <td>1</td>\n",
       "      <td>George Lucas</td>\n",
       "      <td>2</td>\n",
       "      <td>0</td>\n",
       "      <td>0.0</td>\n",
       "      <td>0.0</td>\n",
       "      <td>0.0</td>\n",
       "      <td>1.0</td>\n",
       "      <td>0.0</td>\n",
       "      <td>1.0</td>\n",
       "      <td>1.0</td>\n",
       "    </tr>\n",
       "    <tr>\n",
       "      <th>1</th>\n",
       "      <td>2</td>\n",
       "      <td>Mark Hamill</td>\n",
       "      <td>2</td>\n",
       "      <td>1</td>\n",
       "      <td>2.0</td>\n",
       "      <td>1.0</td>\n",
       "      <td>1.0</td>\n",
       "      <td>1.0</td>\n",
       "      <td>3.0</td>\n",
       "      <td>2.0</td>\n",
       "      <td>5.0</td>\n",
       "    </tr>\n",
       "    <tr>\n",
       "      <th>2</th>\n",
       "      <td>3</td>\n",
       "      <td>Harrison Ford</td>\n",
       "      <td>2</td>\n",
       "      <td>1</td>\n",
       "      <td>3.0</td>\n",
       "      <td>4.0</td>\n",
       "      <td>3.0</td>\n",
       "      <td>2.0</td>\n",
       "      <td>7.0</td>\n",
       "      <td>5.0</td>\n",
       "      <td>12.0</td>\n",
       "    </tr>\n",
       "    <tr>\n",
       "      <th>3</th>\n",
       "      <td>4</td>\n",
       "      <td>Carrie Fisher</td>\n",
       "      <td>1</td>\n",
       "      <td>1</td>\n",
       "      <td>2.0</td>\n",
       "      <td>0.0</td>\n",
       "      <td>0.0</td>\n",
       "      <td>1.0</td>\n",
       "      <td>2.0</td>\n",
       "      <td>1.0</td>\n",
       "      <td>3.0</td>\n",
       "    </tr>\n",
       "    <tr>\n",
       "      <th>5</th>\n",
       "      <td>13</td>\n",
       "      <td>Albert Brooks</td>\n",
       "      <td>2</td>\n",
       "      <td>1</td>\n",
       "      <td>1.0</td>\n",
       "      <td>1.0</td>\n",
       "      <td>0.0</td>\n",
       "      <td>1.0</td>\n",
       "      <td>2.0</td>\n",
       "      <td>1.0</td>\n",
       "      <td>3.0</td>\n",
       "    </tr>\n",
       "  </tbody>\n",
       "</table>\n",
       "</div>"
      ],
      "text/plain": [
       "   id           name  gender  cluster_label  level1  level2  level3  level4  \\\n",
       "0   1   George Lucas       2              0     0.0     0.0     0.0     1.0   \n",
       "1   2    Mark Hamill       2              1     2.0     1.0     1.0     1.0   \n",
       "2   3  Harrison Ford       2              1     3.0     4.0     3.0     2.0   \n",
       "3   4  Carrie Fisher       1              1     2.0     0.0     0.0     1.0   \n",
       "5  13  Albert Brooks       2              1     1.0     1.0     0.0     1.0   \n",
       "\n",
       "   higher  lower  total  \n",
       "0     0.0    1.0    1.0  \n",
       "1     3.0    2.0    5.0  \n",
       "2     7.0    5.0   12.0  \n",
       "3     2.0    1.0    3.0  \n",
       "5     2.0    1.0    3.0  "
      ]
     },
     "execution_count": 350,
     "metadata": {},
     "output_type": "execute_result"
    }
   ],
   "source": [
    "cast_name['higher'] = cast_name['level1'] + cast_name['level2']\n",
    "cast_name['lower'] = cast_name['level3'] + cast_name['level4']\n",
    "cast_name['total'] = cast_name['level1'] + cast_name['level2'] + cast_name['level3'] + cast_name['level4']\n",
    "cast_name.head()"
   ]
  },
  {
   "cell_type": "code",
   "execution_count": 351,
   "metadata": {},
   "outputs": [],
   "source": [
    "cast_name['higher_pc'] = cast_name['higher'] / cast_name['total']\n",
    "cast_name['lower_pc'] = cast_name['lower'] / cast_name['total']"
   ]
  },
  {
   "cell_type": "code",
   "execution_count": 357,
   "metadata": {},
   "outputs": [
    {
     "data": {
      "text/html": [
       "<div>\n",
       "<style scoped>\n",
       "    .dataframe tbody tr th:only-of-type {\n",
       "        vertical-align: middle;\n",
       "    }\n",
       "\n",
       "    .dataframe tbody tr th {\n",
       "        vertical-align: top;\n",
       "    }\n",
       "\n",
       "    .dataframe thead th {\n",
       "        text-align: right;\n",
       "    }\n",
       "</style>\n",
       "<table border=\"1\" class=\"dataframe\">\n",
       "  <thead>\n",
       "    <tr style=\"text-align: right;\">\n",
       "      <th></th>\n",
       "      <th>id</th>\n",
       "      <th>name</th>\n",
       "      <th>gender</th>\n",
       "      <th>cluster_label</th>\n",
       "      <th>level1</th>\n",
       "      <th>level2</th>\n",
       "      <th>level3</th>\n",
       "      <th>level4</th>\n",
       "      <th>higher</th>\n",
       "      <th>lower</th>\n",
       "      <th>total</th>\n",
       "      <th>higher_pc</th>\n",
       "      <th>lower_pc</th>\n",
       "    </tr>\n",
       "  </thead>\n",
       "  <tbody>\n",
       "    <tr>\n",
       "      <th>0</th>\n",
       "      <td>1</td>\n",
       "      <td>George Lucas</td>\n",
       "      <td>2</td>\n",
       "      <td>0</td>\n",
       "      <td>0.0</td>\n",
       "      <td>0.0</td>\n",
       "      <td>0.0</td>\n",
       "      <td>1.0</td>\n",
       "      <td>0.0</td>\n",
       "      <td>1.0</td>\n",
       "      <td>1.0</td>\n",
       "      <td>0.000000</td>\n",
       "      <td>1.000000</td>\n",
       "    </tr>\n",
       "    <tr>\n",
       "      <th>1</th>\n",
       "      <td>2</td>\n",
       "      <td>Mark Hamill</td>\n",
       "      <td>2</td>\n",
       "      <td>1</td>\n",
       "      <td>2.0</td>\n",
       "      <td>1.0</td>\n",
       "      <td>1.0</td>\n",
       "      <td>1.0</td>\n",
       "      <td>3.0</td>\n",
       "      <td>2.0</td>\n",
       "      <td>5.0</td>\n",
       "      <td>0.600000</td>\n",
       "      <td>0.400000</td>\n",
       "    </tr>\n",
       "    <tr>\n",
       "      <th>2</th>\n",
       "      <td>3</td>\n",
       "      <td>Harrison Ford</td>\n",
       "      <td>2</td>\n",
       "      <td>1</td>\n",
       "      <td>3.0</td>\n",
       "      <td>4.0</td>\n",
       "      <td>3.0</td>\n",
       "      <td>2.0</td>\n",
       "      <td>7.0</td>\n",
       "      <td>5.0</td>\n",
       "      <td>12.0</td>\n",
       "      <td>0.583333</td>\n",
       "      <td>0.416667</td>\n",
       "    </tr>\n",
       "    <tr>\n",
       "      <th>3</th>\n",
       "      <td>4</td>\n",
       "      <td>Carrie Fisher</td>\n",
       "      <td>1</td>\n",
       "      <td>1</td>\n",
       "      <td>2.0</td>\n",
       "      <td>0.0</td>\n",
       "      <td>0.0</td>\n",
       "      <td>1.0</td>\n",
       "      <td>2.0</td>\n",
       "      <td>1.0</td>\n",
       "      <td>3.0</td>\n",
       "      <td>0.666667</td>\n",
       "      <td>0.333333</td>\n",
       "    </tr>\n",
       "    <tr>\n",
       "      <th>5</th>\n",
       "      <td>13</td>\n",
       "      <td>Albert Brooks</td>\n",
       "      <td>2</td>\n",
       "      <td>1</td>\n",
       "      <td>1.0</td>\n",
       "      <td>1.0</td>\n",
       "      <td>0.0</td>\n",
       "      <td>1.0</td>\n",
       "      <td>2.0</td>\n",
       "      <td>1.0</td>\n",
       "      <td>3.0</td>\n",
       "      <td>0.666667</td>\n",
       "      <td>0.333333</td>\n",
       "    </tr>\n",
       "  </tbody>\n",
       "</table>\n",
       "</div>"
      ],
      "text/plain": [
       "   id           name  gender  cluster_label  level1  level2  level3  level4  \\\n",
       "0   1   George Lucas       2              0     0.0     0.0     0.0     1.0   \n",
       "1   2    Mark Hamill       2              1     2.0     1.0     1.0     1.0   \n",
       "2   3  Harrison Ford       2              1     3.0     4.0     3.0     2.0   \n",
       "3   4  Carrie Fisher       1              1     2.0     0.0     0.0     1.0   \n",
       "5  13  Albert Brooks       2              1     1.0     1.0     0.0     1.0   \n",
       "\n",
       "   higher  lower  total  higher_pc  lower_pc  \n",
       "0     0.0    1.0    1.0   0.000000  1.000000  \n",
       "1     3.0    2.0    5.0   0.600000  0.400000  \n",
       "2     7.0    5.0   12.0   0.583333  0.416667  \n",
       "3     2.0    1.0    3.0   0.666667  0.333333  \n",
       "5     2.0    1.0    3.0   0.666667  0.333333  "
      ]
     },
     "execution_count": 357,
     "metadata": {},
     "output_type": "execute_result"
    }
   ],
   "source": [
    "cast_name.head()"
   ]
  },
  {
   "cell_type": "code",
   "execution_count": 359,
   "metadata": {},
   "outputs": [],
   "source": [
    "cast_name['test'] =cast_name['higher_pc'] > cast_name['lower_pc']"
   ]
  },
  {
   "cell_type": "code",
   "execution_count": 360,
   "metadata": {},
   "outputs": [
    {
     "data": {
      "text/html": [
       "<div>\n",
       "<style scoped>\n",
       "    .dataframe tbody tr th:only-of-type {\n",
       "        vertical-align: middle;\n",
       "    }\n",
       "\n",
       "    .dataframe tbody tr th {\n",
       "        vertical-align: top;\n",
       "    }\n",
       "\n",
       "    .dataframe thead th {\n",
       "        text-align: right;\n",
       "    }\n",
       "</style>\n",
       "<table border=\"1\" class=\"dataframe\">\n",
       "  <thead>\n",
       "    <tr style=\"text-align: right;\">\n",
       "      <th></th>\n",
       "      <th>id</th>\n",
       "      <th>name</th>\n",
       "      <th>gender</th>\n",
       "      <th>cluster_label</th>\n",
       "      <th>level1</th>\n",
       "      <th>level2</th>\n",
       "      <th>level3</th>\n",
       "      <th>level4</th>\n",
       "      <th>higher</th>\n",
       "      <th>lower</th>\n",
       "      <th>total</th>\n",
       "      <th>higher_pc</th>\n",
       "      <th>lower_pc</th>\n",
       "      <th>test</th>\n",
       "    </tr>\n",
       "  </thead>\n",
       "  <tbody>\n",
       "    <tr>\n",
       "      <th>0</th>\n",
       "      <td>1</td>\n",
       "      <td>George Lucas</td>\n",
       "      <td>2</td>\n",
       "      <td>0</td>\n",
       "      <td>0.0</td>\n",
       "      <td>0.0</td>\n",
       "      <td>0.0</td>\n",
       "      <td>1.0</td>\n",
       "      <td>0.0</td>\n",
       "      <td>1.0</td>\n",
       "      <td>1.0</td>\n",
       "      <td>0.000000</td>\n",
       "      <td>1.000000</td>\n",
       "      <td>False</td>\n",
       "    </tr>\n",
       "    <tr>\n",
       "      <th>1</th>\n",
       "      <td>2</td>\n",
       "      <td>Mark Hamill</td>\n",
       "      <td>2</td>\n",
       "      <td>1</td>\n",
       "      <td>2.0</td>\n",
       "      <td>1.0</td>\n",
       "      <td>1.0</td>\n",
       "      <td>1.0</td>\n",
       "      <td>3.0</td>\n",
       "      <td>2.0</td>\n",
       "      <td>5.0</td>\n",
       "      <td>0.600000</td>\n",
       "      <td>0.400000</td>\n",
       "      <td>True</td>\n",
       "    </tr>\n",
       "    <tr>\n",
       "      <th>2</th>\n",
       "      <td>3</td>\n",
       "      <td>Harrison Ford</td>\n",
       "      <td>2</td>\n",
       "      <td>1</td>\n",
       "      <td>3.0</td>\n",
       "      <td>4.0</td>\n",
       "      <td>3.0</td>\n",
       "      <td>2.0</td>\n",
       "      <td>7.0</td>\n",
       "      <td>5.0</td>\n",
       "      <td>12.0</td>\n",
       "      <td>0.583333</td>\n",
       "      <td>0.416667</td>\n",
       "      <td>True</td>\n",
       "    </tr>\n",
       "    <tr>\n",
       "      <th>3</th>\n",
       "      <td>4</td>\n",
       "      <td>Carrie Fisher</td>\n",
       "      <td>1</td>\n",
       "      <td>1</td>\n",
       "      <td>2.0</td>\n",
       "      <td>0.0</td>\n",
       "      <td>0.0</td>\n",
       "      <td>1.0</td>\n",
       "      <td>2.0</td>\n",
       "      <td>1.0</td>\n",
       "      <td>3.0</td>\n",
       "      <td>0.666667</td>\n",
       "      <td>0.333333</td>\n",
       "      <td>True</td>\n",
       "    </tr>\n",
       "    <tr>\n",
       "      <th>5</th>\n",
       "      <td>13</td>\n",
       "      <td>Albert Brooks</td>\n",
       "      <td>2</td>\n",
       "      <td>1</td>\n",
       "      <td>1.0</td>\n",
       "      <td>1.0</td>\n",
       "      <td>0.0</td>\n",
       "      <td>1.0</td>\n",
       "      <td>2.0</td>\n",
       "      <td>1.0</td>\n",
       "      <td>3.0</td>\n",
       "      <td>0.666667</td>\n",
       "      <td>0.333333</td>\n",
       "      <td>True</td>\n",
       "    </tr>\n",
       "  </tbody>\n",
       "</table>\n",
       "</div>"
      ],
      "text/plain": [
       "   id           name  gender  cluster_label  level1  level2  level3  level4  \\\n",
       "0   1   George Lucas       2              0     0.0     0.0     0.0     1.0   \n",
       "1   2    Mark Hamill       2              1     2.0     1.0     1.0     1.0   \n",
       "2   3  Harrison Ford       2              1     3.0     4.0     3.0     2.0   \n",
       "3   4  Carrie Fisher       1              1     2.0     0.0     0.0     1.0   \n",
       "5  13  Albert Brooks       2              1     1.0     1.0     0.0     1.0   \n",
       "\n",
       "   higher  lower  total  higher_pc  lower_pc   test  \n",
       "0     0.0    1.0    1.0   0.000000  1.000000  False  \n",
       "1     3.0    2.0    5.0   0.600000  0.400000   True  \n",
       "2     7.0    5.0   12.0   0.583333  0.416667   True  \n",
       "3     2.0    1.0    3.0   0.666667  0.333333   True  \n",
       "5     2.0    1.0    3.0   0.666667  0.333333   True  "
      ]
     },
     "execution_count": 360,
     "metadata": {},
     "output_type": "execute_result"
    }
   ],
   "source": [
    "cast_name.head()"
   ]
  },
  {
   "cell_type": "code",
   "execution_count": 365,
   "metadata": {},
   "outputs": [
    {
     "data": {
      "text/plain": [
       "test\n",
       "False    8872\n",
       "True      616\n",
       "Name: cluster_label, dtype: int64"
      ]
     },
     "execution_count": 365,
     "metadata": {},
     "output_type": "execute_result"
    }
   ],
   "source": [
    "cast_name.groupby('test')['cluster_label'].count()"
   ]
  },
  {
   "cell_type": "code",
   "execution_count": null,
   "metadata": {},
   "outputs": [],
   "source": []
  },
  {
   "cell_type": "markdown",
   "metadata": {},
   "source": [
    "### 輪廓圖分析 Silhouette analysis"
   ]
  },
  {
   "cell_type": "code",
   "execution_count": 103,
   "metadata": {},
   "outputs": [],
   "source": [
    "from sklearn.metrics import silhouette_samples"
   ]
  },
  {
   "cell_type": "code",
   "execution_count": 104,
   "metadata": {},
   "outputs": [],
   "source": [
    "cluster_labels = np.unique(y_km)\n",
    "n_clusters = cluster_labels.shape[0]\n",
    "silhouette_vals = silhouette_samples(X, y_km, metric='euclidean')"
   ]
  },
  {
   "cell_type": "code",
   "execution_count": 105,
   "metadata": {},
   "outputs": [
    {
     "data": {
      "text/plain": [
       "array([0.9785801 , 0.28809524, 0.31307544, ..., 0.97796666, 0.97796666,\n",
       "       0.9779881 ])"
      ]
     },
     "execution_count": 105,
     "metadata": {},
     "output_type": "execute_result"
    }
   ],
   "source": [
    "silhouette_vals"
   ]
  },
  {
   "cell_type": "code",
   "execution_count": 106,
   "metadata": {},
   "outputs": [
    {
     "data": {
      "image/png": "[encoded data removed]",
      "text/plain": [
       "<Figure size 432x288 with 1 Axes>"
      ]
     },
     "metadata": {},
     "output_type": "display_data"
    }
   ],
   "source": [
    "y_ax_lower, y_ax_upper = 0, 0\n",
    "yticks = []\n",
    "colors = [name for name, color in mcolors.TABLEAU_COLORS.items()]\n",
    "for i, c in enumerate(cluster_labels):\n",
    "    c_silhouette_vals = silhouette_vals[y_km == c]\n",
    "    c_silhouette_vals.sort()\n",
    "    y_ax_upper += len(c_silhouette_vals)\n",
    "    color = colors[i]\n",
    "    plt.barh(range(y_ax_lower, y_ax_upper), c_silhouette_vals, height=1.0, edgecolor='none', color=color)\n",
    "    yticks.append((y_ax_lower + y_ax_upper) / 2)\n",
    "    y_ax_lower += len(c_silhouette_vals)\n",
    "silhouette_avg = np.mean(silhouette_vals)\n",
    "plt.axvline(silhouette_avg, color='red', linestyle='--')\n",
    "plt.yticks(yticks, cluster_labels + 1)\n",
    "plt.ylabel('Cluster')\n",
    "plt.xlabel('Silhouette coefficient')\n",
    "plt.show()"
   ]
  },
  {
   "cell_type": "markdown",
   "metadata": {},
   "source": [
    "### DBSCAN"
   ]
  },
  {
   "cell_type": "code",
   "execution_count": 107,
   "metadata": {},
   "outputs": [],
   "source": [
    "from sklearn.cluster import DBSCAN\n",
    "from sklearn.preprocessing import StandardScaler\n",
    "from sklearn import metrics"
   ]
  },
  {
   "cell_type": "code",
   "execution_count": 108,
   "metadata": {},
   "outputs": [],
   "source": [
    "X = X = cast_name.drop(columns='name')"
   ]
  },
  {
   "cell_type": "code",
   "execution_count": 109,
   "metadata": {},
   "outputs": [],
   "source": [
    "X = StandardScaler().fit_transform(X)"
   ]
  },
  {
   "cell_type": "code",
   "execution_count": 110,
   "metadata": {},
   "outputs": [],
   "source": [
    "db = DBSCAN(eps=0.2,\n",
    "            min_samples=5,\n",
    "            metric='euclidean')\n",
    "y_db = db.fit_predict(X)"
   ]
  },
  {
   "cell_type": "code",
   "execution_count": 111,
   "metadata": {},
   "outputs": [
    {
     "data": {
      "text/plain": [
       "(9621,\n",
       " {-1,\n",
       "  0,\n",
       "  1,\n",
       "  2,\n",
       "  3,\n",
       "  4,\n",
       "  5,\n",
       "  6,\n",
       "  7,\n",
       "  8,\n",
       "  9,\n",
       "  10,\n",
       "  11,\n",
       "  12,\n",
       "  13,\n",
       "  14,\n",
       "  15,\n",
       "  16,\n",
       "  17,\n",
       "  18,\n",
       "  19,\n",
       "  20,\n",
       "  21,\n",
       "  22,\n",
       "  23,\n",
       "  24,\n",
       "  25,\n",
       "  26,\n",
       "  27,\n",
       "  28,\n",
       "  29,\n",
       "  30})"
      ]
     },
     "execution_count": 111,
     "metadata": {},
     "output_type": "execute_result"
    }
   ],
   "source": [
    "len(y_db), set(y_db)"
   ]
  },
  {
   "cell_type": "code",
   "execution_count": 112,
   "metadata": {},
   "outputs": [],
   "source": [
    "core_samples_mask = np.zeros_like(db.labels_, dtype=bool)\n",
    "core_samples_mask[db.core_sample_indices_] = True\n",
    "labels = db.labels_"
   ]
  },
  {
   "cell_type": "code",
   "execution_count": 113,
   "metadata": {},
   "outputs": [
    {
     "name": "stdout",
     "output_type": "stream",
     "text": [
      "Estimated number of clusters: 31\n",
      "Estimated number of noise points: 1446\n",
      "Silhouette Coefficient: 0.265\n"
     ]
    }
   ],
   "source": [
    "n_clusters_ = len(set(labels)) - (1 if -1 in labels else 0)\n",
    "n_noise_ = list(labels).count(-1)\n",
    "print('Estimated number of clusters: %d' % n_clusters_)\n",
    "print('Estimated number of noise points: %d' % n_noise_)\n",
    "print(\"Silhouette Coefficient: %0.3f\" % metrics.silhouette_score(X, labels))"
   ]
  },
  {
   "cell_type": "code",
   "execution_count": 116,
   "metadata": {},
   "outputs": [
    {
     "data": {
      "text/plain": [
       "Text(0.5, 1.0, 'DBSCAN(all features)')"
      ]
     },
     "execution_count": 116,
     "metadata": {},
     "output_type": "execute_result"
    },
    {
     "data": {
      "image/png": "[encoded data removed]",
      "text/plain": [
       "<Figure size 720x432 with 1 Axes>"
      ]
     },
     "metadata": {},
     "output_type": "display_data"
    }
   ],
   "source": [
    "colors = [ name for name, color in mcolors.TABLEAU_COLORS.items()]\n",
    "plt.figure(figsize=(10,6))\n",
    "for i,c in enumerate(set(y_db)):\n",
    "    plt.scatter(cast_name['id'][y_db == i], \n",
    "                cast_name['boxoffice'][y_db == i], \n",
    "                marker='o', s=40, c=colors[i % len(colors)], label=f'cluster {c}')\n",
    "plt.legend()\n",
    "plt.title('DBSCAN(all features)')"
   ]
  },
  {
   "cell_type": "code",
   "execution_count": null,
   "metadata": {},
   "outputs": [],
   "source": []
  }
 ],
 "metadata": {
  "kernelspec": {
   "display_name": "Python 3",
   "language": "python",
   "name": "python3"
  },
  "language_info": {
   "codemirror_mode": {
    "name": "ipython",
    "version": 3
   },
   "file_extension": ".py",
   "mimetype": "text/x-python",
   "name": "python",
   "nbconvert_exporter": "python",
   "pygments_lexer": "ipython3",
   "version": "3.7.10"
  },
  "varInspector": {
   "cols": {
    "lenName": 16,
    "lenType": 16,
    "lenVar": 40
   },
   "kernels_config": {
    "python": {
     "delete_cmd_postfix": "",
     "delete_cmd_prefix": "del ",
     "library": "var_list.py",
     "varRefreshCmd": "print(var_dic_list())"
    },
    "r": {
     "delete_cmd_postfix": ") ",
     "delete_cmd_prefix": "rm(",
     "library": "var_list.r",
     "varRefreshCmd": "cat(var_dic_list()) "
    }
   },
   "position": {
    "height": "158.594px",
    "left": "1605.19px",
    "right": "20px",
    "top": "117px",
    "width": "281.797px"
   },
   "types_to_exclude": [
    "module",
    "function",
    "builtin_function_or_method",
    "instance",
    "_Feature"
   ],
   "window_display": true
  }
 },
 "nbformat": 4,
 "nbformat_minor": 2
}

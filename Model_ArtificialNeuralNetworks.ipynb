{
 "cells": [
  {
   "cell_type": "code",
   "execution_count": 1,
   "metadata": {},
   "outputs": [],
   "source": [
    "import numpy as np\n",
    "import pandas as pd"
   ]
  },
  {
   "cell_type": "code",
   "execution_count": 2,
   "metadata": {},
   "outputs": [],
   "source": [
    "import matplotlib.pyplot as plt\n",
    "import matplotlib.colors as mcolors\n",
    "import seaborn as sns"
   ]
  },
  {
   "cell_type": "code",
   "execution_count": 3,
   "metadata": {},
   "outputs": [],
   "source": [
    "%matplotlib inline\n",
    "sns.set()"
   ]
  },
  {
   "cell_type": "code",
   "execution_count": 4,
   "metadata": {},
   "outputs": [],
   "source": [
    "movies_df = pd.read_csv('movies_data_20191030_v3.csv')"
   ]
  },
  {
   "cell_type": "code",
   "execution_count": 5,
   "metadata": {},
   "outputs": [
    {
     "name": "stdout",
     "output_type": "stream",
     "text": [
      "<class 'pandas.core.frame.DataFrame'>\n",
      "RangeIndex: 6296 entries, 0 to 6295\n",
      "Data columns (total 74 columns):\n",
      "tmdb_id                           6296 non-null float64\n",
      "mojo_title                        6296 non-null object\n",
      "original_title                    6296 non-null object\n",
      "tagline                           3619 non-null object\n",
      "collection_id                     668 non-null float64\n",
      "budget                            2401 non-null float64\n",
      "Total_gross                       6296 non-null int64\n",
      "comments_total_qty                6296 non-null float64\n",
      "sc_negative                       6296 non-null float64\n",
      "sc_neutral                        6296 non-null float64\n",
      "sc_positive                       6296 non-null float64\n",
      "total_sentiment_level             6296 non-null object\n",
      "holidayweek                       1019 non-null object\n",
      "Release_date                      6296 non-null object\n",
      "Release_year                      6296 non-null int64\n",
      "Release_month                     6296 non-null int64\n",
      "Release_weekday                   6296 non-null int64\n",
      "release_in_holidayweek            6296 non-null int64\n",
      "original_language                 6296 non-null object\n",
      "distributor                       6296 non-null object\n",
      "belongs_to_collection             6296 non-null int64\n",
      "homepage                          6296 non-null int64\n",
      "genres                            6296 non-null object\n",
      "Adventure                         6296 non-null int64\n",
      "Fantasy                           6296 non-null int64\n",
      "Animation                         6296 non-null int64\n",
      "Drama                             6296 non-null int64\n",
      "Horror                            6296 non-null int64\n",
      "Action                            6296 non-null int64\n",
      "Comedy                            6296 non-null int64\n",
      "History                           6296 non-null int64\n",
      "Thriller                          6296 non-null int64\n",
      "Crime                             6296 non-null int64\n",
      "Documentary                       6296 non-null int64\n",
      "Science Fiction                   6296 non-null int64\n",
      "Mystery                           6296 non-null int64\n",
      "Romance                           6296 non-null int64\n",
      "Family                            6296 non-null int64\n",
      "genre_others                      6296 non-null int64\n",
      "director_id                       6296 non-null object\n",
      "top3_cast                         6296 non-null object\n",
      "1st_cast                          6296 non-null object\n",
      "2nd_cast                          6296 non-null object\n",
      "3rd_cast                          6296 non-null object\n",
      "have_comments                     6296 non-null int64\n",
      "runtime                           6296 non-null float64\n",
      "num_of_genres                     6296 non-null int64\n",
      "num_cast                          6296 non-null int64\n",
      "num_director                      6296 non-null int64\n",
      "num_awardActor                    6296 non-null int64\n",
      "num_nomActor                      6296 non-null int64\n",
      "num_awardDir                      6296 non-null int64\n",
      "comments_qty_before_release       6296 non-null float64\n",
      "comments_pc_before_release        6296 non-null float64\n",
      "sc2_negative                      6296 non-null float64\n",
      "sc2_neutral                       6296 non-null float64\n",
      "sc2_positive                      6296 non-null float64\n",
      "sentiment_level_before_release    6296 non-null object\n",
      "sc2_negative_pc                   6296 non-null float64\n",
      "sc2_neutral_pc                    6296 non-null float64\n",
      "sc2_positive_pc                   6296 non-null float64\n",
      "comments_bf_1wk                   6296 non-null float64\n",
      "comments_bf_2wk                   6296 non-null float64\n",
      "comments_bf_4wk                   6296 non-null float64\n",
      "num_sp_languages                  6296 non-null int64\n",
      "gdp_deflator                      6296 non-null float64\n",
      "unemployment_rate                 6296 non-null float64\n",
      "gdp_annual_rate                   6296 non-null float64\n",
      "First_week_gross                  6296 non-null int64\n",
      "adj_first_week_gross              6296 non-null float64\n",
      "boxoffice_level                   6296 non-null int64\n",
      "week_boxoffice_level              6296 non-null int64\n",
      "boxoffice_level(4)                6296 non-null int64\n",
      "week_boxoffice_level(4)           6296 non-null int64\n",
      "dtypes: float64(23), int64(36), object(15)\n",
      "memory usage: 3.6+ MB\n"
     ]
    }
   ],
   "source": [
    "movies_df.info()"
   ]
  },
  {
   "cell_type": "markdown",
   "metadata": {},
   "source": [
    "### drop模型不會使用的欄位"
   ]
  },
  {
   "cell_type": "code",
   "execution_count": 6,
   "metadata": {},
   "outputs": [],
   "source": [
    "movies_df = movies_df.iloc[:,13:]"
   ]
  },
  {
   "cell_type": "code",
   "execution_count": 7,
   "metadata": {},
   "outputs": [
    {
     "name": "stdout",
     "output_type": "stream",
     "text": [
      "<class 'pandas.core.frame.DataFrame'>\n",
      "RangeIndex: 6296 entries, 0 to 6295\n",
      "Data columns (total 61 columns):\n",
      "Release_date                      6296 non-null object\n",
      "Release_year                      6296 non-null int64\n",
      "Release_month                     6296 non-null int64\n",
      "Release_weekday                   6296 non-null int64\n",
      "release_in_holidayweek            6296 non-null int64\n",
      "original_language                 6296 non-null object\n",
      "distributor                       6296 non-null object\n",
      "belongs_to_collection             6296 non-null int64\n",
      "homepage                          6296 non-null int64\n",
      "genres                            6296 non-null object\n",
      "Adventure                         6296 non-null int64\n",
      "Fantasy                           6296 non-null int64\n",
      "Animation                         6296 non-null int64\n",
      "Drama                             6296 non-null int64\n",
      "Horror                            6296 non-null int64\n",
      "Action                            6296 non-null int64\n",
      "Comedy                            6296 non-null int64\n",
      "History                           6296 non-null int64\n",
      "Thriller                          6296 non-null int64\n",
      "Crime                             6296 non-null int64\n",
      "Documentary                       6296 non-null int64\n",
      "Science Fiction                   6296 non-null int64\n",
      "Mystery                           6296 non-null int64\n",
      "Romance                           6296 non-null int64\n",
      "Family                            6296 non-null int64\n",
      "genre_others                      6296 non-null int64\n",
      "director_id                       6296 non-null object\n",
      "top3_cast                         6296 non-null object\n",
      "1st_cast                          6296 non-null object\n",
      "2nd_cast                          6296 non-null object\n",
      "3rd_cast                          6296 non-null object\n",
      "have_comments                     6296 non-null int64\n",
      "runtime                           6296 non-null float64\n",
      "num_of_genres                     6296 non-null int64\n",
      "num_cast                          6296 non-null int64\n",
      "num_director                      6296 non-null int64\n",
      "num_awardActor                    6296 non-null int64\n",
      "num_nomActor                      6296 non-null int64\n",
      "num_awardDir                      6296 non-null int64\n",
      "comments_qty_before_release       6296 non-null float64\n",
      "comments_pc_before_release        6296 non-null float64\n",
      "sc2_negative                      6296 non-null float64\n",
      "sc2_neutral                       6296 non-null float64\n",
      "sc2_positive                      6296 non-null float64\n",
      "sentiment_level_before_release    6296 non-null object\n",
      "sc2_negative_pc                   6296 non-null float64\n",
      "sc2_neutral_pc                    6296 non-null float64\n",
      "sc2_positive_pc                   6296 non-null float64\n",
      "comments_bf_1wk                   6296 non-null float64\n",
      "comments_bf_2wk                   6296 non-null float64\n",
      "comments_bf_4wk                   6296 non-null float64\n",
      "num_sp_languages                  6296 non-null int64\n",
      "gdp_deflator                      6296 non-null float64\n",
      "unemployment_rate                 6296 non-null float64\n",
      "gdp_annual_rate                   6296 non-null float64\n",
      "First_week_gross                  6296 non-null int64\n",
      "adj_first_week_gross              6296 non-null float64\n",
      "boxoffice_level                   6296 non-null int64\n",
      "week_boxoffice_level              6296 non-null int64\n",
      "boxoffice_level(4)                6296 non-null int64\n",
      "week_boxoffice_level(4)           6296 non-null int64\n",
      "dtypes: float64(16), int64(35), object(10)\n",
      "memory usage: 2.9+ MB\n"
     ]
    }
   ],
   "source": [
    "movies_df.info()"
   ]
  },
  {
   "cell_type": "markdown",
   "metadata": {},
   "source": [
    "###  類別標籤編碼"
   ]
  },
  {
   "cell_type": "code",
   "execution_count": 8,
   "metadata": {},
   "outputs": [],
   "source": [
    "from sklearn.preprocessing import LabelEncoder"
   ]
  },
  {
   "cell_type": "markdown",
   "metadata": {},
   "source": [
    "original_language"
   ]
  },
  {
   "cell_type": "code",
   "execution_count": 9,
   "metadata": {},
   "outputs": [
    {
     "data": {
      "text/plain": [
       "array([14, 14, 14, ..., 12, 14, 19])"
      ]
     },
     "execution_count": 9,
     "metadata": {},
     "output_type": "execute_result"
    }
   ],
   "source": [
    "le_lang = LabelEncoder()\n",
    "label_language = le_lang.fit_transform(movies_df['original_language'].values)\n",
    "label_language"
   ]
  },
  {
   "cell_type": "code",
   "execution_count": 10,
   "metadata": {},
   "outputs": [
    {
     "data": {
      "text/plain": [
       "array(['en', 'en', 'en', ..., 'de', 'en', 'fr'], dtype=object)"
      ]
     },
     "execution_count": 10,
     "metadata": {},
     "output_type": "execute_result"
    }
   ],
   "source": [
    "le_lang.inverse_transform(label_language)"
   ]
  },
  {
   "cell_type": "code",
   "execution_count": 11,
   "metadata": {},
   "outputs": [],
   "source": [
    "movies_df['original_language'] = label_language"
   ]
  },
  {
   "cell_type": "markdown",
   "metadata": {},
   "source": [
    "Distributor"
   ]
  },
  {
   "cell_type": "code",
   "execution_count": 12,
   "metadata": {},
   "outputs": [
    {
     "data": {
      "text/plain": [
       "array([192, 364, 511, ..., 170, 116, 505])"
      ]
     },
     "execution_count": 12,
     "metadata": {},
     "output_type": "execute_result"
    }
   ],
   "source": [
    "le_dis = LabelEncoder()\n",
    "label_distributor = le_dis.fit_transform(movies_df['distributor'].values)\n",
    "label_distributor"
   ]
  },
  {
   "cell_type": "code",
   "execution_count": 13,
   "metadata": {},
   "outputs": [
    {
     "data": {
      "text/plain": [
       "array(['Fox', 'Paramount', 'Warner Bros.', ..., 'Film Movement',\n",
       "       'Cinema Libre Studio', 'Viva Pictures Distribution'], dtype=object)"
      ]
     },
     "execution_count": 13,
     "metadata": {},
     "output_type": "execute_result"
    }
   ],
   "source": [
    "le_dis.inverse_transform(label_distributor)"
   ]
  },
  {
   "cell_type": "code",
   "execution_count": 14,
   "metadata": {},
   "outputs": [],
   "source": [
    "movies_df['distributor'] = label_distributor"
   ]
  },
  {
   "cell_type": "markdown",
   "metadata": {},
   "source": [
    "genres"
   ]
  },
  {
   "cell_type": "code",
   "execution_count": 15,
   "metadata": {},
   "outputs": [
    {
     "data": {
      "text/plain": [
       "array([ 56, 159,   7, ..., 130, 638, 311])"
      ]
     },
     "execution_count": 15,
     "metadata": {},
     "output_type": "execute_result"
    }
   ],
   "source": [
    "le_gen = LabelEncoder()\n",
    "label_genres = le_gen.fit_transform(movies_df['genres'].values)\n",
    "label_genres"
   ]
  },
  {
   "cell_type": "code",
   "execution_count": 16,
   "metadata": {},
   "outputs": [
    {
     "data": {
      "text/plain": [
       "array(['[12, 14, 28, 878]', '[12, 28, 878]', '[12, 14, 10751]', ...,\n",
       "       '[12, 18]', '[99]', '[16, 35]'], dtype=object)"
      ]
     },
     "execution_count": 16,
     "metadata": {},
     "output_type": "execute_result"
    }
   ],
   "source": [
    "le_gen.inverse_transform(label_genres)"
   ]
  },
  {
   "cell_type": "code",
   "execution_count": 17,
   "metadata": {},
   "outputs": [],
   "source": [
    "movies_df['genres'] = label_genres"
   ]
  },
  {
   "cell_type": "markdown",
   "metadata": {},
   "source": [
    "top3_cast"
   ]
  },
  {
   "cell_type": "code",
   "execution_count": 18,
   "metadata": {},
   "outputs": [
    {
     "data": {
      "text/plain": [
       "array([4763,  332,  342, ..., 2081, 5902,  632])"
      ]
     },
     "execution_count": 18,
     "metadata": {},
     "output_type": "execute_result"
    }
   ],
   "source": [
    "le_cast_pkg = LabelEncoder()\n",
    "label_top3_cast = le_cast_pkg.fit_transform(movies_df['top3_cast'].values)\n",
    "label_top3_cast"
   ]
  },
  {
   "cell_type": "code",
   "execution_count": 19,
   "metadata": {},
   "outputs": [
    {
     "data": {
      "text/plain": [
       "array(['[65731, 8691, 32747]', '[10959, 19537, 19536]',\n",
       "       '[10980, 10989, 10990]', ..., '[17373, 49204, 1846]', 'unknown',\n",
       "       '[1165008, 118178, 37181]'], dtype=object)"
      ]
     },
     "execution_count": 19,
     "metadata": {},
     "output_type": "execute_result"
    }
   ],
   "source": [
    "le_cast_pkg.inverse_transform(label_top3_cast)"
   ]
  },
  {
   "cell_type": "code",
   "execution_count": 20,
   "metadata": {},
   "outputs": [],
   "source": [
    "movies_df['top3_cast'] = label_top3_cast"
   ]
  },
  {
   "cell_type": "markdown",
   "metadata": {},
   "source": [
    "cast"
   ]
  },
  {
   "cell_type": "code",
   "execution_count": 21,
   "metadata": {},
   "outputs": [
    {
     "data": {
      "text/plain": [
       "array([3003,  250,  254, ..., 1530, 3671,  442])"
      ]
     },
     "execution_count": 21,
     "metadata": {},
     "output_type": "execute_result"
    }
   ],
   "source": [
    "le_cast = LabelEncoder()\n",
    "label_1st_cast = le_cast.fit_transform(movies_df['1st_cast'].values)\n",
    "label_1st_cast"
   ]
  },
  {
   "cell_type": "code",
   "execution_count": 22,
   "metadata": {},
   "outputs": [
    {
     "data": {
      "text/plain": [
       "array([3769, 1872,  252, ..., 2785, 4066,  532])"
      ]
     },
     "execution_count": 22,
     "metadata": {},
     "output_type": "execute_result"
    }
   ],
   "source": [
    "label_2nd_cast = le_cast.fit_transform(movies_df['2nd_cast'].values)\n",
    "label_2nd_cast"
   ]
  },
  {
   "cell_type": "code",
   "execution_count": 23,
   "metadata": {},
   "outputs": [
    {
     "data": {
      "text/plain": [
       "array([2676, 2001,  270, ..., 1881, 4316, 2771])"
      ]
     },
     "execution_count": 23,
     "metadata": {},
     "output_type": "execute_result"
    }
   ],
   "source": [
    "label_3rd_cast = le_cast.fit_transform(movies_df['3rd_cast'].values)\n",
    "label_3rd_cast"
   ]
  },
  {
   "cell_type": "code",
   "execution_count": 24,
   "metadata": {},
   "outputs": [
    {
     "data": {
      "text/plain": [
       "array(['36745.0'], dtype=object)"
      ]
     },
     "execution_count": 24,
     "metadata": {},
     "output_type": "execute_result"
    }
   ],
   "source": [
    "le_cast.inverse_transform([2761])"
   ]
  },
  {
   "cell_type": "code",
   "execution_count": 25,
   "metadata": {},
   "outputs": [
    {
     "data": {
      "text/html": [
       "<div>\n",
       "<style scoped>\n",
       "    .dataframe tbody tr th:only-of-type {\n",
       "        vertical-align: middle;\n",
       "    }\n",
       "\n",
       "    .dataframe tbody tr th {\n",
       "        vertical-align: top;\n",
       "    }\n",
       "\n",
       "    .dataframe thead th {\n",
       "        text-align: right;\n",
       "    }\n",
       "</style>\n",
       "<table border=\"1\" class=\"dataframe\">\n",
       "  <thead>\n",
       "    <tr style=\"text-align: right;\">\n",
       "      <th></th>\n",
       "      <th>Release_date</th>\n",
       "      <th>Release_year</th>\n",
       "      <th>Release_month</th>\n",
       "      <th>Release_weekday</th>\n",
       "      <th>release_in_holidayweek</th>\n",
       "      <th>original_language</th>\n",
       "      <th>distributor</th>\n",
       "      <th>belongs_to_collection</th>\n",
       "      <th>homepage</th>\n",
       "      <th>genres</th>\n",
       "      <th>...</th>\n",
       "      <th>num_sp_languages</th>\n",
       "      <th>gdp_deflator</th>\n",
       "      <th>unemployment_rate</th>\n",
       "      <th>gdp_annual_rate</th>\n",
       "      <th>First_week_gross</th>\n",
       "      <th>adj_first_week_gross</th>\n",
       "      <th>boxoffice_level</th>\n",
       "      <th>week_boxoffice_level</th>\n",
       "      <th>boxoffice_level(4)</th>\n",
       "      <th>week_boxoffice_level(4)</th>\n",
       "    </tr>\n",
       "  </thead>\n",
       "  <tbody>\n",
       "    <tr>\n",
       "      <th>2688</th>\n",
       "      <td>2013-01-18</td>\n",
       "      <td>2013</td>\n",
       "      <td>1</td>\n",
       "      <td>4</td>\n",
       "      <td>0</td>\n",
       "      <td>14</td>\n",
       "      <td>35</td>\n",
       "      <td>0</td>\n",
       "      <td>0</td>\n",
       "      <td>465</td>\n",
       "      <td>...</td>\n",
       "      <td>1</td>\n",
       "      <td>1.754916</td>\n",
       "      <td>7.3749</td>\n",
       "      <td>1.842081</td>\n",
       "      <td>1463</td>\n",
       "      <td>833.658254</td>\n",
       "      <td>6</td>\n",
       "      <td>6</td>\n",
       "      <td>4</td>\n",
       "      <td>4</td>\n",
       "    </tr>\n",
       "  </tbody>\n",
       "</table>\n",
       "<p>1 rows × 61 columns</p>\n",
       "</div>"
      ],
      "text/plain": [
       "     Release_date  Release_year  Release_month  Release_weekday  \\\n",
       "2688   2013-01-18          2013              1                4   \n",
       "\n",
       "      release_in_holidayweek  original_language  distributor  \\\n",
       "2688                       0                 14           35   \n",
       "\n",
       "      belongs_to_collection  homepage  genres  ...  num_sp_languages  \\\n",
       "2688                      0         0     465  ...                 1   \n",
       "\n",
       "      gdp_deflator  unemployment_rate  gdp_annual_rate  First_week_gross  \\\n",
       "2688      1.754916             7.3749         1.842081              1463   \n",
       "\n",
       "      adj_first_week_gross  boxoffice_level  week_boxoffice_level  \\\n",
       "2688            833.658254                6                     6   \n",
       "\n",
       "      boxoffice_level(4)  week_boxoffice_level(4)  \n",
       "2688                   4                        4  \n",
       "\n",
       "[1 rows x 61 columns]"
      ]
     },
     "execution_count": 25,
     "metadata": {},
     "output_type": "execute_result"
    }
   ],
   "source": [
    "movies_df[movies_df['1st_cast'] == '32747.0']"
   ]
  },
  {
   "cell_type": "code",
   "execution_count": 26,
   "metadata": {},
   "outputs": [],
   "source": [
    "movies_df['1st_cast'] = label_1st_cast\n",
    "movies_df['2nd_cast'] = label_2nd_cast\n",
    "movies_df['3rd_cast'] = label_3rd_cast"
   ]
  },
  {
   "cell_type": "markdown",
   "metadata": {},
   "source": [
    "director"
   ]
  },
  {
   "cell_type": "code",
   "execution_count": 27,
   "metadata": {},
   "outputs": [
    {
     "data": {
      "text/plain": [
       "array([2762, 4023,  545, ..., 3085, 3702, 2108])"
      ]
     },
     "execution_count": 27,
     "metadata": {},
     "output_type": "execute_result"
    }
   ],
   "source": [
    "le_drt = LabelEncoder()\n",
    "label_director = le_drt.fit_transform(movies_df['director_id'].values)\n",
    "label_director"
   ]
  },
  {
   "cell_type": "code",
   "execution_count": 28,
   "metadata": {},
   "outputs": [],
   "source": [
    "movies_df['director_id'] = label_director"
   ]
  },
  {
   "cell_type": "markdown",
   "metadata": {},
   "source": [
    "sentimental"
   ]
  },
  {
   "cell_type": "code",
   "execution_count": 29,
   "metadata": {},
   "outputs": [
    {
     "data": {
      "text/plain": [
       "array([3, 3, 3, ..., 0, 3, 3])"
      ]
     },
     "execution_count": 29,
     "metadata": {},
     "output_type": "execute_result"
    }
   ],
   "source": [
    "le_sen = LabelEncoder()\n",
    "label_bf_release = le_sen.fit_transform(movies_df['sentiment_level_before_release'].values)\n",
    "label_bf_release"
   ]
  },
  {
   "cell_type": "code",
   "execution_count": 30,
   "metadata": {},
   "outputs": [],
   "source": [
    "movies_df['sentiment_level_before_release'] = label_bf_release"
   ]
  },
  {
   "cell_type": "markdown",
   "metadata": {},
   "source": [
    "change datatype"
   ]
  },
  {
   "cell_type": "code",
   "execution_count": 31,
   "metadata": {},
   "outputs": [],
   "source": [
    "movies_df['Release_date'] = movies_df['Release_date'].astype('datetime64')"
   ]
  },
  {
   "cell_type": "code",
   "execution_count": 32,
   "metadata": {},
   "outputs": [],
   "source": [
    "movies_df['release_in_holidayweek'] = movies_df['release_in_holidayweek'].astype('int32')\n",
    "movies_df['homepage'] = movies_df['homepage'].astype('int32')\n",
    "movies_df['have_comments'] = movies_df['have_comments'].astype('int32')"
   ]
  },
  {
   "cell_type": "code",
   "execution_count": 33,
   "metadata": {
    "scrolled": true
   },
   "outputs": [
    {
     "name": "stdout",
     "output_type": "stream",
     "text": [
      "<class 'pandas.core.frame.DataFrame'>\n",
      "RangeIndex: 6296 entries, 0 to 6295\n",
      "Data columns (total 61 columns):\n",
      "Release_date                      6296 non-null datetime64[ns]\n",
      "Release_year                      6296 non-null int64\n",
      "Release_month                     6296 non-null int64\n",
      "Release_weekday                   6296 non-null int64\n",
      "release_in_holidayweek            6296 non-null int32\n",
      "original_language                 6296 non-null int32\n",
      "distributor                       6296 non-null int32\n",
      "belongs_to_collection             6296 non-null int64\n",
      "homepage                          6296 non-null int32\n",
      "genres                            6296 non-null int32\n",
      "Adventure                         6296 non-null int64\n",
      "Fantasy                           6296 non-null int64\n",
      "Animation                         6296 non-null int64\n",
      "Drama                             6296 non-null int64\n",
      "Horror                            6296 non-null int64\n",
      "Action                            6296 non-null int64\n",
      "Comedy                            6296 non-null int64\n",
      "History                           6296 non-null int64\n",
      "Thriller                          6296 non-null int64\n",
      "Crime                             6296 non-null int64\n",
      "Documentary                       6296 non-null int64\n",
      "Science Fiction                   6296 non-null int64\n",
      "Mystery                           6296 non-null int64\n",
      "Romance                           6296 non-null int64\n",
      "Family                            6296 non-null int64\n",
      "genre_others                      6296 non-null int64\n",
      "director_id                       6296 non-null int32\n",
      "top3_cast                         6296 non-null int32\n",
      "1st_cast                          6296 non-null int32\n",
      "2nd_cast                          6296 non-null int32\n",
      "3rd_cast                          6296 non-null int32\n",
      "have_comments                     6296 non-null int32\n",
      "runtime                           6296 non-null float64\n",
      "num_of_genres                     6296 non-null int64\n",
      "num_cast                          6296 non-null int64\n",
      "num_director                      6296 non-null int64\n",
      "num_awardActor                    6296 non-null int64\n",
      "num_nomActor                      6296 non-null int64\n",
      "num_awardDir                      6296 non-null int64\n",
      "comments_qty_before_release       6296 non-null float64\n",
      "comments_pc_before_release        6296 non-null float64\n",
      "sc2_negative                      6296 non-null float64\n",
      "sc2_neutral                       6296 non-null float64\n",
      "sc2_positive                      6296 non-null float64\n",
      "sentiment_level_before_release    6296 non-null int32\n",
      "sc2_negative_pc                   6296 non-null float64\n",
      "sc2_neutral_pc                    6296 non-null float64\n",
      "sc2_positive_pc                   6296 non-null float64\n",
      "comments_bf_1wk                   6296 non-null float64\n",
      "comments_bf_2wk                   6296 non-null float64\n",
      "comments_bf_4wk                   6296 non-null float64\n",
      "num_sp_languages                  6296 non-null int64\n",
      "gdp_deflator                      6296 non-null float64\n",
      "unemployment_rate                 6296 non-null float64\n",
      "gdp_annual_rate                   6296 non-null float64\n",
      "First_week_gross                  6296 non-null int64\n",
      "adj_first_week_gross              6296 non-null float64\n",
      "boxoffice_level                   6296 non-null int64\n",
      "week_boxoffice_level              6296 non-null int64\n",
      "boxoffice_level(4)                6296 non-null int64\n",
      "week_boxoffice_level(4)           6296 non-null int64\n",
      "dtypes: datetime64[ns](1), float64(16), int32(12), int64(32)\n",
      "memory usage: 2.6 MB\n"
     ]
    }
   ],
   "source": [
    "movies_df.info()"
   ]
  },
  {
   "cell_type": "markdown",
   "metadata": {},
   "source": [
    "### 金額取log"
   ]
  },
  {
   "cell_type": "code",
   "execution_count": 34,
   "metadata": {},
   "outputs": [],
   "source": [
    "movies_df['log_adj_gross'] = movies_df['adj_first_week_gross'].apply(np.log)"
   ]
  },
  {
   "cell_type": "code",
   "execution_count": 36,
   "metadata": {},
   "outputs": [],
   "source": [
    "movies_df['log_gross'] = movies_df['First_week_gross'].apply(np.log)"
   ]
  },
  {
   "cell_type": "code",
   "execution_count": 37,
   "metadata": {},
   "outputs": [
    {
     "data": {
      "text/plain": [
       "<matplotlib.axes._subplots.AxesSubplot at 0x17c688df1d0>"
      ]
     },
     "execution_count": 37,
     "metadata": {},
     "output_type": "execute_result"
    },
    {
     "data": {
      "image/png": "[encoded data removed]",
      "text/plain": [
       "<Figure size 432x288 with 1 Axes>"
      ]
     },
     "metadata": {},
     "output_type": "display_data"
    }
   ],
   "source": [
    "sns.distplot(movies_df['log_adj_gross'])"
   ]
  },
  {
   "cell_type": "code",
   "execution_count": 38,
   "metadata": {},
   "outputs": [
    {
     "data": {
      "text/plain": [
       "<matplotlib.axes._subplots.AxesSubplot at 0x17c6847e828>"
      ]
     },
     "execution_count": 38,
     "metadata": {},
     "output_type": "execute_result"
    },
    {
     "data": {
      "image/png": "[encoded data removed]",
      "text/plain": [
       "<Figure size 432x288 with 1 Axes>"
      ]
     },
     "metadata": {},
     "output_type": "display_data"
    }
   ],
   "source": [
    "sns.distplot(movies_df['log_gross'])"
   ]
  },
  {
   "cell_type": "markdown",
   "metadata": {},
   "source": [
    "### 類神經網路"
   ]
  },
  {
   "cell_type": "markdown",
   "metadata": {},
   "source": [
    "#### 分訓練與測試集"
   ]
  },
  {
   "cell_type": "code",
   "execution_count": 39,
   "metadata": {},
   "outputs": [],
   "source": [
    "X = movies_df[movies_df['week_boxoffice_level(4)']==1].iloc[:, 1:-8]"
   ]
  },
  {
   "cell_type": "code",
   "execution_count": 40,
   "metadata": {},
   "outputs": [],
   "source": [
    "# X.drop(columns=['Adventure', 'Fantasy', 'Animation', 'Drama', 'Horror', 'Action', 'Comedy',\n",
    "#                 'History', 'Thriller', 'Crime', 'Documentary', 'Science Fiction', 'Mystery',\n",
    "#                 'Romance', 'Family', 'genre_others'], inplace=True)\n",
    "\n",
    "\n",
    "X.drop(columns=['gdp_deflator'], inplace=True)\n",
    "X.drop(columns=['Release_year'], inplace=True)\n",
    "# X.drop(columns=['Release_month'], inplace=True)"
   ]
  },
  {
   "cell_type": "code",
   "execution_count": 41,
   "metadata": {},
   "outputs": [
    {
     "data": {
      "text/html": [
       "<div>\n",
       "<style scoped>\n",
       "    .dataframe tbody tr th:only-of-type {\n",
       "        vertical-align: middle;\n",
       "    }\n",
       "\n",
       "    .dataframe tbody tr th {\n",
       "        vertical-align: top;\n",
       "    }\n",
       "\n",
       "    .dataframe thead th {\n",
       "        text-align: right;\n",
       "    }\n",
       "</style>\n",
       "<table border=\"1\" class=\"dataframe\">\n",
       "  <thead>\n",
       "    <tr style=\"text-align: right;\">\n",
       "      <th></th>\n",
       "      <th>Release_month</th>\n",
       "      <th>Release_weekday</th>\n",
       "      <th>release_in_holidayweek</th>\n",
       "      <th>original_language</th>\n",
       "      <th>distributor</th>\n",
       "      <th>belongs_to_collection</th>\n",
       "      <th>homepage</th>\n",
       "      <th>genres</th>\n",
       "      <th>Adventure</th>\n",
       "      <th>Fantasy</th>\n",
       "      <th>...</th>\n",
       "      <th>sentiment_level_before_release</th>\n",
       "      <th>sc2_negative_pc</th>\n",
       "      <th>sc2_neutral_pc</th>\n",
       "      <th>sc2_positive_pc</th>\n",
       "      <th>comments_bf_1wk</th>\n",
       "      <th>comments_bf_2wk</th>\n",
       "      <th>comments_bf_4wk</th>\n",
       "      <th>num_sp_languages</th>\n",
       "      <th>unemployment_rate</th>\n",
       "      <th>gdp_annual_rate</th>\n",
       "    </tr>\n",
       "  </thead>\n",
       "  <tbody>\n",
       "    <tr>\n",
       "      <th>0</th>\n",
       "      <td>12</td>\n",
       "      <td>4</td>\n",
       "      <td>0</td>\n",
       "      <td>14</td>\n",
       "      <td>192</td>\n",
       "      <td>1</td>\n",
       "      <td>1</td>\n",
       "      <td>56</td>\n",
       "      <td>1</td>\n",
       "      <td>1</td>\n",
       "      <td>...</td>\n",
       "      <td>3</td>\n",
       "      <td>0.0</td>\n",
       "      <td>0.0</td>\n",
       "      <td>0.0</td>\n",
       "      <td>0.0</td>\n",
       "      <td>0.0</td>\n",
       "      <td>0.0</td>\n",
       "      <td>2</td>\n",
       "      <td>9.2542</td>\n",
       "      <td>-2.536757</td>\n",
       "    </tr>\n",
       "    <tr>\n",
       "      <th>1</th>\n",
       "      <td>6</td>\n",
       "      <td>2</td>\n",
       "      <td>0</td>\n",
       "      <td>14</td>\n",
       "      <td>364</td>\n",
       "      <td>1</td>\n",
       "      <td>0</td>\n",
       "      <td>159</td>\n",
       "      <td>1</td>\n",
       "      <td>0</td>\n",
       "      <td>...</td>\n",
       "      <td>3</td>\n",
       "      <td>0.0</td>\n",
       "      <td>0.0</td>\n",
       "      <td>0.0</td>\n",
       "      <td>0.0</td>\n",
       "      <td>0.0</td>\n",
       "      <td>0.0</td>\n",
       "      <td>2</td>\n",
       "      <td>9.2542</td>\n",
       "      <td>-2.536757</td>\n",
       "    </tr>\n",
       "    <tr>\n",
       "      <th>2</th>\n",
       "      <td>7</td>\n",
       "      <td>2</td>\n",
       "      <td>0</td>\n",
       "      <td>14</td>\n",
       "      <td>511</td>\n",
       "      <td>1</td>\n",
       "      <td>1</td>\n",
       "      <td>7</td>\n",
       "      <td>1</td>\n",
       "      <td>1</td>\n",
       "      <td>...</td>\n",
       "      <td>3</td>\n",
       "      <td>0.0</td>\n",
       "      <td>0.0</td>\n",
       "      <td>0.0</td>\n",
       "      <td>0.0</td>\n",
       "      <td>0.0</td>\n",
       "      <td>0.0</td>\n",
       "      <td>1</td>\n",
       "      <td>9.2542</td>\n",
       "      <td>-2.536757</td>\n",
       "    </tr>\n",
       "    <tr>\n",
       "      <th>3</th>\n",
       "      <td>11</td>\n",
       "      <td>4</td>\n",
       "      <td>0</td>\n",
       "      <td>14</td>\n",
       "      <td>456</td>\n",
       "      <td>1</td>\n",
       "      <td>0</td>\n",
       "      <td>30</td>\n",
       "      <td>1</td>\n",
       "      <td>1</td>\n",
       "      <td>...</td>\n",
       "      <td>3</td>\n",
       "      <td>0.0</td>\n",
       "      <td>0.0</td>\n",
       "      <td>0.0</td>\n",
       "      <td>0.0</td>\n",
       "      <td>0.0</td>\n",
       "      <td>0.0</td>\n",
       "      <td>2</td>\n",
       "      <td>9.2542</td>\n",
       "      <td>-2.536757</td>\n",
       "    </tr>\n",
       "    <tr>\n",
       "      <th>4</th>\n",
       "      <td>5</td>\n",
       "      <td>4</td>\n",
       "      <td>1</td>\n",
       "      <td>14</td>\n",
       "      <td>90</td>\n",
       "      <td>0</td>\n",
       "      <td>1</td>\n",
       "      <td>84</td>\n",
       "      <td>1</td>\n",
       "      <td>0</td>\n",
       "      <td>...</td>\n",
       "      <td>3</td>\n",
       "      <td>0.0</td>\n",
       "      <td>0.0</td>\n",
       "      <td>0.0</td>\n",
       "      <td>0.0</td>\n",
       "      <td>0.0</td>\n",
       "      <td>0.0</td>\n",
       "      <td>1</td>\n",
       "      <td>9.2542</td>\n",
       "      <td>-2.536757</td>\n",
       "    </tr>\n",
       "  </tbody>\n",
       "</table>\n",
       "<p>5 rows × 52 columns</p>\n",
       "</div>"
      ],
      "text/plain": [
       "   Release_month  Release_weekday  release_in_holidayweek  original_language  \\\n",
       "0             12                4                       0                 14   \n",
       "1              6                2                       0                 14   \n",
       "2              7                2                       0                 14   \n",
       "3             11                4                       0                 14   \n",
       "4              5                4                       1                 14   \n",
       "\n",
       "   distributor  belongs_to_collection  homepage  genres  Adventure  Fantasy  \\\n",
       "0          192                      1         1      56          1        1   \n",
       "1          364                      1         0     159          1        0   \n",
       "2          511                      1         1       7          1        1   \n",
       "3          456                      1         0      30          1        1   \n",
       "4           90                      0         1      84          1        0   \n",
       "\n",
       "   ...  sentiment_level_before_release  sc2_negative_pc  sc2_neutral_pc  \\\n",
       "0  ...                               3              0.0             0.0   \n",
       "1  ...                               3              0.0             0.0   \n",
       "2  ...                               3              0.0             0.0   \n",
       "3  ...                               3              0.0             0.0   \n",
       "4  ...                               3              0.0             0.0   \n",
       "\n",
       "   sc2_positive_pc  comments_bf_1wk  comments_bf_2wk  comments_bf_4wk  \\\n",
       "0              0.0              0.0              0.0              0.0   \n",
       "1              0.0              0.0              0.0              0.0   \n",
       "2              0.0              0.0              0.0              0.0   \n",
       "3              0.0              0.0              0.0              0.0   \n",
       "4              0.0              0.0              0.0              0.0   \n",
       "\n",
       "   num_sp_languages  unemployment_rate  gdp_annual_rate  \n",
       "0                 2             9.2542        -2.536757  \n",
       "1                 2             9.2542        -2.536757  \n",
       "2                 1             9.2542        -2.536757  \n",
       "3                 2             9.2542        -2.536757  \n",
       "4                 1             9.2542        -2.536757  \n",
       "\n",
       "[5 rows x 52 columns]"
      ]
     },
     "execution_count": 41,
     "metadata": {},
     "output_type": "execute_result"
    }
   ],
   "source": [
    "X.head()"
   ]
  },
  {
   "cell_type": "code",
   "execution_count": 189,
   "metadata": {},
   "outputs": [
    {
     "data": {
      "text/plain": [
       "(347,)"
      ]
     },
     "execution_count": 189,
     "metadata": {},
     "output_type": "execute_result"
    }
   ],
   "source": [
    "#y = movies_df[movies_df['week_boxoffice_level(4)']==1]['log_gross'].values\n",
    "#y.shape"
   ]
  },
  {
   "cell_type": "code",
   "execution_count": 42,
   "metadata": {},
   "outputs": [
    {
     "data": {
      "text/plain": [
       "(292,)"
      ]
     },
     "execution_count": 42,
     "metadata": {},
     "output_type": "execute_result"
    }
   ],
   "source": [
    "y = movies_df[movies_df['week_boxoffice_level(4)']==1]['log_adj_gross'].values\n",
    "y.shape"
   ]
  },
  {
   "cell_type": "code",
   "execution_count": 140,
   "metadata": {},
   "outputs": [
    {
     "data": {
      "text/plain": [
       "(347,)"
      ]
     },
     "execution_count": 140,
     "metadata": {},
     "output_type": "execute_result"
    }
   ],
   "source": [
    "y = (movies_df[movies_df['week_boxoffice_level(4)']==1]['First_week_gross']/1000000).values\n",
    "y.shape"
   ]
  },
  {
   "cell_type": "code",
   "execution_count": 43,
   "metadata": {},
   "outputs": [],
   "source": [
    "from sklearn.model_selection import train_test_split"
   ]
  },
  {
   "cell_type": "code",
   "execution_count": 44,
   "metadata": {},
   "outputs": [],
   "source": [
    "train_X, test_X, train_y, test_y = train_test_split(X, y, test_size=0.2)"
   ]
  },
  {
   "cell_type": "code",
   "execution_count": 45,
   "metadata": {},
   "outputs": [
    {
     "name": "stdout",
     "output_type": "stream",
     "text": [
      "size of the train data (x):\t (233, 52)\n",
      "size of the train data (x):\t (233,)\n",
      "size of the test data (y):\t (59, 52)\n",
      "size of the test data (y):\t (59,)\n"
     ]
    }
   ],
   "source": [
    "print('size of the train data (x):\\t', train_X.shape)\n",
    "print('size of the train data (x):\\t', train_y.shape)\n",
    "print('size of the test data (y):\\t', test_X.shape)\n",
    "print('size of the test data (y):\\t', test_y.shape)"
   ]
  },
  {
   "cell_type": "code",
   "execution_count": 46,
   "metadata": {},
   "outputs": [
    {
     "data": {
      "text/plain": [
       "(233,)"
      ]
     },
     "execution_count": 46,
     "metadata": {},
     "output_type": "execute_result"
    }
   ],
   "source": [
    "train_y.shape"
   ]
  },
  {
   "cell_type": "code",
   "execution_count": 47,
   "metadata": {},
   "outputs": [
    {
     "data": {
      "text/plain": [
       "(59,)"
      ]
     },
     "execution_count": 47,
     "metadata": {},
     "output_type": "execute_result"
    }
   ],
   "source": [
    "test_y.shape"
   ]
  },
  {
   "cell_type": "markdown",
   "metadata": {},
   "source": [
    "#### 多層類神經網路 Multilayer Perceptron model "
   ]
  },
  {
   "cell_type": "code",
   "execution_count": 48,
   "metadata": {},
   "outputs": [
    {
     "data": {
      "text/plain": [
       "52"
      ]
     },
     "execution_count": 48,
     "metadata": {},
     "output_type": "execute_result"
    }
   ],
   "source": [
    "train_X.shape[1]"
   ]
  },
  {
   "cell_type": "code",
   "execution_count": 49,
   "metadata": {},
   "outputs": [],
   "source": [
    "from tensorflow.keras.models import Sequential\n",
    "from tensorflow.keras.layers import Activation,Dense,Dropout,BatchNormalization\n",
    "from tensorflow.keras.optimizers import RMSprop,SGD,Adam\n",
    "from tensorflow.keras.losses import MeanSquaredError, MeanAbsoluteError"
   ]
  },
  {
   "cell_type": "code",
   "execution_count": 83,
   "metadata": {},
   "outputs": [
    {
     "name": "stdout",
     "output_type": "stream",
     "text": [
      "Model: \"sequential_8\"\n",
      "_________________________________________________________________\n",
      "Layer (type)                 Output Shape              Param #   \n",
      "=================================================================\n",
      "dense_32 (Dense)             (None, 128)               6784      \n",
      "_________________________________________________________________\n",
      "batch_normalization_32 (Batc (None, 128)               512       \n",
      "_________________________________________________________________\n",
      "activation_32 (Activation)   (None, 128)               0         \n",
      "_________________________________________________________________\n",
      "dense_33 (Dense)             (None, 64)                8256      \n",
      "_________________________________________________________________\n",
      "batch_normalization_33 (Batc (None, 64)                256       \n",
      "_________________________________________________________________\n",
      "activation_33 (Activation)   (None, 64)                0         \n",
      "_________________________________________________________________\n",
      "dense_34 (Dense)             (None, 32)                2080      \n",
      "_________________________________________________________________\n",
      "batch_normalization_34 (Batc (None, 32)                128       \n",
      "_________________________________________________________________\n",
      "activation_34 (Activation)   (None, 32)                0         \n",
      "_________________________________________________________________\n",
      "dense_35 (Dense)             (None, 1)                 33        \n",
      "_________________________________________________________________\n",
      "batch_normalization_35 (Batc (None, 1)                 4         \n",
      "_________________________________________________________________\n",
      "activation_35 (Activation)   (None, 1)                 0         \n",
      "=================================================================\n",
      "Total params: 18,053\n",
      "Trainable params: 17,603\n",
      "Non-trainable params: 450\n",
      "_________________________________________________________________\n"
     ]
    }
   ],
   "source": [
    "model=Sequential()\n",
    "\n",
    "model.add(Dense(128, input_shape=(train_X.shape[1],)))\n",
    "model.add(BatchNormalization())\n",
    "model.add(Activation(\"relu\"))\n",
    "\n",
    "# model.add(Dense(200, input_shape=(train_X.shape[1],)))\n",
    "# model.add(BatchNormalization())\n",
    "# model.add(Activation(\"relu\"))\n",
    "\n",
    "# model.add(Dense(128))\n",
    "# model.add(BatchNormalization())\n",
    "# model.add(Activation(\"relu\"))\n",
    "\n",
    "model.add(Dense(64))\n",
    "model.add(BatchNormalization())\n",
    "model.add(Activation(\"relu\"))\n",
    "\n",
    "# model.add(Dense(32))\n",
    "# model.add(BatchNormalization())\n",
    "# model.add(Activation(\"relu\"))\n",
    "\n",
    "model.add(Dense(32))\n",
    "model.add(BatchNormalization())\n",
    "model.add(Activation(\"relu\"))\n",
    "\n",
    "# model.add(Dense(16))\n",
    "# model.add(BatchNormalization())\n",
    "# model.add(Activation(\"relu\"))\n",
    "\n",
    "# model.add(Dense(8))\n",
    "# model.add(BatchNormalization())\n",
    "# model.add(Activation(\"relu\"))\n",
    "\n",
    "model.add(Dense(1))\n",
    "model.add(BatchNormalization())\n",
    "model.add(Activation(\"relu\"))\n",
    "\n",
    "model.compile(loss=MeanSquaredError(),\n",
    "              optimizer=Adam(lr=0.01, decay=1e-5),\n",
    "              metrics=['RootMeanSquaredError'])\n",
    "\n",
    "model.summary()"
   ]
  },
  {
   "cell_type": "code",
   "execution_count": 84,
   "metadata": {},
   "outputs": [
    {
     "name": "stdout",
     "output_type": "stream",
     "text": [
      "Train on 233 samples, validate on 59 samples\n",
      "Epoch 1/300\n",
      "233/233 [==============================] - 1s 5ms/sample - loss: 299.2424 - root_mean_squared_error: 17.2986 - val_loss: 262.0918 - val_root_mean_squared_error: 16.1893\n",
      "Epoch 2/300\n",
      "233/233 [==============================] - 0s 291us/sample - loss: 292.6246 - root_mean_squared_error: 17.1063 - val_loss: 248.6245 - val_root_mean_squared_error: 15.7678\n",
      "Epoch 3/300\n",
      "233/233 [==============================] - 0s 253us/sample - loss: 286.8575 - root_mean_squared_error: 16.9369 - val_loss: 285.1645 - val_root_mean_squared_error: 16.8868\n",
      "Epoch 4/300\n",
      "233/233 [==============================] - 0s 257us/sample - loss: 280.9327 - root_mean_squared_error: 16.7610 - val_loss: 278.0026 - val_root_mean_squared_error: 16.6734\n",
      "Epoch 5/300\n",
      "233/233 [==============================] - 0s 257us/sample - loss: 275.6467 - root_mean_squared_error: 16.6026 - val_loss: 264.8285 - val_root_mean_squared_error: 16.2736\n",
      "Epoch 6/300\n",
      "233/233 [==============================] - 0s 261us/sample - loss: 270.8857 - root_mean_squared_error: 16.4586 - val_loss: 256.3611 - val_root_mean_squared_error: 16.0113\n",
      "Epoch 7/300\n",
      "233/233 [==============================] - 0s 270us/sample - loss: 264.7353 - root_mean_squared_error: 16.2707 - val_loss: 244.1236 - val_root_mean_squared_error: 15.6245\n",
      "Epoch 8/300\n",
      "233/233 [==============================] - 0s 261us/sample - loss: 259.1815 - root_mean_squared_error: 16.0991 - val_loss: 236.2153 - val_root_mean_squared_error: 15.3693\n",
      "Epoch 9/300\n",
      "233/233 [==============================] - 0s 265us/sample - loss: 252.9455 - root_mean_squared_error: 15.9043 - val_loss: 245.9750 - val_root_mean_squared_error: 15.6836\n",
      "Epoch 10/300\n",
      "233/233 [==============================] - 0s 257us/sample - loss: 247.6703 - root_mean_squared_error: 15.7375 - val_loss: 220.9702 - val_root_mean_squared_error: 14.8651\n",
      "Epoch 11/300\n",
      "233/233 [==============================] - 0s 253us/sample - loss: 242.3090 - root_mean_squared_error: 15.5663 - val_loss: 216.8811 - val_root_mean_squared_error: 14.7269\n",
      "Epoch 12/300\n",
      "233/233 [==============================] - 0s 270us/sample - loss: 237.9212 - root_mean_squared_error: 15.4247 - val_loss: 217.5824 - val_root_mean_squared_error: 14.7507\n",
      "Epoch 13/300\n",
      "233/233 [==============================] - 0s 261us/sample - loss: 232.0280 - root_mean_squared_error: 15.2325 - val_loss: 217.5171 - val_root_mean_squared_error: 14.7485\n",
      "Epoch 14/300\n",
      "233/233 [==============================] - 0s 270us/sample - loss: 226.9487 - root_mean_squared_error: 15.0648 - val_loss: 208.2107 - val_root_mean_squared_error: 14.4295\n",
      "Epoch 15/300\n",
      "233/233 [==============================] - 0s 265us/sample - loss: 221.9989 - root_mean_squared_error: 14.8996 - val_loss: 207.0675 - val_root_mean_squared_error: 14.3898\n",
      "Epoch 16/300\n",
      "233/233 [==============================] - 0s 265us/sample - loss: 217.6060 - root_mean_squared_error: 14.7515 - val_loss: 192.0724 - val_root_mean_squared_error: 13.8590\n",
      "Epoch 17/300\n",
      "233/233 [==============================] - 0s 270us/sample - loss: 211.6953 - root_mean_squared_error: 14.5498 - val_loss: 193.9961 - val_root_mean_squared_error: 13.9282\n",
      "Epoch 18/300\n",
      "233/233 [==============================] - 0s 274us/sample - loss: 207.5926 - root_mean_squared_error: 14.4081 - val_loss: 176.6326 - val_root_mean_squared_error: 13.2903\n",
      "Epoch 19/300\n",
      "233/233 [==============================] - 0s 265us/sample - loss: 204.3131 - root_mean_squared_error: 14.2938 - val_loss: 173.9840 - val_root_mean_squared_error: 13.1903\n",
      "Epoch 20/300\n",
      "233/233 [==============================] - 0s 270us/sample - loss: 199.5505 - root_mean_squared_error: 14.1262 - val_loss: 179.4658 - val_root_mean_squared_error: 13.3965\n",
      "Epoch 21/300\n",
      "233/233 [==============================] - 0s 265us/sample - loss: 194.8495 - root_mean_squared_error: 13.9588 - val_loss: 195.8262 - val_root_mean_squared_error: 13.9938\n",
      "Epoch 22/300\n",
      "233/233 [==============================] - 0s 253us/sample - loss: 188.8992 - root_mean_squared_error: 13.7441 - val_loss: 185.2360 - val_root_mean_squared_error: 13.6101\n",
      "Epoch 23/300\n",
      "233/233 [==============================] - 0s 253us/sample - loss: 184.1878 - root_mean_squared_error: 13.5716 - val_loss: 175.7111 - val_root_mean_squared_error: 13.2556\n",
      "Epoch 24/300\n",
      "233/233 [==============================] - 0s 266us/sample - loss: 179.9651 - root_mean_squared_error: 13.4151 - val_loss: 171.6005 - val_root_mean_squared_error: 13.0996\n",
      "Epoch 25/300\n",
      "233/233 [==============================] - 0s 274us/sample - loss: 176.0532 - root_mean_squared_error: 13.2685 - val_loss: 157.2469 - val_root_mean_squared_error: 12.5398\n",
      "Epoch 26/300\n",
      "233/233 [==============================] - 0s 270us/sample - loss: 171.6782 - root_mean_squared_error: 13.1026 - val_loss: 150.8883 - val_root_mean_squared_error: 12.2837\n",
      "Epoch 27/300\n",
      "233/233 [==============================] - 0s 270us/sample - loss: 167.3224 - root_mean_squared_error: 12.9353 - val_loss: 155.4276 - val_root_mean_squared_error: 12.4671\n",
      "Epoch 28/300\n",
      "233/233 [==============================] - 0s 265us/sample - loss: 163.6721 - root_mean_squared_error: 12.7934 - val_loss: 145.1531 - val_root_mean_squared_error: 12.0480\n",
      "Epoch 29/300\n",
      "233/233 [==============================] - 0s 265us/sample - loss: 159.3520 - root_mean_squared_error: 12.6235 - val_loss: 137.3442 - val_root_mean_squared_error: 11.7194\n",
      "Epoch 30/300\n",
      "233/233 [==============================] - 0s 274us/sample - loss: 155.4902 - root_mean_squared_error: 12.4696 - val_loss: 134.0492 - val_root_mean_squared_error: 11.5780\n",
      "Epoch 31/300\n",
      "233/233 [==============================] - 0s 278us/sample - loss: 152.6995 - root_mean_squared_error: 12.3572 - val_loss: 135.1043 - val_root_mean_squared_error: 11.6234\n",
      "Epoch 32/300\n",
      "233/233 [==============================] - 0s 270us/sample - loss: 148.1214 - root_mean_squared_error: 12.1705 - val_loss: 133.3391 - val_root_mean_squared_error: 11.5473\n",
      "Epoch 33/300\n",
      "233/233 [==============================] - 0s 274us/sample - loss: 144.7673 - root_mean_squared_error: 12.0319 - val_loss: 130.9961 - val_root_mean_squared_error: 11.4454\n",
      "Epoch 34/300\n",
      "233/233 [==============================] - 0s 257us/sample - loss: 140.8269 - root_mean_squared_error: 11.8671 - val_loss: 126.6994 - val_root_mean_squared_error: 11.2561\n",
      "Epoch 35/300\n",
      "233/233 [==============================] - 0s 257us/sample - loss: 138.6703 - root_mean_squared_error: 11.7758 - val_loss: 120.8566 - val_root_mean_squared_error: 10.9935\n",
      "Epoch 36/300\n",
      "233/233 [==============================] - 0s 274us/sample - loss: 134.6999 - root_mean_squared_error: 11.6060 - val_loss: 117.5515 - val_root_mean_squared_error: 10.8421\n",
      "Epoch 37/300\n",
      "233/233 [==============================] - 0s 274us/sample - loss: 130.7050 - root_mean_squared_error: 11.4326 - val_loss: 114.9384 - val_root_mean_squared_error: 10.7209\n",
      "Epoch 38/300\n",
      "233/233 [==============================] - 0s 257us/sample - loss: 128.0427 - root_mean_squared_error: 11.3156 - val_loss: 112.4541 - val_root_mean_squared_error: 10.6044\n",
      "Epoch 39/300\n",
      "233/233 [==============================] - 0s 261us/sample - loss: 125.2850 - root_mean_squared_error: 11.1931 - val_loss: 103.8673 - val_root_mean_squared_error: 10.1915\n",
      "Epoch 40/300\n",
      "233/233 [==============================] - 0s 265us/sample - loss: 122.8211 - root_mean_squared_error: 11.0825 - val_loss: 103.3424 - val_root_mean_squared_error: 10.1657\n",
      "Epoch 41/300\n",
      "233/233 [==============================] - 0s 261us/sample - loss: 119.3872 - root_mean_squared_error: 10.9264 - val_loss: 102.2509 - val_root_mean_squared_error: 10.1119\n",
      "Epoch 42/300\n",
      "233/233 [==============================] - 0s 253us/sample - loss: 116.1201 - root_mean_squared_error: 10.7759 - val_loss: 98.6375 - val_root_mean_squared_error: 9.9316\n",
      "Epoch 43/300\n",
      "233/233 [==============================] - 0s 253us/sample - loss: 113.6305 - root_mean_squared_error: 10.6598 - val_loss: 94.4698 - val_root_mean_squared_error: 9.7196\n",
      "Epoch 44/300\n",
      "233/233 [==============================] - 0s 257us/sample - loss: 112.7869 - root_mean_squared_error: 10.6201 - val_loss: 90.1174 - val_root_mean_squared_error: 9.4930\n",
      "Epoch 45/300\n",
      "233/233 [==============================] - 0s 265us/sample - loss: 108.4932 - root_mean_squared_error: 10.4160 - val_loss: 90.0207 - val_root_mean_squared_error: 9.4879\n",
      "Epoch 46/300\n",
      "233/233 [==============================] - 0s 270us/sample - loss: 105.7642 - root_mean_squared_error: 10.2842 - val_loss: 92.5783 - val_root_mean_squared_error: 9.6218\n",
      "Epoch 47/300\n",
      "233/233 [==============================] - 0s 261us/sample - loss: 103.5663 - root_mean_squared_error: 10.1768 - val_loss: 86.0598 - val_root_mean_squared_error: 9.2768\n",
      "Epoch 48/300\n",
      "233/233 [==============================] - 0s 248us/sample - loss: 100.6312 - root_mean_squared_error: 10.0315 - val_loss: 81.3034 - val_root_mean_squared_error: 9.0168\n",
      "Epoch 49/300\n",
      "233/233 [==============================] - 0s 256us/sample - loss: 99.1615 - root_mean_squared_error: 9.9580 - val_loss: 66.6081 - val_root_mean_squared_error: 8.1614\n",
      "Epoch 50/300\n",
      "233/233 [==============================] - 0s 265us/sample - loss: 96.6432 - root_mean_squared_error: 9.8307 - val_loss: 65.7553 - val_root_mean_squared_error: 8.1090\n",
      "Epoch 51/300\n",
      "233/233 [==============================] - 0s 257us/sample - loss: 94.4445 - root_mean_squared_error: 9.7183 - val_loss: 70.5365 - val_root_mean_squared_error: 8.3986\n",
      "Epoch 52/300\n",
      "233/233 [==============================] - 0s 248us/sample - loss: 91.6583 - root_mean_squared_error: 9.5738 - val_loss: 74.7241 - val_root_mean_squared_error: 8.6443\n",
      "Epoch 53/300\n",
      "233/233 [==============================] - 0s 259us/sample - loss: 89.1559 - root_mean_squared_error: 9.4422 - val_loss: 70.3025 - val_root_mean_squared_error: 8.3847\n",
      "Epoch 54/300\n",
      "233/233 [==============================] - 0s 261us/sample - loss: 87.4452 - root_mean_squared_error: 9.3512 - val_loss: 68.4059 - val_root_mean_squared_error: 8.2708\n",
      "Epoch 55/300\n",
      "233/233 [==============================] - 0s 261us/sample - loss: 85.0196 - root_mean_squared_error: 9.2206 - val_loss: 65.6275 - val_root_mean_squared_error: 8.1011\n",
      "Epoch 56/300\n",
      "233/233 [==============================] - 0s 249us/sample - loss: 82.6012 - root_mean_squared_error: 9.0885 - val_loss: 62.6908 - val_root_mean_squared_error: 7.9178\n",
      "Epoch 57/300\n",
      "233/233 [==============================] - 0s 263us/sample - loss: 80.6455 - root_mean_squared_error: 8.9803 - val_loss: 59.9108 - val_root_mean_squared_error: 7.7402\n",
      "Epoch 58/300\n",
      "233/233 [==============================] - 0s 253us/sample - loss: 78.7586 - root_mean_squared_error: 8.8746 - val_loss: 57.0794 - val_root_mean_squared_error: 7.5551\n",
      "Epoch 59/300\n",
      "233/233 [==============================] - 0s 257us/sample - loss: 77.8323 - root_mean_squared_error: 8.8223 - val_loss: 55.1129 - val_root_mean_squared_error: 7.4238\n",
      "Epoch 60/300\n",
      "233/233 [==============================] - 0s 265us/sample - loss: 76.2371 - root_mean_squared_error: 8.7314 - val_loss: 54.4308 - val_root_mean_squared_error: 7.3777\n",
      "Epoch 61/300\n",
      "233/233 [==============================] - 0s 253us/sample - loss: 73.4778 - root_mean_squared_error: 8.5719 - val_loss: 53.5014 - val_root_mean_squared_error: 7.3145\n",
      "Epoch 62/300\n",
      "233/233 [==============================] - 0s 263us/sample - loss: 73.3540 - root_mean_squared_error: 8.5647 - val_loss: 57.6113 - val_root_mean_squared_error: 7.5902\n",
      "Epoch 63/300\n",
      "233/233 [==============================] - 0s 257us/sample - loss: 72.0968 - root_mean_squared_error: 8.4910 - val_loss: 57.7309 - val_root_mean_squared_error: 7.5981\n",
      "Epoch 64/300\n",
      "233/233 [==============================] - 0s 257us/sample - loss: 70.2849 - root_mean_squared_error: 8.3836 - val_loss: 50.4299 - val_root_mean_squared_error: 7.1014\n",
      "Epoch 65/300\n",
      "233/233 [==============================] - 0s 253us/sample - loss: 67.0228 - root_mean_squared_error: 8.1867 - val_loss: 46.6648 - val_root_mean_squared_error: 6.8312\n",
      "Epoch 66/300\n",
      "233/233 [==============================] - 0s 268us/sample - loss: 65.9314 - root_mean_squared_error: 8.1198 - val_loss: 43.6778 - val_root_mean_squared_error: 6.6089\n",
      "Epoch 67/300\n",
      "233/233 [==============================] - 0s 257us/sample - loss: 64.8710 - root_mean_squared_error: 8.0543 - val_loss: 44.3792 - val_root_mean_squared_error: 6.6618\n",
      "Epoch 68/300\n",
      "233/233 [==============================] - 0s 261us/sample - loss: 62.9576 - root_mean_squared_error: 7.9346 - val_loss: 41.7881 - val_root_mean_squared_error: 6.4644\n",
      "Epoch 69/300\n",
      "233/233 [==============================] - 0s 248us/sample - loss: 60.8012 - root_mean_squared_error: 7.7975 - val_loss: 39.8033 - val_root_mean_squared_error: 6.3090\n",
      "Epoch 70/300\n",
      "233/233 [==============================] - 0s 273us/sample - loss: 59.3509 - root_mean_squared_error: 7.7040 - val_loss: 40.0138 - val_root_mean_squared_error: 6.3256\n",
      "Epoch 71/300\n",
      "233/233 [==============================] - 0s 253us/sample - loss: 58.6694 - root_mean_squared_error: 7.6596 - val_loss: 38.6023 - val_root_mean_squared_error: 6.2131\n",
      "Epoch 72/300\n",
      "233/233 [==============================] - 0s 261us/sample - loss: 58.1390 - root_mean_squared_error: 7.6249 - val_loss: 31.6148 - val_root_mean_squared_error: 5.6227\n",
      "Epoch 73/300\n",
      "233/233 [==============================] - 0s 248us/sample - loss: 56.0320 - root_mean_squared_error: 7.4855 - val_loss: 33.8202 - val_root_mean_squared_error: 5.8155\n",
      "Epoch 74/300\n",
      "233/233 [==============================] - 0s 253us/sample - loss: 54.2528 - root_mean_squared_error: 7.3657 - val_loss: 34.1838 - val_root_mean_squared_error: 5.8467\n",
      "Epoch 75/300\n",
      "233/233 [==============================] - 0s 257us/sample - loss: 52.9572 - root_mean_squared_error: 7.2772 - val_loss: 27.3689 - val_root_mean_squared_error: 5.2315\n",
      "Epoch 76/300\n",
      "233/233 [==============================] - 0s 257us/sample - loss: 52.7840 - root_mean_squared_error: 7.2653 - val_loss: 25.8939 - val_root_mean_squared_error: 5.0886\n",
      "Epoch 77/300\n",
      "233/233 [==============================] - 0s 261us/sample - loss: 50.6429 - root_mean_squared_error: 7.1164 - val_loss: 26.6353 - val_root_mean_squared_error: 5.1609\n",
      "Epoch 78/300\n",
      "233/233 [==============================] - 0s 253us/sample - loss: 50.5197 - root_mean_squared_error: 7.1077 - val_loss: 25.5514 - val_root_mean_squared_error: 5.0548\n",
      "Epoch 79/300\n",
      "233/233 [==============================] - 0s 264us/sample - loss: 51.0748 - root_mean_squared_error: 7.1467 - val_loss: 13.5852 - val_root_mean_squared_error: 3.6858\n",
      "Epoch 80/300\n",
      "233/233 [==============================] - 0s 254us/sample - loss: 50.1588 - root_mean_squared_error: 7.0823 - val_loss: 11.0803 - val_root_mean_squared_error: 3.3287\n",
      "Epoch 81/300\n",
      "233/233 [==============================] - 0s 257us/sample - loss: 46.8081 - root_mean_squared_error: 6.8416 - val_loss: 15.6843 - val_root_mean_squared_error: 3.9603\n",
      "Epoch 82/300\n",
      "233/233 [==============================] - 0s 248us/sample - loss: 47.5929 - root_mean_squared_error: 6.8988 - val_loss: 18.5387 - val_root_mean_squared_error: 4.3057\n",
      "Epoch 83/300\n",
      "233/233 [==============================] - 0s 275us/sample - loss: 45.9807 - root_mean_squared_error: 6.7809 - val_loss: 21.0511 - val_root_mean_squared_error: 4.5881\n",
      "Epoch 84/300\n",
      "233/233 [==============================] - 0s 253us/sample - loss: 45.0193 - root_mean_squared_error: 6.7096 - val_loss: 20.5275 - val_root_mean_squared_error: 4.5307\n",
      "Epoch 85/300\n",
      "233/233 [==============================] - 0s 257us/sample - loss: 44.7060 - root_mean_squared_error: 6.6863 - val_loss: 24.1439 - val_root_mean_squared_error: 4.9136\n",
      "Epoch 86/300\n",
      "233/233 [==============================] - 0s 257us/sample - loss: 43.2684 - root_mean_squared_error: 6.5779 - val_loss: 27.0679 - val_root_mean_squared_error: 5.2027\n",
      "Epoch 87/300\n",
      "233/233 [==============================] - 0s 253us/sample - loss: 41.5476 - root_mean_squared_error: 6.4457 - val_loss: 25.4913 - val_root_mean_squared_error: 5.0489\n",
      "Epoch 88/300\n",
      "233/233 [==============================] - 0s 267us/sample - loss: 40.9133 - root_mean_squared_error: 6.3963 - val_loss: 23.1317 - val_root_mean_squared_error: 4.8095\n",
      "Epoch 89/300\n",
      "233/233 [==============================] - 0s 261us/sample - loss: 41.7018 - root_mean_squared_error: 6.4577 - val_loss: 21.1812 - val_root_mean_squared_error: 4.6023\n",
      "Epoch 90/300\n"
     ]
    },
    {
     "name": "stdout",
     "output_type": "stream",
     "text": [
      "233/233 [==============================] - 0s 261us/sample - loss: 40.6516 - root_mean_squared_error: 6.3759 - val_loss: 19.6947 - val_root_mean_squared_error: 4.4379\n",
      "Epoch 91/300\n",
      "233/233 [==============================] - 0s 257us/sample - loss: 38.2277 - root_mean_squared_error: 6.1829 - val_loss: 18.7652 - val_root_mean_squared_error: 4.3319\n",
      "Epoch 92/300\n",
      "233/233 [==============================] - 0s 255us/sample - loss: 40.2599 - root_mean_squared_error: 6.3451 - val_loss: 17.9359 - val_root_mean_squared_error: 4.2351\n",
      "Epoch 93/300\n",
      "233/233 [==============================] - 0s 268us/sample - loss: 39.4018 - root_mean_squared_error: 6.2771 - val_loss: 17.4931 - val_root_mean_squared_error: 4.1825\n",
      "Epoch 94/300\n",
      "233/233 [==============================] - 0s 253us/sample - loss: 37.4841 - root_mean_squared_error: 6.1224 - val_loss: 17.0044 - val_root_mean_squared_error: 4.1236\n",
      "Epoch 95/300\n",
      "233/233 [==============================] - 0s 257us/sample - loss: 36.5436 - root_mean_squared_error: 6.0451 - val_loss: 16.2308 - val_root_mean_squared_error: 4.0288\n",
      "Epoch 96/300\n",
      "233/233 [==============================] - 0s 253us/sample - loss: 36.1003 - root_mean_squared_error: 6.0084 - val_loss: 15.3224 - val_root_mean_squared_error: 3.9144\n",
      "Epoch 97/300\n",
      "233/233 [==============================] - 0s 263us/sample - loss: 35.4694 - root_mean_squared_error: 5.9556 - val_loss: 14.6674 - val_root_mean_squared_error: 3.8298\n",
      "Epoch 98/300\n",
      "233/233 [==============================] - 0s 257us/sample - loss: 35.7803 - root_mean_squared_error: 5.9817 - val_loss: 14.1178 - val_root_mean_squared_error: 3.7574\n",
      "Epoch 99/300\n",
      "233/233 [==============================] - 0s 257us/sample - loss: 35.1025 - root_mean_squared_error: 5.9247 - val_loss: 13.0522 - val_root_mean_squared_error: 3.6128\n",
      "Epoch 100/300\n",
      "233/233 [==============================] - 0s 253us/sample - loss: 34.7392 - root_mean_squared_error: 5.8940 - val_loss: 11.3818 - val_root_mean_squared_error: 3.3737\n",
      "Epoch 101/300\n",
      "233/233 [==============================] - 0s 265us/sample - loss: 34.3862 - root_mean_squared_error: 5.8640 - val_loss: 10.7466 - val_root_mean_squared_error: 3.2782\n",
      "Epoch 102/300\n",
      "233/233 [==============================] - 0s 253us/sample - loss: 35.9113 - root_mean_squared_error: 5.9926 - val_loss: 7.8108 - val_root_mean_squared_error: 2.7948\n",
      "Epoch 103/300\n",
      "233/233 [==============================] - 0s 257us/sample - loss: 31.4510 - root_mean_squared_error: 5.6081 - val_loss: 6.7243 - val_root_mean_squared_error: 2.5931\n",
      "Epoch 104/300\n",
      "233/233 [==============================] - 0s 248us/sample - loss: 34.5474 - root_mean_squared_error: 5.8777 - val_loss: 6.0826 - val_root_mean_squared_error: 2.4663\n",
      "Epoch 105/300\n",
      "233/233 [==============================] - 0s 257us/sample - loss: 32.5835 - root_mean_squared_error: 5.7082 - val_loss: 6.1278 - val_root_mean_squared_error: 2.4754\n",
      "Epoch 106/300\n",
      "233/233 [==============================] - 0s 259us/sample - loss: 32.6099 - root_mean_squared_error: 5.7105 - val_loss: 6.0634 - val_root_mean_squared_error: 2.4624\n",
      "Epoch 107/300\n",
      "233/233 [==============================] - 0s 257us/sample - loss: 33.7807 - root_mean_squared_error: 5.8121 - val_loss: 6.0102 - val_root_mean_squared_error: 2.4516\n",
      "Epoch 108/300\n",
      "233/233 [==============================] - 0s 253us/sample - loss: 32.2527 - root_mean_squared_error: 5.6791 - val_loss: 5.8981 - val_root_mean_squared_error: 2.4286\n",
      "Epoch 109/300\n",
      "233/233 [==============================] - 0s 257us/sample - loss: 32.7923 - root_mean_squared_error: 5.7265 - val_loss: 5.7689 - val_root_mean_squared_error: 2.4019\n",
      "Epoch 110/300\n",
      "233/233 [==============================] - 0s 257us/sample - loss: 30.9217 - root_mean_squared_error: 5.5607 - val_loss: 5.7104 - val_root_mean_squared_error: 2.3896\n",
      "Epoch 111/300\n",
      "233/233 [==============================] - 0s 261us/sample - loss: 29.9575 - root_mean_squared_error: 5.4733 - val_loss: 5.7324 - val_root_mean_squared_error: 2.3943\n",
      "Epoch 112/300\n",
      "233/233 [==============================] - 0s 265us/sample - loss: 28.2507 - root_mean_squared_error: 5.3151 - val_loss: 5.6569 - val_root_mean_squared_error: 2.3784\n",
      "Epoch 113/300\n",
      "233/233 [==============================] - 0s 261us/sample - loss: 31.4699 - root_mean_squared_error: 5.6098 - val_loss: 5.6200 - val_root_mean_squared_error: 2.3706\n",
      "Epoch 114/300\n",
      "233/233 [==============================] - 0s 278us/sample - loss: 29.2022 - root_mean_squared_error: 5.4039 - val_loss: 5.7784 - val_root_mean_squared_error: 2.4038\n",
      "Epoch 115/300\n",
      "233/233 [==============================] - 0s 265us/sample - loss: 28.9181 - root_mean_squared_error: 5.3776 - val_loss: 5.7904 - val_root_mean_squared_error: 2.4063\n",
      "Epoch 116/300\n",
      "233/233 [==============================] - 0s 248us/sample - loss: 27.8854 - root_mean_squared_error: 5.2807 - val_loss: 6.1095 - val_root_mean_squared_error: 2.4717\n",
      "Epoch 117/300\n",
      "233/233 [==============================] - 0s 257us/sample - loss: 28.2966 - root_mean_squared_error: 5.3195 - val_loss: 6.0439 - val_root_mean_squared_error: 2.4584\n",
      "Epoch 118/300\n",
      "233/233 [==============================] - 0s 257us/sample - loss: 28.3089 - root_mean_squared_error: 5.3206 - val_loss: 5.6591 - val_root_mean_squared_error: 2.3789\n",
      "Epoch 119/300\n",
      "233/233 [==============================] - 0s 257us/sample - loss: 25.9522 - root_mean_squared_error: 5.0943 - val_loss: 5.3244 - val_root_mean_squared_error: 2.3075\n",
      "Epoch 120/300\n",
      "233/233 [==============================] - 0s 261us/sample - loss: 27.7903 - root_mean_squared_error: 5.2716 - val_loss: 5.1023 - val_root_mean_squared_error: 2.2588\n",
      "Epoch 121/300\n",
      "233/233 [==============================] - 0s 253us/sample - loss: 26.2182 - root_mean_squared_error: 5.1204 - val_loss: 4.8080 - val_root_mean_squared_error: 2.1927\n",
      "Epoch 122/300\n",
      "233/233 [==============================] - 0s 261us/sample - loss: 28.2457 - root_mean_squared_error: 5.3147 - val_loss: 4.6745 - val_root_mean_squared_error: 2.1621\n",
      "Epoch 123/300\n",
      "233/233 [==============================] - 0s 257us/sample - loss: 27.1231 - root_mean_squared_error: 5.2080 - val_loss: 4.6111 - val_root_mean_squared_error: 2.1473\n",
      "Epoch 124/300\n",
      "233/233 [==============================] - 0s 261us/sample - loss: 28.2316 - root_mean_squared_error: 5.3133 - val_loss: 4.3787 - val_root_mean_squared_error: 2.0925\n",
      "Epoch 125/300\n",
      "233/233 [==============================] - 0s 261us/sample - loss: 27.8012 - root_mean_squared_error: 5.2727 - val_loss: 4.1073 - val_root_mean_squared_error: 2.0266\n",
      "Epoch 126/300\n",
      "233/233 [==============================] - 0s 253us/sample - loss: 26.5405 - root_mean_squared_error: 5.1518 - val_loss: 3.9548 - val_root_mean_squared_error: 1.9887\n",
      "Epoch 127/300\n",
      "233/233 [==============================] - 0s 253us/sample - loss: 27.0170 - root_mean_squared_error: 5.1978 - val_loss: 3.7982 - val_root_mean_squared_error: 1.9489\n",
      "Epoch 128/300\n",
      "233/233 [==============================] - 0s 261us/sample - loss: 27.8575 - root_mean_squared_error: 5.2780 - val_loss: 3.2555 - val_root_mean_squared_error: 1.8043\n",
      "Epoch 129/300\n",
      "233/233 [==============================] - 0s 265us/sample - loss: 26.9502 - root_mean_squared_error: 5.1914 - val_loss: 1.4707 - val_root_mean_squared_error: 1.2127\n",
      "Epoch 130/300\n",
      "233/233 [==============================] - 0s 261us/sample - loss: 24.8475 - root_mean_squared_error: 4.9847 - val_loss: 1.4638 - val_root_mean_squared_error: 1.2099\n",
      "Epoch 131/300\n",
      "233/233 [==============================] - 0s 257us/sample - loss: 25.1936 - root_mean_squared_error: 5.0193 - val_loss: 1.5568 - val_root_mean_squared_error: 1.2477\n",
      "Epoch 132/300\n",
      "233/233 [==============================] - 0s 253us/sample - loss: 25.4555 - root_mean_squared_error: 5.0453 - val_loss: 1.7028 - val_root_mean_squared_error: 1.3049\n",
      "Epoch 133/300\n",
      "233/233 [==============================] - 0s 261us/sample - loss: 25.1413 - root_mean_squared_error: 5.0141 - val_loss: 1.8086 - val_root_mean_squared_error: 1.3449\n",
      "Epoch 134/300\n",
      "233/233 [==============================] - 0s 261us/sample - loss: 25.5341 - root_mean_squared_error: 5.0531 - val_loss: 1.9197 - val_root_mean_squared_error: 1.3855\n",
      "Epoch 135/300\n",
      "233/233 [==============================] - 0s 253us/sample - loss: 25.2629 - root_mean_squared_error: 5.0262 - val_loss: 1.9547 - val_root_mean_squared_error: 1.3981\n",
      "Epoch 136/300\n",
      "233/233 [==============================] - 0s 257us/sample - loss: 26.1395 - root_mean_squared_error: 5.1127 - val_loss: 1.9434 - val_root_mean_squared_error: 1.3940\n",
      "Epoch 137/300\n",
      "233/233 [==============================] - 0s 257us/sample - loss: 23.5197 - root_mean_squared_error: 4.8497 - val_loss: 1.9439 - val_root_mean_squared_error: 1.3943\n",
      "Epoch 138/300\n",
      "233/233 [==============================] - 0s 261us/sample - loss: 24.4042 - root_mean_squared_error: 4.9401 - val_loss: 1.9562 - val_root_mean_squared_error: 1.3987\n",
      "Epoch 139/300\n",
      "233/233 [==============================] - 0s 265us/sample - loss: 24.5011 - root_mean_squared_error: 4.9499 - val_loss: 2.0341 - val_root_mean_squared_error: 1.4262\n",
      "Epoch 140/300\n",
      "233/233 [==============================] - 0s 257us/sample - loss: 24.8573 - root_mean_squared_error: 4.9857 - val_loss: 1.9611 - val_root_mean_squared_error: 1.4004\n",
      "Epoch 141/300\n",
      "233/233 [==============================] - 0s 257us/sample - loss: 24.2367 - root_mean_squared_error: 4.9231 - val_loss: 1.8773 - val_root_mean_squared_error: 1.3702\n",
      "Epoch 142/300\n",
      "233/233 [==============================] - 0s 257us/sample - loss: 24.2753 - root_mean_squared_error: 4.9270 - val_loss: 1.8135 - val_root_mean_squared_error: 1.3466\n",
      "Epoch 143/300\n",
      "233/233 [==============================] - 0s 257us/sample - loss: 24.9128 - root_mean_squared_error: 4.9913 - val_loss: 1.7444 - val_root_mean_squared_error: 1.3208\n",
      "Epoch 144/300\n",
      "233/233 [==============================] - 0s 261us/sample - loss: 25.4814 - root_mean_squared_error: 5.0479 - val_loss: 1.6721 - val_root_mean_squared_error: 1.2931\n",
      "Epoch 145/300\n",
      "233/233 [==============================] - 0s 253us/sample - loss: 23.9523 - root_mean_squared_error: 4.8941 - val_loss: 1.6265 - val_root_mean_squared_error: 1.2753\n",
      "Epoch 146/300\n",
      "233/233 [==============================] - 0s 253us/sample - loss: 23.0160 - root_mean_squared_error: 4.7975 - val_loss: 1.5928 - val_root_mean_squared_error: 1.2621\n",
      "Epoch 147/300\n",
      "233/233 [==============================] - 0s 261us/sample - loss: 22.3162 - root_mean_squared_error: 4.7240 - val_loss: 1.5318 - val_root_mean_squared_error: 1.2376\n",
      "Epoch 148/300\n",
      "233/233 [==============================] - 0s 261us/sample - loss: 22.1508 - root_mean_squared_error: 4.7065 - val_loss: 1.5039 - val_root_mean_squared_error: 1.2263\n",
      "Epoch 149/300\n",
      "233/233 [==============================] - 0s 253us/sample - loss: 22.2644 - root_mean_squared_error: 4.7185 - val_loss: 1.4831 - val_root_mean_squared_error: 1.2178\n",
      "Epoch 150/300\n",
      "233/233 [==============================] - 0s 261us/sample - loss: 22.2889 - root_mean_squared_error: 4.7211 - val_loss: 1.4084 - val_root_mean_squared_error: 1.1868\n",
      "Epoch 151/300\n",
      "233/233 [==============================] - 0s 261us/sample - loss: 24.2594 - root_mean_squared_error: 4.9254 - val_loss: 1.4004 - val_root_mean_squared_error: 1.1834\n",
      "Epoch 152/300\n",
      "233/233 [==============================] - 0s 261us/sample - loss: 26.4273 - root_mean_squared_error: 5.1408 - val_loss: 1.5041 - val_root_mean_squared_error: 1.2264\n",
      "Epoch 153/300\n",
      "233/233 [==============================] - 0s 265us/sample - loss: 22.0030 - root_mean_squared_error: 4.6907 - val_loss: 1.4758 - val_root_mean_squared_error: 1.2148\n",
      "Epoch 154/300\n",
      "233/233 [==============================] - 0s 261us/sample - loss: 22.3476 - root_mean_squared_error: 4.7273 - val_loss: 1.4246 - val_root_mean_squared_error: 1.1935\n",
      "Epoch 155/300\n",
      "233/233 [==============================] - 0s 253us/sample - loss: 22.4329 - root_mean_squared_error: 4.7363 - val_loss: 1.4236 - val_root_mean_squared_error: 1.1932\n",
      "Epoch 156/300\n",
      "233/233 [==============================] - 0s 257us/sample - loss: 22.8254 - root_mean_squared_error: 4.7776 - val_loss: 1.4498 - val_root_mean_squared_error: 1.2041\n",
      "Epoch 157/300\n",
      "233/233 [==============================] - 0s 261us/sample - loss: 23.2835 - root_mean_squared_error: 4.8253 - val_loss: 1.5505 - val_root_mean_squared_error: 1.2452\n",
      "Epoch 158/300\n",
      "233/233 [==============================] - 0s 265us/sample - loss: 23.5393 - root_mean_squared_error: 4.8517 - val_loss: 1.6376 - val_root_mean_squared_error: 1.2797\n",
      "Epoch 159/300\n",
      "233/233 [==============================] - 0s 261us/sample - loss: 23.4704 - root_mean_squared_error: 4.8446 - val_loss: 1.6505 - val_root_mean_squared_error: 1.2847\n",
      "Epoch 160/300\n",
      "233/233 [==============================] - 0s 261us/sample - loss: 22.6927 - root_mean_squared_error: 4.7637 - val_loss: 1.5835 - val_root_mean_squared_error: 1.2584\n",
      "Epoch 161/300\n",
      "233/233 [==============================] - 0s 248us/sample - loss: 24.0101 - root_mean_squared_error: 4.9000 - val_loss: 1.6440 - val_root_mean_squared_error: 1.2822\n",
      "Epoch 162/300\n",
      "233/233 [==============================] - 0s 257us/sample - loss: 22.3929 - root_mean_squared_error: 4.7321 - val_loss: 1.5610 - val_root_mean_squared_error: 1.2494\n",
      "Epoch 163/300\n",
      "233/233 [==============================] - 0s 265us/sample - loss: 23.4070 - root_mean_squared_error: 4.8381 - val_loss: 1.4547 - val_root_mean_squared_error: 1.2061\n",
      "Epoch 164/300\n",
      "233/233 [==============================] - 0s 261us/sample - loss: 22.1031 - root_mean_squared_error: 4.7014 - val_loss: 1.3434 - val_root_mean_squared_error: 1.1591\n",
      "Epoch 165/300\n",
      "233/233 [==============================] - 0s 261us/sample - loss: 22.3002 - root_mean_squared_error: 4.7223 - val_loss: 1.2452 - val_root_mean_squared_error: 1.1159\n",
      "Epoch 166/300\n",
      "233/233 [==============================] - 0s 253us/sample - loss: 22.1333 - root_mean_squared_error: 4.7046 - val_loss: 1.1490 - val_root_mean_squared_error: 1.0719\n",
      "Epoch 167/300\n",
      "233/233 [==============================] - 0s 257us/sample - loss: 21.5273 - root_mean_squared_error: 4.6398 - val_loss: 1.0607 - val_root_mean_squared_error: 1.0299\n",
      "Epoch 168/300\n",
      "233/233 [==============================] - 0s 261us/sample - loss: 21.9368 - root_mean_squared_error: 4.6837 - val_loss: 1.0081 - val_root_mean_squared_error: 1.0040\n",
      "Epoch 169/300\n",
      "233/233 [==============================] - 0s 261us/sample - loss: 23.3461 - root_mean_squared_error: 4.8318 - val_loss: 1.1703 - val_root_mean_squared_error: 1.0818\n",
      "Epoch 170/300\n",
      "233/233 [==============================] - 0s 261us/sample - loss: 21.7103 - root_mean_squared_error: 4.6594 - val_loss: 1.5716 - val_root_mean_squared_error: 1.2536\n",
      "Epoch 171/300\n",
      "233/233 [==============================] - 0s 253us/sample - loss: 21.5911 - root_mean_squared_error: 4.6466 - val_loss: 1.2844 - val_root_mean_squared_error: 1.1333\n",
      "Epoch 172/300\n",
      "233/233 [==============================] - 0s 248us/sample - loss: 22.1447 - root_mean_squared_error: 4.7058 - val_loss: 0.9481 - val_root_mean_squared_error: 0.9737\n",
      "Epoch 173/300\n",
      "233/233 [==============================] - 0s 270us/sample - loss: 22.0026 - root_mean_squared_error: 4.6907 - val_loss: 0.7984 - val_root_mean_squared_error: 0.8936\n",
      "Epoch 174/300\n",
      "233/233 [==============================] - 0s 261us/sample - loss: 22.3141 - root_mean_squared_error: 4.7238 - val_loss: 0.8235 - val_root_mean_squared_error: 0.9075\n",
      "Epoch 175/300\n",
      "233/233 [==============================] - 0s 265us/sample - loss: 22.2541 - root_mean_squared_error: 4.7174 - val_loss: 0.7552 - val_root_mean_squared_error: 0.8690\n",
      "Epoch 176/300\n",
      "233/233 [==============================] - 0s 257us/sample - loss: 21.6671 - root_mean_squared_error: 4.6548 - val_loss: 0.7372 - val_root_mean_squared_error: 0.8586\n",
      "Epoch 177/300\n",
      "233/233 [==============================] - 0s 257us/sample - loss: 21.7965 - root_mean_squared_error: 4.6687 - val_loss: 0.8392 - val_root_mean_squared_error: 0.9161\n",
      "Epoch 178/300\n",
      "233/233 [==============================] - 0s 248us/sample - loss: 22.3243 - root_mean_squared_error: 4.7249 - val_loss: 0.8335 - val_root_mean_squared_error: 0.9130\n",
      "Epoch 179/300\n",
      "233/233 [==============================] - 0s 257us/sample - loss: 23.0814 - root_mean_squared_error: 4.8043 - val_loss: 1.5052 - val_root_mean_squared_error: 1.2268\n",
      "Epoch 180/300\n"
     ]
    },
    {
     "name": "stdout",
     "output_type": "stream",
     "text": [
      "233/233 [==============================] - 0s 261us/sample - loss: 26.8946 - root_mean_squared_error: 5.1860 - val_loss: 0.3629 - val_root_mean_squared_error: 0.6024\n",
      "Epoch 181/300\n",
      "233/233 [==============================] - 0s 248us/sample - loss: 21.9354 - root_mean_squared_error: 4.6835 - val_loss: 0.5023 - val_root_mean_squared_error: 0.7088\n",
      "Epoch 182/300\n",
      "233/233 [==============================] - 0s 253us/sample - loss: 22.9130 - root_mean_squared_error: 4.7867 - val_loss: 0.4097 - val_root_mean_squared_error: 0.6401\n",
      "Epoch 183/300\n",
      "233/233 [==============================] - 0s 261us/sample - loss: 23.4666 - root_mean_squared_error: 4.8442 - val_loss: 0.3550 - val_root_mean_squared_error: 0.5958\n",
      "Epoch 184/300\n",
      "233/233 [==============================] - 0s 261us/sample - loss: 25.3045 - root_mean_squared_error: 5.0304 - val_loss: 0.3330 - val_root_mean_squared_error: 0.5770\n",
      "Epoch 185/300\n",
      "233/233 [==============================] - 0s 248us/sample - loss: 23.8875 - root_mean_squared_error: 4.8875 - val_loss: 0.3271 - val_root_mean_squared_error: 0.5719\n",
      "Epoch 186/300\n",
      "233/233 [==============================] - 0s 261us/sample - loss: 21.9124 - root_mean_squared_error: 4.6811 - val_loss: 0.3304 - val_root_mean_squared_error: 0.5748\n",
      "Epoch 187/300\n",
      "233/233 [==============================] - 0s 253us/sample - loss: 21.6485 - root_mean_squared_error: 4.6528 - val_loss: 0.3376 - val_root_mean_squared_error: 0.5811\n",
      "Epoch 188/300\n",
      "233/233 [==============================] - 0s 257us/sample - loss: 22.9139 - root_mean_squared_error: 4.7868 - val_loss: 0.3419 - val_root_mean_squared_error: 0.5847\n",
      "Epoch 189/300\n",
      "233/233 [==============================] - 0s 248us/sample - loss: 22.6799 - root_mean_squared_error: 4.7623 - val_loss: 0.3501 - val_root_mean_squared_error: 0.5917\n",
      "Epoch 190/300\n",
      "233/233 [==============================] - 0s 261us/sample - loss: 23.3256 - root_mean_squared_error: 4.8297 - val_loss: 0.3556 - val_root_mean_squared_error: 0.5963\n",
      "Epoch 191/300\n",
      "233/233 [==============================] - 0s 253us/sample - loss: 21.6041 - root_mean_squared_error: 4.6480 - val_loss: 0.3657 - val_root_mean_squared_error: 0.6048\n",
      "Epoch 192/300\n",
      "233/233 [==============================] - 0s 261us/sample - loss: 21.5546 - root_mean_squared_error: 4.6427 - val_loss: 0.3796 - val_root_mean_squared_error: 0.6161\n",
      "Epoch 193/300\n",
      "233/233 [==============================] - 0s 261us/sample - loss: 21.9022 - root_mean_squared_error: 4.6800 - val_loss: 0.3913 - val_root_mean_squared_error: 0.6255\n",
      "Epoch 194/300\n",
      "233/233 [==============================] - 0s 253us/sample - loss: 21.4344 - root_mean_squared_error: 4.6297 - val_loss: 0.3817 - val_root_mean_squared_error: 0.6178\n",
      "Epoch 195/300\n",
      "233/233 [==============================] - 0s 257us/sample - loss: 22.1134 - root_mean_squared_error: 4.7025 - val_loss: 0.3794 - val_root_mean_squared_error: 0.6159\n",
      "Epoch 196/300\n",
      "233/233 [==============================] - 0s 257us/sample - loss: 21.4894 - root_mean_squared_error: 4.6357 - val_loss: 0.3841 - val_root_mean_squared_error: 0.6198\n",
      "Epoch 197/300\n",
      "233/233 [==============================] - 0s 261us/sample - loss: 25.9257 - root_mean_squared_error: 5.0917 - val_loss: 0.3306 - val_root_mean_squared_error: 0.5750\n",
      "Epoch 198/300\n",
      "233/233 [==============================] - 0s 257us/sample - loss: 21.6930 - root_mean_squared_error: 4.6576 - val_loss: 2.3892 - val_root_mean_squared_error: 1.5457\n",
      "Epoch 199/300\n",
      "233/233 [==============================] - 0s 263us/sample - loss: 22.7635 - root_mean_squared_error: 4.7711 - val_loss: 2.9145 - val_root_mean_squared_error: 1.7072\n",
      "Epoch 200/300\n",
      "233/233 [==============================] - 0s 257us/sample - loss: 21.9294 - root_mean_squared_error: 4.6829 - val_loss: 3.9669 - val_root_mean_squared_error: 1.9917\n",
      "Epoch 201/300\n",
      "233/233 [==============================] - 0s 253us/sample - loss: 22.3417 - root_mean_squared_error: 4.7267 - val_loss: 14.0264 - val_root_mean_squared_error: 3.7452\n",
      "Epoch 202/300\n",
      "233/233 [==============================] - 0s 257us/sample - loss: 23.3519 - root_mean_squared_error: 4.8324 - val_loss: 14.3089 - val_root_mean_squared_error: 3.7827\n",
      "Epoch 203/300\n",
      "233/233 [==============================] - 0s 248us/sample - loss: 21.9612 - root_mean_squared_error: 4.6863 - val_loss: 12.0447 - val_root_mean_squared_error: 3.4705\n",
      "Epoch 204/300\n",
      "233/233 [==============================] - 0s 265us/sample - loss: 21.5098 - root_mean_squared_error: 4.6379 - val_loss: 20.6726 - val_root_mean_squared_error: 4.5467\n",
      "Epoch 205/300\n",
      "233/233 [==============================] - 0s 265us/sample - loss: 18.6118 - root_mean_squared_error: 4.3141 - val_loss: 23.2273 - val_root_mean_squared_error: 4.8195\n",
      "Epoch 206/300\n",
      "233/233 [==============================] - 0s 265us/sample - loss: 21.1348 - root_mean_squared_error: 4.5973 - val_loss: 18.5450 - val_root_mean_squared_error: 4.3064\n",
      "Epoch 207/300\n",
      "233/233 [==============================] - 0s 257us/sample - loss: 20.7549 - root_mean_squared_error: 4.5558 - val_loss: 19.2722 - val_root_mean_squared_error: 4.3900\n",
      "Epoch 208/300\n",
      "233/233 [==============================] - 0s 265us/sample - loss: 22.0144 - root_mean_squared_error: 4.6920 - val_loss: 16.8557 - val_root_mean_squared_error: 4.1056\n",
      "Epoch 209/300\n",
      "233/233 [==============================] - 0s 253us/sample - loss: 20.7973 - root_mean_squared_error: 4.5604 - val_loss: 15.4202 - val_root_mean_squared_error: 3.9269\n",
      "Epoch 210/300\n",
      "233/233 [==============================] - 0s 257us/sample - loss: 20.5795 - root_mean_squared_error: 4.5365 - val_loss: 12.2887 - val_root_mean_squared_error: 3.5055\n",
      "Epoch 211/300\n",
      "233/233 [==============================] - 0s 261us/sample - loss: 21.4907 - root_mean_squared_error: 4.6358 - val_loss: 8.9932 - val_root_mean_squared_error: 2.9989\n",
      "Epoch 212/300\n",
      "233/233 [==============================] - 0s 257us/sample - loss: 20.9103 - root_mean_squared_error: 4.5728 - val_loss: 6.5589 - val_root_mean_squared_error: 2.5610\n",
      "Epoch 213/300\n",
      "233/233 [==============================] - 0s 257us/sample - loss: 22.5018 - root_mean_squared_error: 4.7436 - val_loss: 4.6477 - val_root_mean_squared_error: 2.1558\n",
      "Epoch 214/300\n",
      "233/233 [==============================] - 0s 248us/sample - loss: 20.9508 - root_mean_squared_error: 4.5772 - val_loss: 3.4038 - val_root_mean_squared_error: 1.8449\n",
      "Epoch 215/300\n",
      "233/233 [==============================] - 0s 248us/sample - loss: 21.2870 - root_mean_squared_error: 4.6138 - val_loss: 2.7407 - val_root_mean_squared_error: 1.6555\n",
      "Epoch 216/300\n",
      "233/233 [==============================] - 0s 261us/sample - loss: 21.9633 - root_mean_squared_error: 4.6865 - val_loss: 2.1133 - val_root_mean_squared_error: 1.4537\n",
      "Epoch 217/300\n",
      "233/233 [==============================] - 0s 261us/sample - loss: 21.9585 - root_mean_squared_error: 4.6860 - val_loss: 1.6195 - val_root_mean_squared_error: 1.2726\n",
      "Epoch 218/300\n",
      "233/233 [==============================] - 0s 253us/sample - loss: 21.4085 - root_mean_squared_error: 4.6269 - val_loss: 1.2026 - val_root_mean_squared_error: 1.0966\n",
      "Epoch 219/300\n",
      "233/233 [==============================] - 0s 257us/sample - loss: 20.5035 - root_mean_squared_error: 4.5281 - val_loss: 0.8874 - val_root_mean_squared_error: 0.9420\n",
      "Epoch 220/300\n",
      "233/233 [==============================] - 0s 253us/sample - loss: 20.9980 - root_mean_squared_error: 4.5824 - val_loss: 1.2477 - val_root_mean_squared_error: 1.1170\n",
      "Epoch 221/300\n",
      "233/233 [==============================] - 0s 261us/sample - loss: 21.1618 - root_mean_squared_error: 4.6002 - val_loss: 0.9548 - val_root_mean_squared_error: 0.9771\n",
      "Epoch 222/300\n",
      "233/233 [==============================] - 0s 248us/sample - loss: 21.9425 - root_mean_squared_error: 4.6843 - val_loss: 0.7568 - val_root_mean_squared_error: 0.8700\n",
      "Epoch 223/300\n",
      "233/233 [==============================] - 0s 253us/sample - loss: 21.4162 - root_mean_squared_error: 4.6278 - val_loss: 0.5719 - val_root_mean_squared_error: 0.7563\n",
      "Epoch 224/300\n",
      "233/233 [==============================] - 0s 261us/sample - loss: 21.7196 - root_mean_squared_error: 4.6604 - val_loss: 0.6206 - val_root_mean_squared_error: 0.7878\n",
      "Epoch 225/300\n",
      "233/233 [==============================] - 0s 261us/sample - loss: 20.8717 - root_mean_squared_error: 4.5686 - val_loss: 0.3931 - val_root_mean_squared_error: 0.6270\n",
      "Epoch 226/300\n",
      "233/233 [==============================] - 0s 265us/sample - loss: 10.2709 - root_mean_squared_error: 3.2048 - val_loss: 0.3482 - val_root_mean_squared_error: 0.5901\n",
      "Epoch 227/300\n",
      "233/233 [==============================] - ETA: 0s - loss: 9.5689 - root_mean_squared_error: 3.093 - 0s 244us/sample - loss: 8.2065 - root_mean_squared_error: 2.8647 - val_loss: 0.3335 - val_root_mean_squared_error: 0.5775\n",
      "Epoch 228/300\n",
      "233/233 [==============================] - 0s 248us/sample - loss: 7.4391 - root_mean_squared_error: 2.7275 - val_loss: 0.3348 - val_root_mean_squared_error: 0.5786\n",
      "Epoch 229/300\n",
      "233/233 [==============================] - 0s 257us/sample - loss: 6.7247 - root_mean_squared_error: 2.5932 - val_loss: 0.3525 - val_root_mean_squared_error: 0.5937\n",
      "Epoch 230/300\n",
      "233/233 [==============================] - 0s 265us/sample - loss: 6.0613 - root_mean_squared_error: 2.4620 - val_loss: 0.3333 - val_root_mean_squared_error: 0.5773\n",
      "Epoch 231/300\n",
      "233/233 [==============================] - 0s 261us/sample - loss: 5.4604 - root_mean_squared_error: 2.3367 - val_loss: 0.3374 - val_root_mean_squared_error: 0.5809\n",
      "Epoch 232/300\n",
      "233/233 [==============================] - 0s 244us/sample - loss: 4.9277 - root_mean_squared_error: 2.2199 - val_loss: 0.3342 - val_root_mean_squared_error: 0.5781\n",
      "Epoch 233/300\n",
      "233/233 [==============================] - 0s 253us/sample - loss: 4.4650 - root_mean_squared_error: 2.1131 - val_loss: 0.3333 - val_root_mean_squared_error: 0.5773\n",
      "Epoch 234/300\n",
      "233/233 [==============================] - 0s 257us/sample - loss: 4.0197 - root_mean_squared_error: 2.0049 - val_loss: 0.3629 - val_root_mean_squared_error: 0.6024\n",
      "Epoch 235/300\n",
      "233/233 [==============================] - 0s 257us/sample - loss: 3.6441 - root_mean_squared_error: 1.9090 - val_loss: 0.3498 - val_root_mean_squared_error: 0.5914\n",
      "Epoch 236/300\n",
      "233/233 [==============================] - 0s 248us/sample - loss: 3.2930 - root_mean_squared_error: 1.8147 - val_loss: 0.3309 - val_root_mean_squared_error: 0.5752\n",
      "Epoch 237/300\n",
      "233/233 [==============================] - 0s 253us/sample - loss: 2.9806 - root_mean_squared_error: 1.7265 - val_loss: 0.4414 - val_root_mean_squared_error: 0.6644\n",
      "Epoch 238/300\n",
      "233/233 [==============================] - 0s 253us/sample - loss: 2.6967 - root_mean_squared_error: 1.6422 - val_loss: 0.3524 - val_root_mean_squared_error: 0.5936\n",
      "Epoch 239/300\n",
      "233/233 [==============================] - 0s 253us/sample - loss: 2.4576 - root_mean_squared_error: 1.5677 - val_loss: 0.3828 - val_root_mean_squared_error: 0.6187\n",
      "Epoch 240/300\n",
      "233/233 [==============================] - 0s 248us/sample - loss: 2.2277 - root_mean_squared_error: 1.4925 - val_loss: 0.5241 - val_root_mean_squared_error: 0.7239\n",
      "Epoch 241/300\n",
      "233/233 [==============================] - 0s 257us/sample - loss: 2.0190 - root_mean_squared_error: 1.4209 - val_loss: 0.5394 - val_root_mean_squared_error: 0.7345\n",
      "Epoch 242/300\n",
      "233/233 [==============================] - 0s 257us/sample - loss: 1.8377 - root_mean_squared_error: 1.3556 - val_loss: 0.7314 - val_root_mean_squared_error: 0.8552\n",
      "Epoch 243/300\n",
      "233/233 [==============================] - 0s 261us/sample - loss: 1.6823 - root_mean_squared_error: 1.2970 - val_loss: 0.7289 - val_root_mean_squared_error: 0.8538\n",
      "Epoch 244/300\n",
      "233/233 [==============================] - 0s 248us/sample - loss: 1.5482 - root_mean_squared_error: 1.2443 - val_loss: 0.3754 - val_root_mean_squared_error: 0.6127\n",
      "Epoch 245/300\n",
      "233/233 [==============================] - 0s 257us/sample - loss: 1.4078 - root_mean_squared_error: 1.1865 - val_loss: 0.3323 - val_root_mean_squared_error: 0.5764\n",
      "Epoch 246/300\n",
      "233/233 [==============================] - 0s 257us/sample - loss: 1.2823 - root_mean_squared_error: 1.1324 - val_loss: 0.4406 - val_root_mean_squared_error: 0.6637\n",
      "Epoch 247/300\n",
      "233/233 [==============================] - 0s 257us/sample - loss: 1.1925 - root_mean_squared_error: 1.0920 - val_loss: 0.3324 - val_root_mean_squared_error: 0.5765\n",
      "Epoch 248/300\n",
      "233/233 [==============================] - 0s 261us/sample - loss: 1.1116 - root_mean_squared_error: 1.0543 - val_loss: 0.7887 - val_root_mean_squared_error: 0.8881\n",
      "Epoch 249/300\n",
      "233/233 [==============================] - 0s 248us/sample - loss: 1.0191 - root_mean_squared_error: 1.0095 - val_loss: 1.1942 - val_root_mean_squared_error: 1.0928\n",
      "Epoch 250/300\n",
      "233/233 [==============================] - 0s 257us/sample - loss: 0.9511 - root_mean_squared_error: 0.9752 - val_loss: 1.0098 - val_root_mean_squared_error: 1.0049\n",
      "Epoch 251/300\n",
      "233/233 [==============================] - 0s 257us/sample - loss: 0.9241 - root_mean_squared_error: 0.9613 - val_loss: 1.2315 - val_root_mean_squared_error: 1.1097\n",
      "Epoch 252/300\n",
      "233/233 [==============================] - 0s 257us/sample - loss: 0.8187 - root_mean_squared_error: 0.9048 - val_loss: 1.5245 - val_root_mean_squared_error: 1.2347\n",
      "Epoch 253/300\n",
      "233/233 [==============================] - 0s 248us/sample - loss: 0.7696 - root_mean_squared_error: 0.8773 - val_loss: 2.2005 - val_root_mean_squared_error: 1.4834\n",
      "Epoch 254/300\n",
      "233/233 [==============================] - 0s 253us/sample - loss: 0.7225 - root_mean_squared_error: 0.8500 - val_loss: 1.4227 - val_root_mean_squared_error: 1.1928\n",
      "Epoch 255/300\n",
      "233/233 [==============================] - 0s 257us/sample - loss: 0.6824 - root_mean_squared_error: 0.8261 - val_loss: 1.2046 - val_root_mean_squared_error: 1.0975\n",
      "Epoch 256/300\n",
      "233/233 [==============================] - 0s 257us/sample - loss: 0.6364 - root_mean_squared_error: 0.7977 - val_loss: 0.9407 - val_root_mean_squared_error: 0.9699\n",
      "Epoch 257/300\n",
      "233/233 [==============================] - 0s 248us/sample - loss: 0.6162 - root_mean_squared_error: 0.7850 - val_loss: 0.5705 - val_root_mean_squared_error: 0.7553\n",
      "Epoch 258/300\n",
      "233/233 [==============================] - 0s 257us/sample - loss: 0.5903 - root_mean_squared_error: 0.7683 - val_loss: 0.6302 - val_root_mean_squared_error: 0.7939\n",
      "Epoch 259/300\n",
      "233/233 [==============================] - 0s 257us/sample - loss: 0.5654 - root_mean_squared_error: 0.7519 - val_loss: 0.3360 - val_root_mean_squared_error: 0.5796\n",
      "Epoch 260/300\n",
      "233/233 [==============================] - 0s 253us/sample - loss: 0.5390 - root_mean_squared_error: 0.7342 - val_loss: 0.4394 - val_root_mean_squared_error: 0.6629\n",
      "Epoch 261/300\n",
      "233/233 [==============================] - 0s 248us/sample - loss: 0.5239 - root_mean_squared_error: 0.7238 - val_loss: 0.3641 - val_root_mean_squared_error: 0.6034\n",
      "Epoch 262/300\n",
      "233/233 [==============================] - 0s 257us/sample - loss: 0.5058 - root_mean_squared_error: 0.7112 - val_loss: 0.4092 - val_root_mean_squared_error: 0.6397\n",
      "Epoch 263/300\n",
      "233/233 [==============================] - 0s 261us/sample - loss: 0.4628 - root_mean_squared_error: 0.6803 - val_loss: 1.9227 - val_root_mean_squared_error: 1.3866\n",
      "Epoch 264/300\n",
      "233/233 [==============================] - 0s 257us/sample - loss: 0.4828 - root_mean_squared_error: 0.6948 - val_loss: 0.4137 - val_root_mean_squared_error: 0.6432\n",
      "Epoch 265/300\n",
      "233/233 [==============================] - 0s 257us/sample - loss: 0.4631 - root_mean_squared_error: 0.6805 - val_loss: 0.5593 - val_root_mean_squared_error: 0.7479\n",
      "Epoch 266/300\n",
      "233/233 [==============================] - 0s 248us/sample - loss: 0.4469 - root_mean_squared_error: 0.6685 - val_loss: 0.7767 - val_root_mean_squared_error: 0.8813\n",
      "Epoch 267/300\n",
      "233/233 [==============================] - 0s 253us/sample - loss: 0.4402 - root_mean_squared_error: 0.6635 - val_loss: 1.1370 - val_root_mean_squared_error: 1.0663\n",
      "Epoch 268/300\n",
      "233/233 [==============================] - 0s 257us/sample - loss: 0.4329 - root_mean_squared_error: 0.6579 - val_loss: 1.1064 - val_root_mean_squared_error: 1.0519\n",
      "Epoch 269/300\n",
      "233/233 [==============================] - 0s 265us/sample - loss: 0.4337 - root_mean_squared_error: 0.6586 - val_loss: 0.4748 - val_root_mean_squared_error: 0.6891\n",
      "Epoch 270/300\n"
     ]
    },
    {
     "name": "stdout",
     "output_type": "stream",
     "text": [
      "233/233 [==============================] - 0s 261us/sample - loss: 0.4180 - root_mean_squared_error: 0.6465 - val_loss: 1.7016 - val_root_mean_squared_error: 1.3045\n",
      "Epoch 271/300\n",
      "233/233 [==============================] - 0s 257us/sample - loss: 0.4132 - root_mean_squared_error: 0.6428 - val_loss: 1.4975 - val_root_mean_squared_error: 1.2237\n",
      "Epoch 272/300\n",
      "233/233 [==============================] - 0s 248us/sample - loss: 0.4109 - root_mean_squared_error: 0.6410 - val_loss: 0.5037 - val_root_mean_squared_error: 0.7097\n",
      "Epoch 273/300\n",
      "233/233 [==============================] - 0s 261us/sample - loss: 0.4102 - root_mean_squared_error: 0.6405 - val_loss: 0.3195 - val_root_mean_squared_error: 0.5653\n",
      "Epoch 274/300\n",
      "233/233 [==============================] - 0s 261us/sample - loss: 0.3746 - root_mean_squared_error: 0.6121 - val_loss: 2.3028 - val_root_mean_squared_error: 1.5175\n",
      "Epoch 275/300\n",
      "233/233 [==============================] - 0s 248us/sample - loss: 0.3927 - root_mean_squared_error: 0.6267 - val_loss: 1.0779 - val_root_mean_squared_error: 1.0382\n",
      "Epoch 276/300\n",
      "233/233 [==============================] - 0s 269us/sample - loss: 0.3763 - root_mean_squared_error: 0.6134 - val_loss: 2.8025 - val_root_mean_squared_error: 1.6741\n",
      "Epoch 277/300\n",
      "233/233 [==============================] - 0s 249us/sample - loss: 0.3986 - root_mean_squared_error: 0.6314 - val_loss: 0.8398 - val_root_mean_squared_error: 0.9164\n",
      "Epoch 278/300\n",
      "233/233 [==============================] - 0s 257us/sample - loss: 0.3831 - root_mean_squared_error: 0.6189 - val_loss: 1.4311 - val_root_mean_squared_error: 1.1963\n",
      "Epoch 279/300\n",
      "233/233 [==============================] - 0s 248us/sample - loss: 0.3908 - root_mean_squared_error: 0.6251 - val_loss: 5.8011 - val_root_mean_squared_error: 2.4086\n",
      "Epoch 280/300\n",
      "233/233 [==============================] - 0s 259us/sample - loss: 0.3921 - root_mean_squared_error: 0.6262 - val_loss: 0.6624 - val_root_mean_squared_error: 0.8139\n",
      "Epoch 281/300\n",
      "233/233 [==============================] - 0s 261us/sample - loss: 0.3849 - root_mean_squared_error: 0.6204 - val_loss: 3.4867 - val_root_mean_squared_error: 1.8673\n",
      "Epoch 282/300\n",
      "233/233 [==============================] - 0s 261us/sample - loss: 0.3727 - root_mean_squared_error: 0.6105 - val_loss: 3.0817 - val_root_mean_squared_error: 1.7555\n",
      "Epoch 283/300\n",
      "233/233 [==============================] - 0s 253us/sample - loss: 0.3799 - root_mean_squared_error: 0.6163 - val_loss: 0.4738 - val_root_mean_squared_error: 0.6883\n",
      "Epoch 284/300\n",
      "233/233 [==============================] - 0s 269us/sample - loss: 0.3825 - root_mean_squared_error: 0.6185 - val_loss: 0.4292 - val_root_mean_squared_error: 0.6551\n",
      "Epoch 285/300\n",
      "233/233 [==============================] - 0s 253us/sample - loss: 0.3925 - root_mean_squared_error: 0.6265 - val_loss: 0.6902 - val_root_mean_squared_error: 0.8308\n",
      "Epoch 286/300\n",
      "233/233 [==============================] - 0s 253us/sample - loss: 0.3840 - root_mean_squared_error: 0.6197 - val_loss: 0.5031 - val_root_mean_squared_error: 0.7093\n",
      "Epoch 287/300\n",
      "233/233 [==============================] - 0s 248us/sample - loss: 0.3882 - root_mean_squared_error: 0.6231 - val_loss: 1.1015 - val_root_mean_squared_error: 1.0495\n",
      "Epoch 288/300\n",
      "233/233 [==============================] - 0s 266us/sample - loss: 0.3782 - root_mean_squared_error: 0.6150 - val_loss: 0.3918 - val_root_mean_squared_error: 0.6259\n",
      "Epoch 289/300\n",
      "233/233 [==============================] - 0s 257us/sample - loss: 0.3578 - root_mean_squared_error: 0.5981 - val_loss: 1.7189 - val_root_mean_squared_error: 1.3111\n",
      "Epoch 290/300\n",
      "233/233 [==============================] - 0s 261us/sample - loss: 0.3835 - root_mean_squared_error: 0.6193 - val_loss: 0.3591 - val_root_mean_squared_error: 0.5993\n",
      "Epoch 291/300\n",
      "233/233 [==============================] - 0s 257us/sample - loss: 0.3812 - root_mean_squared_error: 0.6174 - val_loss: 1.4746 - val_root_mean_squared_error: 1.2143\n",
      "Epoch 292/300\n",
      "233/233 [==============================] - 0s 253us/sample - loss: 0.3796 - root_mean_squared_error: 0.6161 - val_loss: 0.5273 - val_root_mean_squared_error: 0.7261\n",
      "Epoch 293/300\n",
      "233/233 [==============================] - 0s 257us/sample - loss: 0.3705 - root_mean_squared_error: 0.6086 - val_loss: 2.0883 - val_root_mean_squared_error: 1.4451\n",
      "Epoch 294/300\n",
      "233/233 [==============================] - 0s 257us/sample - loss: 0.3939 - root_mean_squared_error: 0.6276 - val_loss: 1.8376 - val_root_mean_squared_error: 1.3556\n",
      "Epoch 295/300\n",
      "233/233 [==============================] - 0s 265us/sample - loss: 0.3723 - root_mean_squared_error: 0.6102 - val_loss: 0.3188 - val_root_mean_squared_error: 0.5646\n",
      "Epoch 296/300\n",
      "233/233 [==============================] - 0s 261us/sample - loss: 0.3726 - root_mean_squared_error: 0.6104 - val_loss: 1.0642 - val_root_mean_squared_error: 1.0316\n",
      "Epoch 297/300\n",
      "233/233 [==============================] - 0s 248us/sample - loss: 0.3748 - root_mean_squared_error: 0.6122 - val_loss: 0.3717 - val_root_mean_squared_error: 0.6096\n",
      "Epoch 298/300\n",
      "233/233 [==============================] - 0s 257us/sample - loss: 0.3767 - root_mean_squared_error: 0.6138 - val_loss: 0.4886 - val_root_mean_squared_error: 0.6990\n",
      "Epoch 299/300\n",
      "233/233 [==============================] - 0s 261us/sample - loss: 0.3627 - root_mean_squared_error: 0.6022 - val_loss: 0.6978 - val_root_mean_squared_error: 0.8353\n",
      "Epoch 300/300\n",
      "233/233 [==============================] - 0s 261us/sample - loss: 0.3528 - root_mean_squared_error: 0.5939 - val_loss: 0.4247 - val_root_mean_squared_error: 0.6517\n"
     ]
    }
   ],
   "source": [
    "history = model.fit(train_X.values, train_y,\n",
    "                    epochs=300, \n",
    "                    validation_data=(test_X.values, test_y),\n",
    "                    batch_size=16,\n",
    "                    verbose=1)"
   ]
  },
  {
   "cell_type": "code",
   "execution_count": 85,
   "metadata": {},
   "outputs": [
    {
     "data": {
      "image/png": "[encoded data removed]",
      "text/plain": [
       "<Figure size 432x288 with 1 Axes>"
      ]
     },
     "metadata": {},
     "output_type": "display_data"
    }
   ],
   "source": [
    "fig = plt.figure()\n",
    "plt.plot(history.history['root_mean_squared_error'], ms=5,marker='o', label='RootMeanSquaredError')\n",
    "plt.plot(history.history['val_root_mean_squared_error'], ms=5,marker='o', label='val_RootMeanSquaredError')\n",
    "plt.legend()\n",
    "plt.show()"
   ]
  },
  {
   "cell_type": "code",
   "execution_count": 82,
   "metadata": {},
   "outputs": [],
   "source": [
    "pred_y = model.predict(test_X)"
   ]
  },
  {
   "cell_type": "code",
   "execution_count": 83,
   "metadata": {},
   "outputs": [],
   "source": [
    "def get_accuracy(test, pred, rate):\n",
    "    actual_gross = np.exp(test)\n",
    "    pred_gross = np.exp(pred)\n",
    "    upper = actual_gross * (1 + rate/100)\n",
    "    lower = actual_gross * (1 - rate/100)\n",
    "    tp, tn = 0, 0\n",
    "    for item in zip(pred_gross, upper, lower):\n",
    "        if item[0] >= item[2] and item[0] <= item[1]:\n",
    "            tp += 1\n",
    "        else:\n",
    "            tn += 1\n",
    "    accuracy = tp / (tp + tn)\n",
    "    return accuracy"
   ]
  },
  {
   "cell_type": "code",
   "execution_count": 84,
   "metadata": {},
   "outputs": [],
   "source": [
    "def get_accuracy2(test, pred, rate):\n",
    "    actual_gross = test\n",
    "    pred_gross = pred\n",
    "    upper = actual_gross * (1 + rate/100)\n",
    "    lower = actual_gross * (1 - rate/100)\n",
    "    tp, tn = 0, 0\n",
    "    for item in zip(pred_gross, upper, lower):\n",
    "        if item[0] >= item[2] and item[0] <= item[1]:\n",
    "            tp += 1\n",
    "        else:\n",
    "            tn += 1\n",
    "    accuracy = tp / (tp + tn)\n",
    "    return accuracy"
   ]
  },
  {
   "cell_type": "code",
   "execution_count": 85,
   "metadata": {},
   "outputs": [
    {
     "data": {
      "text/plain": [
       "0.06976744186046512"
      ]
     },
     "execution_count": 85,
     "metadata": {},
     "output_type": "execute_result"
    }
   ],
   "source": [
    "get_accuracy(test_y,pred_y.flatten(), 10)"
   ]
  },
  {
   "cell_type": "code",
   "execution_count": 206,
   "metadata": {},
   "outputs": [
    {
     "data": {
      "text/plain": [
       "0.8952380952380953"
      ]
     },
     "execution_count": 206,
     "metadata": {},
     "output_type": "execute_result"
    }
   ],
   "source": [
    "get_accuracy2(test_y,pred_y.flatten(), 10)"
   ]
  },
  {
   "cell_type": "code",
   "execution_count": 86,
   "metadata": {},
   "outputs": [
    {
     "name": "stdout",
     "output_type": "stream",
     "text": [
      "rate:10%, 0.06976744186046512\n",
      "rate:15%, 0.06976744186046512\n",
      "rate:20%, 0.09302325581395349\n",
      "rate:25%, 0.11627906976744186\n",
      "rate:30%, 0.2558139534883721\n",
      "rate:35%, 0.3953488372093023\n",
      "rate:40%, 0.4883720930232558\n",
      "rate:45%, 0.5116279069767442\n",
      "rate:50%, 0.627906976744186\n",
      "rate:55%, 0.6511627906976745\n",
      "rate:60%, 0.7441860465116279\n",
      "rate:65%, 0.813953488372093\n",
      "rate:70%, 0.8604651162790697\n",
      "rate:75%, 0.9069767441860465\n",
      "rate:80%, 0.9069767441860465\n",
      "rate:85%, 0.9302325581395349\n",
      "rate:90%, 0.9534883720930233\n",
      "rate:95%, 0.9534883720930233\n"
     ]
    }
   ],
   "source": [
    "for rate in list(range(10,100,5)):\n",
    "    result = get_accuracy(test_y, pred_y.flatten(), rate)\n",
    "    print(f'rate:{rate}%, {result}')"
   ]
  }
 ],
 "metadata": {
  "kernelspec": {
   "display_name": "Python 3",
   "language": "python",
   "name": "python3"
  },
  "language_info": {
   "codemirror_mode": {
    "name": "ipython",
    "version": 3
   },
   "file_extension": ".py",
   "mimetype": "text/x-python",
   "name": "python",
   "nbconvert_exporter": "python",
   "pygments_lexer": "ipython3",
   "version": "3.8.8"
  },
  "varInspector": {
   "cols": {
    "lenName": 16,
    "lenType": 16,
    "lenVar": 40
   },
   "kernels_config": {
    "python": {
     "delete_cmd_postfix": "",
     "delete_cmd_prefix": "del ",
     "library": "var_list.py",
     "varRefreshCmd": "print(var_dic_list())"
    },
    "r": {
     "delete_cmd_postfix": ") ",
     "delete_cmd_prefix": "rm(",
     "library": "var_list.r",
     "varRefreshCmd": "cat(var_dic_list()) "
    }
   },
   "position": {
    "height": "167.594px",
    "left": "1615.19px",
    "right": "20px",
    "top": "129px",
    "width": "277.594px"
   },
   "types_to_exclude": [
    "module",
    "function",
    "builtin_function_or_method",
    "instance",
    "_Feature"
   ],
   "window_display": true
  }
 },
 "nbformat": 4,
 "nbformat_minor": 2
}

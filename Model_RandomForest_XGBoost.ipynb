{
 "cells": [
  {
   "cell_type": "code",
   "execution_count": 1,
   "metadata": {},
   "outputs": [],
   "source": [
    "import numpy as np\n",
    "import pandas as pd"
   ]
  },
  {
   "cell_type": "code",
   "execution_count": 2,
   "metadata": {},
   "outputs": [],
   "source": [
    "import matplotlib.pyplot as plt\n",
    "import matplotlib.colors as mcolors\n",
    "import seaborn as sns"
   ]
  },
  {
   "cell_type": "code",
   "execution_count": 3,
   "metadata": {},
   "outputs": [],
   "source": [
    "%matplotlib inline\n",
    "sns.set()"
   ]
  },
  {
   "cell_type": "code",
   "execution_count": 14,
   "metadata": {},
   "outputs": [],
   "source": [
    "movies_df = pd.read_csv('movies_data_20191030_v2.csv')"
   ]
  },
  {
   "cell_type": "code",
   "execution_count": 15,
   "metadata": {},
   "outputs": [
    {
     "data": {
      "text/html": [
       "<div>\n",
       "<style scoped>\n",
       "    .dataframe tbody tr th:only-of-type {\n",
       "        vertical-align: middle;\n",
       "    }\n",
       "\n",
       "    .dataframe tbody tr th {\n",
       "        vertical-align: top;\n",
       "    }\n",
       "\n",
       "    .dataframe thead th {\n",
       "        text-align: right;\n",
       "    }\n",
       "</style>\n",
       "<table border=\"1\" class=\"dataframe\">\n",
       "  <thead>\n",
       "    <tr style=\"text-align: right;\">\n",
       "      <th></th>\n",
       "      <th>tmdb_id</th>\n",
       "      <th>mojo_title</th>\n",
       "      <th>original_title</th>\n",
       "      <th>tagline</th>\n",
       "      <th>collection_id</th>\n",
       "      <th>budget</th>\n",
       "      <th>Total_gross</th>\n",
       "      <th>comments_total_qty</th>\n",
       "      <th>sc_negative</th>\n",
       "      <th>sc_neutral</th>\n",
       "      <th>...</th>\n",
       "      <th>num_sp_languages</th>\n",
       "      <th>gdp_deflator</th>\n",
       "      <th>unemployment_rate</th>\n",
       "      <th>gdp_annual_rate</th>\n",
       "      <th>First_week_gross</th>\n",
       "      <th>adj_first_week_gross</th>\n",
       "      <th>boxoffice_level</th>\n",
       "      <th>week_boxoffice_level</th>\n",
       "      <th>boxoffice_level(4)</th>\n",
       "      <th>week_boxoffice_level(4)</th>\n",
       "    </tr>\n",
       "  </thead>\n",
       "  <tbody>\n",
       "    <tr>\n",
       "      <th>0</th>\n",
       "      <td>19995.0</td>\n",
       "      <td>Avatar</td>\n",
       "      <td>Avatar</td>\n",
       "      <td>Enter the World of Pandora.</td>\n",
       "      <td>87096.0</td>\n",
       "      <td>237000000.0</td>\n",
       "      <td>760507625</td>\n",
       "      <td>0.0</td>\n",
       "      <td>0.0</td>\n",
       "      <td>0.0</td>\n",
       "      <td>...</td>\n",
       "      <td>2</td>\n",
       "      <td>0.76235</td>\n",
       "      <td>9.2542</td>\n",
       "      <td>-2.536757</td>\n",
       "      <td>137094001</td>\n",
       "      <td>1.798308e+08</td>\n",
       "      <td>1</td>\n",
       "      <td>1</td>\n",
       "      <td>1</td>\n",
       "      <td>1</td>\n",
       "    </tr>\n",
       "    <tr>\n",
       "      <th>1</th>\n",
       "      <td>8373.0</td>\n",
       "      <td>Transformers: Revenge of the Fallen</td>\n",
       "      <td>Transformers: Revenge of the Fallen</td>\n",
       "      <td>Revenge is coming.</td>\n",
       "      <td>8650.0</td>\n",
       "      <td>150000000.0</td>\n",
       "      <td>402111870</td>\n",
       "      <td>0.0</td>\n",
       "      <td>0.0</td>\n",
       "      <td>0.0</td>\n",
       "      <td>...</td>\n",
       "      <td>2</td>\n",
       "      <td>0.76235</td>\n",
       "      <td>9.2542</td>\n",
       "      <td>-2.536757</td>\n",
       "      <td>91110948</td>\n",
       "      <td>1.195133e+08</td>\n",
       "      <td>1</td>\n",
       "      <td>1</td>\n",
       "      <td>1</td>\n",
       "      <td>1</td>\n",
       "    </tr>\n",
       "    <tr>\n",
       "      <th>2</th>\n",
       "      <td>767.0</td>\n",
       "      <td>Harry Potter and the Half-Blood Prince</td>\n",
       "      <td>Harry Potter and the Half-Blood Prince</td>\n",
       "      <td>Dark Secrets Revealed</td>\n",
       "      <td>1241.0</td>\n",
       "      <td>250000000.0</td>\n",
       "      <td>302089278</td>\n",
       "      <td>0.0</td>\n",
       "      <td>0.0</td>\n",
       "      <td>0.0</td>\n",
       "      <td>...</td>\n",
       "      <td>1</td>\n",
       "      <td>0.76235</td>\n",
       "      <td>9.2542</td>\n",
       "      <td>-2.536757</td>\n",
       "      <td>80186627</td>\n",
       "      <td>1.051835e+08</td>\n",
       "      <td>1</td>\n",
       "      <td>1</td>\n",
       "      <td>1</td>\n",
       "      <td>1</td>\n",
       "    </tr>\n",
       "    <tr>\n",
       "      <th>3</th>\n",
       "      <td>18239.0</td>\n",
       "      <td>The Twilight Saga: New Moon</td>\n",
       "      <td>The Twilight Saga: New Moon</td>\n",
       "      <td>The Next Chapter Begins.</td>\n",
       "      <td>33514.0</td>\n",
       "      <td>50000000.0</td>\n",
       "      <td>296623634</td>\n",
       "      <td>0.0</td>\n",
       "      <td>0.0</td>\n",
       "      <td>0.0</td>\n",
       "      <td>...</td>\n",
       "      <td>2</td>\n",
       "      <td>0.76235</td>\n",
       "      <td>9.2542</td>\n",
       "      <td>-2.536757</td>\n",
       "      <td>188077665</td>\n",
       "      <td>2.467078e+08</td>\n",
       "      <td>1</td>\n",
       "      <td>1</td>\n",
       "      <td>1</td>\n",
       "      <td>1</td>\n",
       "    </tr>\n",
       "    <tr>\n",
       "      <th>4</th>\n",
       "      <td>14160.0</td>\n",
       "      <td>Up</td>\n",
       "      <td>Up</td>\n",
       "      <td>NaN</td>\n",
       "      <td>NaN</td>\n",
       "      <td>175000000.0</td>\n",
       "      <td>293004164</td>\n",
       "      <td>0.0</td>\n",
       "      <td>0.0</td>\n",
       "      <td>0.0</td>\n",
       "      <td>...</td>\n",
       "      <td>1</td>\n",
       "      <td>0.76235</td>\n",
       "      <td>9.2542</td>\n",
       "      <td>-2.536757</td>\n",
       "      <td>93072435</td>\n",
       "      <td>1.220862e+08</td>\n",
       "      <td>1</td>\n",
       "      <td>1</td>\n",
       "      <td>1</td>\n",
       "      <td>1</td>\n",
       "    </tr>\n",
       "  </tbody>\n",
       "</table>\n",
       "<p>5 rows × 74 columns</p>\n",
       "</div>"
      ],
      "text/plain": [
       "   tmdb_id                              mojo_title  \\\n",
       "0  19995.0                                  Avatar   \n",
       "1   8373.0     Transformers: Revenge of the Fallen   \n",
       "2    767.0  Harry Potter and the Half-Blood Prince   \n",
       "3  18239.0             The Twilight Saga: New Moon   \n",
       "4  14160.0                                      Up   \n",
       "\n",
       "                           original_title                      tagline  \\\n",
       "0                                  Avatar  Enter the World of Pandora.   \n",
       "1     Transformers: Revenge of the Fallen           Revenge is coming.   \n",
       "2  Harry Potter and the Half-Blood Prince        Dark Secrets Revealed   \n",
       "3             The Twilight Saga: New Moon     The Next Chapter Begins.   \n",
       "4                                      Up                          NaN   \n",
       "\n",
       "   collection_id       budget  Total_gross  comments_total_qty  sc_negative  \\\n",
       "0        87096.0  237000000.0    760507625                 0.0          0.0   \n",
       "1         8650.0  150000000.0    402111870                 0.0          0.0   \n",
       "2         1241.0  250000000.0    302089278                 0.0          0.0   \n",
       "3        33514.0   50000000.0    296623634                 0.0          0.0   \n",
       "4            NaN  175000000.0    293004164                 0.0          0.0   \n",
       "\n",
       "   sc_neutral  ...  num_sp_languages gdp_deflator unemployment_rate  \\\n",
       "0         0.0  ...                 2      0.76235            9.2542   \n",
       "1         0.0  ...                 2      0.76235            9.2542   \n",
       "2         0.0  ...                 1      0.76235            9.2542   \n",
       "3         0.0  ...                 2      0.76235            9.2542   \n",
       "4         0.0  ...                 1      0.76235            9.2542   \n",
       "\n",
       "  gdp_annual_rate  First_week_gross  adj_first_week_gross  boxoffice_level  \\\n",
       "0       -2.536757         137094001          1.798308e+08                1   \n",
       "1       -2.536757          91110948          1.195133e+08                1   \n",
       "2       -2.536757          80186627          1.051835e+08                1   \n",
       "3       -2.536757         188077665          2.467078e+08                1   \n",
       "4       -2.536757          93072435          1.220862e+08                1   \n",
       "\n",
       "   week_boxoffice_level boxoffice_level(4) week_boxoffice_level(4)  \n",
       "0                     1                  1                       1  \n",
       "1                     1                  1                       1  \n",
       "2                     1                  1                       1  \n",
       "3                     1                  1                       1  \n",
       "4                     1                  1                       1  \n",
       "\n",
       "[5 rows x 74 columns]"
      ]
     },
     "execution_count": 15,
     "metadata": {},
     "output_type": "execute_result"
    }
   ],
   "source": [
    "movies_df.head()"
   ]
  },
  {
   "cell_type": "markdown",
   "metadata": {},
   "source": [
    "## Preprocessing "
   ]
  },
  {
   "cell_type": "markdown",
   "metadata": {},
   "source": [
    "#### \"Total_gross\" 4分位差"
   ]
  },
  {
   "cell_type": "code",
   "execution_count": 16,
   "metadata": {},
   "outputs": [
    {
     "data": {
      "text/plain": [
       "count        0.629600\n",
       "mean      1813.126786\n",
       "std       5579.985394\n",
       "min          0.007200\n",
       "25%          2.972250\n",
       "50%         21.068850\n",
       "75%        530.860850\n",
       "max      93666.222500\n",
       "Name: Total_gross, dtype: float64"
      ]
     },
     "execution_count": 16,
     "metadata": {},
     "output_type": "execute_result"
    }
   ],
   "source": [
    "movies_df['Total_gross'].describe()/10000"
   ]
  },
  {
   "cell_type": "code",
   "execution_count": 17,
   "metadata": {},
   "outputs": [
    {
     "data": {
      "text/plain": [
       "count        0.629600\n",
       "mean       684.454441\n",
       "std       2364.175545\n",
       "min          0.001100\n",
       "25%          0.832375\n",
       "50%          4.426550\n",
       "75%         85.261600\n",
       "max      47389.463800\n",
       "Name: First_week_gross, dtype: float64"
      ]
     },
     "execution_count": 17,
     "metadata": {},
     "output_type": "execute_result"
    }
   ],
   "source": [
    "movies_df['First_week_gross'].describe()/10000"
   ]
  },
  {
   "cell_type": "code",
   "execution_count": 18,
   "metadata": {},
   "outputs": [
    {
     "data": {
      "text/plain": [
       "count        0.629600\n",
       "mean       472.716142\n",
       "std       1691.929375\n",
       "min          0.000527\n",
       "25%          0.526136\n",
       "50%          2.799249\n",
       "75%         55.939390\n",
       "max      36551.092040\n",
       "Name: adj_first_week_gross, dtype: float64"
      ]
     },
     "execution_count": 18,
     "metadata": {},
     "output_type": "execute_result"
    }
   ],
   "source": [
    "movies_df['adj_first_week_gross'].describe()/10000"
   ]
  },
  {
   "cell_type": "markdown",
   "metadata": {},
   "source": [
    "### 用首週票房金額分四類"
   ]
  },
  {
   "cell_type": "code",
   "execution_count": 19,
   "metadata": {},
   "outputs": [],
   "source": [
    "def get_gross_level4(value):\n",
    "    if value >= 40000000:\n",
    "        return 1\n",
    "    elif value >= 10000000 and value < 40000000:\n",
    "        return 2\n",
    "    elif value >= 1000000 and value < 10000000:\n",
    "        return 3\n",
    "    else:\n",
    "        return 4"
   ]
  },
  {
   "cell_type": "code",
   "execution_count": 21,
   "metadata": {},
   "outputs": [
    {
     "data": {
      "text/html": [
       "<div>\n",
       "<style scoped>\n",
       "    .dataframe tbody tr th:only-of-type {\n",
       "        vertical-align: middle;\n",
       "    }\n",
       "\n",
       "    .dataframe tbody tr th {\n",
       "        vertical-align: top;\n",
       "    }\n",
       "\n",
       "    .dataframe thead th {\n",
       "        text-align: right;\n",
       "    }\n",
       "</style>\n",
       "<table border=\"1\" class=\"dataframe\">\n",
       "  <thead>\n",
       "    <tr style=\"text-align: right;\">\n",
       "      <th></th>\n",
       "      <th>tmdb_id</th>\n",
       "      <th>mojo_title</th>\n",
       "      <th>original_title</th>\n",
       "      <th>tagline</th>\n",
       "      <th>collection_id</th>\n",
       "      <th>budget</th>\n",
       "      <th>Total_gross</th>\n",
       "      <th>comments_total_qty</th>\n",
       "      <th>sc_negative</th>\n",
       "      <th>sc_neutral</th>\n",
       "      <th>...</th>\n",
       "      <th>num_sp_languages</th>\n",
       "      <th>gdp_deflator</th>\n",
       "      <th>unemployment_rate</th>\n",
       "      <th>gdp_annual_rate</th>\n",
       "      <th>First_week_gross</th>\n",
       "      <th>adj_first_week_gross</th>\n",
       "      <th>boxoffice_level</th>\n",
       "      <th>week_boxoffice_level</th>\n",
       "      <th>boxoffice_level(4)</th>\n",
       "      <th>week_boxoffice_level(4)</th>\n",
       "    </tr>\n",
       "  </thead>\n",
       "  <tbody>\n",
       "    <tr>\n",
       "      <th>0</th>\n",
       "      <td>19995.0</td>\n",
       "      <td>Avatar</td>\n",
       "      <td>Avatar</td>\n",
       "      <td>Enter the World of Pandora.</td>\n",
       "      <td>87096.0</td>\n",
       "      <td>237000000.0</td>\n",
       "      <td>760507625</td>\n",
       "      <td>0.0</td>\n",
       "      <td>0.0</td>\n",
       "      <td>0.0</td>\n",
       "      <td>...</td>\n",
       "      <td>2</td>\n",
       "      <td>0.76235</td>\n",
       "      <td>9.2542</td>\n",
       "      <td>-2.536757</td>\n",
       "      <td>137094001</td>\n",
       "      <td>1.798308e+08</td>\n",
       "      <td>1</td>\n",
       "      <td>1</td>\n",
       "      <td>1</td>\n",
       "      <td>1</td>\n",
       "    </tr>\n",
       "    <tr>\n",
       "      <th>1</th>\n",
       "      <td>8373.0</td>\n",
       "      <td>Transformers: Revenge of the Fallen</td>\n",
       "      <td>Transformers: Revenge of the Fallen</td>\n",
       "      <td>Revenge is coming.</td>\n",
       "      <td>8650.0</td>\n",
       "      <td>150000000.0</td>\n",
       "      <td>402111870</td>\n",
       "      <td>0.0</td>\n",
       "      <td>0.0</td>\n",
       "      <td>0.0</td>\n",
       "      <td>...</td>\n",
       "      <td>2</td>\n",
       "      <td>0.76235</td>\n",
       "      <td>9.2542</td>\n",
       "      <td>-2.536757</td>\n",
       "      <td>91110948</td>\n",
       "      <td>1.195133e+08</td>\n",
       "      <td>1</td>\n",
       "      <td>1</td>\n",
       "      <td>1</td>\n",
       "      <td>1</td>\n",
       "    </tr>\n",
       "    <tr>\n",
       "      <th>2</th>\n",
       "      <td>767.0</td>\n",
       "      <td>Harry Potter and the Half-Blood Prince</td>\n",
       "      <td>Harry Potter and the Half-Blood Prince</td>\n",
       "      <td>Dark Secrets Revealed</td>\n",
       "      <td>1241.0</td>\n",
       "      <td>250000000.0</td>\n",
       "      <td>302089278</td>\n",
       "      <td>0.0</td>\n",
       "      <td>0.0</td>\n",
       "      <td>0.0</td>\n",
       "      <td>...</td>\n",
       "      <td>1</td>\n",
       "      <td>0.76235</td>\n",
       "      <td>9.2542</td>\n",
       "      <td>-2.536757</td>\n",
       "      <td>80186627</td>\n",
       "      <td>1.051835e+08</td>\n",
       "      <td>1</td>\n",
       "      <td>1</td>\n",
       "      <td>1</td>\n",
       "      <td>1</td>\n",
       "    </tr>\n",
       "    <tr>\n",
       "      <th>3</th>\n",
       "      <td>18239.0</td>\n",
       "      <td>The Twilight Saga: New Moon</td>\n",
       "      <td>The Twilight Saga: New Moon</td>\n",
       "      <td>The Next Chapter Begins.</td>\n",
       "      <td>33514.0</td>\n",
       "      <td>50000000.0</td>\n",
       "      <td>296623634</td>\n",
       "      <td>0.0</td>\n",
       "      <td>0.0</td>\n",
       "      <td>0.0</td>\n",
       "      <td>...</td>\n",
       "      <td>2</td>\n",
       "      <td>0.76235</td>\n",
       "      <td>9.2542</td>\n",
       "      <td>-2.536757</td>\n",
       "      <td>188077665</td>\n",
       "      <td>2.467078e+08</td>\n",
       "      <td>1</td>\n",
       "      <td>1</td>\n",
       "      <td>1</td>\n",
       "      <td>1</td>\n",
       "    </tr>\n",
       "    <tr>\n",
       "      <th>4</th>\n",
       "      <td>14160.0</td>\n",
       "      <td>Up</td>\n",
       "      <td>Up</td>\n",
       "      <td>NaN</td>\n",
       "      <td>NaN</td>\n",
       "      <td>175000000.0</td>\n",
       "      <td>293004164</td>\n",
       "      <td>0.0</td>\n",
       "      <td>0.0</td>\n",
       "      <td>0.0</td>\n",
       "      <td>...</td>\n",
       "      <td>1</td>\n",
       "      <td>0.76235</td>\n",
       "      <td>9.2542</td>\n",
       "      <td>-2.536757</td>\n",
       "      <td>93072435</td>\n",
       "      <td>1.220862e+08</td>\n",
       "      <td>1</td>\n",
       "      <td>1</td>\n",
       "      <td>1</td>\n",
       "      <td>1</td>\n",
       "    </tr>\n",
       "  </tbody>\n",
       "</table>\n",
       "<p>5 rows × 74 columns</p>\n",
       "</div>"
      ],
      "text/plain": [
       "   tmdb_id                              mojo_title  \\\n",
       "0  19995.0                                  Avatar   \n",
       "1   8373.0     Transformers: Revenge of the Fallen   \n",
       "2    767.0  Harry Potter and the Half-Blood Prince   \n",
       "3  18239.0             The Twilight Saga: New Moon   \n",
       "4  14160.0                                      Up   \n",
       "\n",
       "                           original_title                      tagline  \\\n",
       "0                                  Avatar  Enter the World of Pandora.   \n",
       "1     Transformers: Revenge of the Fallen           Revenge is coming.   \n",
       "2  Harry Potter and the Half-Blood Prince        Dark Secrets Revealed   \n",
       "3             The Twilight Saga: New Moon     The Next Chapter Begins.   \n",
       "4                                      Up                          NaN   \n",
       "\n",
       "   collection_id       budget  Total_gross  comments_total_qty  sc_negative  \\\n",
       "0        87096.0  237000000.0    760507625                 0.0          0.0   \n",
       "1         8650.0  150000000.0    402111870                 0.0          0.0   \n",
       "2         1241.0  250000000.0    302089278                 0.0          0.0   \n",
       "3        33514.0   50000000.0    296623634                 0.0          0.0   \n",
       "4            NaN  175000000.0    293004164                 0.0          0.0   \n",
       "\n",
       "   sc_neutral  ...  num_sp_languages gdp_deflator unemployment_rate  \\\n",
       "0         0.0  ...                 2      0.76235            9.2542   \n",
       "1         0.0  ...                 2      0.76235            9.2542   \n",
       "2         0.0  ...                 1      0.76235            9.2542   \n",
       "3         0.0  ...                 2      0.76235            9.2542   \n",
       "4         0.0  ...                 1      0.76235            9.2542   \n",
       "\n",
       "  gdp_annual_rate  First_week_gross  adj_first_week_gross  boxoffice_level  \\\n",
       "0       -2.536757         137094001          1.798308e+08                1   \n",
       "1       -2.536757          91110948          1.195133e+08                1   \n",
       "2       -2.536757          80186627          1.051835e+08                1   \n",
       "3       -2.536757         188077665          2.467078e+08                1   \n",
       "4       -2.536757          93072435          1.220862e+08                1   \n",
       "\n",
       "   week_boxoffice_level boxoffice_level(4) week_boxoffice_level(4)  \n",
       "0                     1                  1                       1  \n",
       "1                     1                  1                       1  \n",
       "2                     1                  1                       1  \n",
       "3                     1                  1                       1  \n",
       "4                     1                  1                       1  \n",
       "\n",
       "[5 rows x 74 columns]"
      ]
     },
     "execution_count": 21,
     "metadata": {},
     "output_type": "execute_result"
    }
   ],
   "source": [
    "movies_df.head()"
   ]
  },
  {
   "cell_type": "code",
   "execution_count": 22,
   "metadata": {},
   "outputs": [],
   "source": [
    "movies_df['week_boxoffice_level(4)'] = movies_df['First_week_gross'].apply(lambda x: get_gross_level4(x))"
   ]
  },
  {
   "cell_type": "code",
   "execution_count": 23,
   "metadata": {},
   "outputs": [
    {
     "name": "stdout",
     "output_type": "stream",
     "text": [
      "292\n",
      "674\n",
      "567\n",
      "4763\n"
     ]
    }
   ],
   "source": [
    "for i in set(movies_df['week_boxoffice_level(4)']):\n",
    "    print(movies_df[movies_df['week_boxoffice_level(4)'] == i]['tmdb_id'].count())"
   ]
  },
  {
   "cell_type": "code",
   "execution_count": 25,
   "metadata": {},
   "outputs": [],
   "source": [
    "movies_df.to_csv('movies_data_20191030_v3.csv', encoding='utf-8', index=False)"
   ]
  },
  {
   "cell_type": "code",
   "execution_count": 26,
   "metadata": {},
   "outputs": [
    {
     "name": "stdout",
     "output_type": "stream",
     "text": [
      "<class 'pandas.core.frame.DataFrame'>\n",
      "RangeIndex: 6296 entries, 0 to 6295\n",
      "Data columns (total 74 columns):\n",
      "tmdb_id                           6296 non-null float64\n",
      "mojo_title                        6296 non-null object\n",
      "original_title                    6296 non-null object\n",
      "tagline                           3619 non-null object\n",
      "collection_id                     668 non-null float64\n",
      "budget                            2401 non-null float64\n",
      "Total_gross                       6296 non-null int64\n",
      "comments_total_qty                6296 non-null float64\n",
      "sc_negative                       6296 non-null float64\n",
      "sc_neutral                        6296 non-null float64\n",
      "sc_positive                       6296 non-null float64\n",
      "total_sentiment_level             6296 non-null object\n",
      "holidayweek                       1019 non-null object\n",
      "Release_date                      6296 non-null object\n",
      "Release_year                      6296 non-null int64\n",
      "Release_month                     6296 non-null int64\n",
      "Release_weekday                   6296 non-null int64\n",
      "release_in_holidayweek            6296 non-null int64\n",
      "original_language                 6296 non-null object\n",
      "distributor                       6296 non-null object\n",
      "belongs_to_collection             6296 non-null int64\n",
      "homepage                          6296 non-null int64\n",
      "genres                            6296 non-null object\n",
      "Adventure                         6296 non-null int64\n",
      "Fantasy                           6296 non-null int64\n",
      "Animation                         6296 non-null int64\n",
      "Drama                             6296 non-null int64\n",
      "Horror                            6296 non-null int64\n",
      "Action                            6296 non-null int64\n",
      "Comedy                            6296 non-null int64\n",
      "History                           6296 non-null int64\n",
      "Thriller                          6296 non-null int64\n",
      "Crime                             6296 non-null int64\n",
      "Documentary                       6296 non-null int64\n",
      "Science Fiction                   6296 non-null int64\n",
      "Mystery                           6296 non-null int64\n",
      "Romance                           6296 non-null int64\n",
      "Family                            6296 non-null int64\n",
      "genre_others                      6296 non-null int64\n",
      "director_id                       6296 non-null object\n",
      "top3_cast                         6296 non-null object\n",
      "1st_cast                          6296 non-null object\n",
      "2nd_cast                          6296 non-null object\n",
      "3rd_cast                          6296 non-null object\n",
      "have_comments                     6296 non-null int64\n",
      "runtime                           6296 non-null float64\n",
      "num_of_genres                     6296 non-null int64\n",
      "num_cast                          6296 non-null int64\n",
      "num_director                      6296 non-null int64\n",
      "num_awardActor                    6296 non-null int64\n",
      "num_nomActor                      6296 non-null int64\n",
      "num_awardDir                      6296 non-null int64\n",
      "comments_qty_before_release       6296 non-null float64\n",
      "comments_pc_before_release        6296 non-null float64\n",
      "sc2_negative                      6296 non-null float64\n",
      "sc2_neutral                       6296 non-null float64\n",
      "sc2_positive                      6296 non-null float64\n",
      "sentiment_level_before_release    6296 non-null object\n",
      "sc2_negative_pc                   6296 non-null float64\n",
      "sc2_neutral_pc                    6296 non-null float64\n",
      "sc2_positive_pc                   6296 non-null float64\n",
      "comments_bf_1wk                   6296 non-null float64\n",
      "comments_bf_2wk                   6296 non-null float64\n",
      "comments_bf_4wk                   6296 non-null float64\n",
      "num_sp_languages                  6296 non-null int64\n",
      "gdp_deflator                      6296 non-null float64\n",
      "unemployment_rate                 6296 non-null float64\n",
      "gdp_annual_rate                   6296 non-null float64\n",
      "First_week_gross                  6296 non-null int64\n",
      "adj_first_week_gross              6296 non-null float64\n",
      "boxoffice_level                   6296 non-null int64\n",
      "week_boxoffice_level              6296 non-null int64\n",
      "boxoffice_level(4)                6296 non-null int64\n",
      "week_boxoffice_level(4)           6296 non-null int64\n",
      "dtypes: float64(23), int64(36), object(15)\n",
      "memory usage: 3.6+ MB\n"
     ]
    }
   ],
   "source": [
    "movies_df.info()"
   ]
  },
  {
   "cell_type": "markdown",
   "metadata": {},
   "source": [
    "###  類別標籤編碼"
   ]
  },
  {
   "cell_type": "code",
   "execution_count": 14,
   "metadata": {},
   "outputs": [],
   "source": [
    "from sklearn.preprocessing import LabelEncoder"
   ]
  },
  {
   "cell_type": "markdown",
   "metadata": {},
   "source": [
    "original_language"
   ]
  },
  {
   "cell_type": "code",
   "execution_count": 15,
   "metadata": {},
   "outputs": [
    {
     "data": {
      "text/plain": [
       "array([14, 14, 14, ..., 12, 14, 19])"
      ]
     },
     "execution_count": 15,
     "metadata": {},
     "output_type": "execute_result"
    }
   ],
   "source": [
    "le_lang = LabelEncoder()\n",
    "label_language = le_lang.fit_transform(movies_df['original_language'].values)\n",
    "label_language"
   ]
  },
  {
   "cell_type": "code",
   "execution_count": 16,
   "metadata": {},
   "outputs": [
    {
     "data": {
      "text/plain": [
       "array(['en', 'en', 'en', ..., 'de', 'en', 'fr'], dtype=object)"
      ]
     },
     "execution_count": 16,
     "metadata": {},
     "output_type": "execute_result"
    }
   ],
   "source": [
    "le_lang.inverse_transform(label_language)"
   ]
  },
  {
   "cell_type": "code",
   "execution_count": 17,
   "metadata": {},
   "outputs": [],
   "source": [
    "movies_df['original_language'] = label_language"
   ]
  },
  {
   "cell_type": "markdown",
   "metadata": {},
   "source": [
    "distributor"
   ]
  },
  {
   "cell_type": "code",
   "execution_count": 18,
   "metadata": {},
   "outputs": [
    {
     "data": {
      "text/plain": [
       "array([192, 364, 511, ..., 170, 116, 505])"
      ]
     },
     "execution_count": 18,
     "metadata": {},
     "output_type": "execute_result"
    }
   ],
   "source": [
    "le_dis = LabelEncoder()\n",
    "label_distributor = le_dis.fit_transform(movies_df['distributor'].values)\n",
    "label_distributor"
   ]
  },
  {
   "cell_type": "code",
   "execution_count": 19,
   "metadata": {},
   "outputs": [
    {
     "data": {
      "text/plain": [
       "array(['Fox', 'Paramount', 'Warner Bros.', ..., 'Film Movement',\n",
       "       'Cinema Libre Studio', 'Viva Pictures Distribution'], dtype=object)"
      ]
     },
     "execution_count": 19,
     "metadata": {},
     "output_type": "execute_result"
    }
   ],
   "source": [
    "le_dis.inverse_transform(label_distributor)"
   ]
  },
  {
   "cell_type": "code",
   "execution_count": 20,
   "metadata": {},
   "outputs": [],
   "source": [
    "movies_df['distributor'] = label_distributor"
   ]
  },
  {
   "cell_type": "markdown",
   "metadata": {},
   "source": [
    "genres"
   ]
  },
  {
   "cell_type": "code",
   "execution_count": 21,
   "metadata": {},
   "outputs": [
    {
     "data": {
      "text/plain": [
       "array([ 56, 159,   7, ..., 130, 638, 311])"
      ]
     },
     "execution_count": 21,
     "metadata": {},
     "output_type": "execute_result"
    }
   ],
   "source": [
    "le_gen = LabelEncoder()\n",
    "label_genres = le_gen.fit_transform(movies_df['genres'].values)\n",
    "label_genres"
   ]
  },
  {
   "cell_type": "code",
   "execution_count": 22,
   "metadata": {},
   "outputs": [
    {
     "data": {
      "text/plain": [
       "array(['[12, 14, 28, 878]', '[12, 28, 878]', '[12, 14, 10751]', ...,\n",
       "       '[12, 18]', '[99]', '[16, 35]'], dtype=object)"
      ]
     },
     "execution_count": 22,
     "metadata": {},
     "output_type": "execute_result"
    }
   ],
   "source": [
    "le_gen.inverse_transform(label_genres)"
   ]
  },
  {
   "cell_type": "code",
   "execution_count": 23,
   "metadata": {},
   "outputs": [],
   "source": [
    "movies_df['genres'] = label_genres"
   ]
  },
  {
   "cell_type": "markdown",
   "metadata": {},
   "source": [
    "top3_cast"
   ]
  },
  {
   "cell_type": "code",
   "execution_count": 24,
   "metadata": {},
   "outputs": [
    {
     "data": {
      "text/plain": [
       "array([4763,  332,  342, ..., 2081, 5902,  632])"
      ]
     },
     "execution_count": 24,
     "metadata": {},
     "output_type": "execute_result"
    }
   ],
   "source": [
    "le_cast_pkg = LabelEncoder()\n",
    "label_top3_cast = le_cast_pkg.fit_transform(movies_df['top3_cast'].values)\n",
    "label_top3_cast"
   ]
  },
  {
   "cell_type": "code",
   "execution_count": 25,
   "metadata": {},
   "outputs": [
    {
     "data": {
      "text/plain": [
       "array(['[65731, 8691, 32747]', '[10959, 19537, 19536]',\n",
       "       '[10980, 10989, 10990]', ..., '[17373, 49204, 1846]', 'unknown',\n",
       "       '[1165008, 118178, 37181]'], dtype=object)"
      ]
     },
     "execution_count": 25,
     "metadata": {},
     "output_type": "execute_result"
    }
   ],
   "source": [
    "le_cast_pkg.inverse_transform(label_top3_cast)"
   ]
  },
  {
   "cell_type": "code",
   "execution_count": 26,
   "metadata": {},
   "outputs": [],
   "source": [
    "movies_df['top3_cast'] = label_top3_cast"
   ]
  },
  {
   "cell_type": "markdown",
   "metadata": {},
   "source": [
    "cast"
   ]
  },
  {
   "cell_type": "code",
   "execution_count": 27,
   "metadata": {},
   "outputs": [
    {
     "data": {
      "text/plain": [
       "array([3003,  250,  254, ..., 1530, 3671,  442])"
      ]
     },
     "execution_count": 27,
     "metadata": {},
     "output_type": "execute_result"
    }
   ],
   "source": [
    "le_cast = LabelEncoder()\n",
    "label_1st_cast = le_cast.fit_transform(movies_df['1st_cast'].values)\n",
    "label_1st_cast"
   ]
  },
  {
   "cell_type": "code",
   "execution_count": 28,
   "metadata": {},
   "outputs": [
    {
     "data": {
      "text/plain": [
       "array([3769, 1872,  252, ..., 2785, 4066,  532])"
      ]
     },
     "execution_count": 28,
     "metadata": {},
     "output_type": "execute_result"
    }
   ],
   "source": [
    "label_2nd_cast = le_cast.fit_transform(movies_df['2nd_cast'].values)\n",
    "label_2nd_cast"
   ]
  },
  {
   "cell_type": "code",
   "execution_count": 29,
   "metadata": {},
   "outputs": [
    {
     "data": {
      "text/plain": [
       "array([2676, 2001,  270, ..., 1881, 4316, 2771])"
      ]
     },
     "execution_count": 29,
     "metadata": {},
     "output_type": "execute_result"
    }
   ],
   "source": [
    "label_3rd_cast = le_cast.fit_transform(movies_df['3rd_cast'].values)\n",
    "label_3rd_cast"
   ]
  },
  {
   "cell_type": "code",
   "execution_count": 30,
   "metadata": {},
   "outputs": [],
   "source": [
    "movies_df['1st_cast'] = label_1st_cast\n",
    "movies_df['2nd_cast'] = label_2nd_cast\n",
    "movies_df['3rd_cast'] = label_3rd_cast"
   ]
  },
  {
   "cell_type": "markdown",
   "metadata": {},
   "source": [
    "director"
   ]
  },
  {
   "cell_type": "code",
   "execution_count": 31,
   "metadata": {},
   "outputs": [
    {
     "data": {
      "text/plain": [
       "array([2762, 4023,  545, ..., 3085, 3702, 2108])"
      ]
     },
     "execution_count": 31,
     "metadata": {},
     "output_type": "execute_result"
    }
   ],
   "source": [
    "le_drt = LabelEncoder()\n",
    "label_director = le_drt.fit_transform(movies_df['director_id'].values)\n",
    "label_director"
   ]
  },
  {
   "cell_type": "code",
   "execution_count": 32,
   "metadata": {},
   "outputs": [],
   "source": [
    "movies_df['director_id'] = label_director"
   ]
  },
  {
   "cell_type": "markdown",
   "metadata": {},
   "source": [
    "sentiment_level"
   ]
  },
  {
   "cell_type": "code",
   "execution_count": 33,
   "metadata": {},
   "outputs": [
    {
     "data": {
      "text/plain": [
       "array([3, 3, 3, ..., 0, 3, 3])"
      ]
     },
     "execution_count": 33,
     "metadata": {},
     "output_type": "execute_result"
    }
   ],
   "source": [
    "le_sen = LabelEncoder()\n",
    "label_bf_release = le_sen.fit_transform(movies_df['sentiment_level_before_release'].values)\n",
    "label_bf_release"
   ]
  },
  {
   "cell_type": "code",
   "execution_count": 34,
   "metadata": {},
   "outputs": [],
   "source": [
    "movies_df['sentiment_level_before_release'] = label_bf_release"
   ]
  },
  {
   "cell_type": "code",
   "execution_count": 35,
   "metadata": {},
   "outputs": [
    {
     "data": {
      "text/plain": [
       "array(['unknown', 'unknown', 'unknown', ..., 'negative', 'unknown',\n",
       "       'unknown'], dtype=object)"
      ]
     },
     "execution_count": 35,
     "metadata": {},
     "output_type": "execute_result"
    }
   ],
   "source": [
    "le_sen.inverse_transform(label_bf_release)"
   ]
  },
  {
   "cell_type": "markdown",
   "metadata": {},
   "source": [
    "### Change datatype"
   ]
  },
  {
   "cell_type": "code",
   "execution_count": 36,
   "metadata": {},
   "outputs": [],
   "source": [
    "movies_df['Release_date'] = movies_df['Release_date'].astype('datetime64')"
   ]
  },
  {
   "cell_type": "code",
   "execution_count": 37,
   "metadata": {},
   "outputs": [],
   "source": [
    "movies_df['release_in_holidayweek'] = movies_df['release_in_holidayweek'].astype('int32')\n",
    "movies_df['homepage'] = movies_df['homepage'].astype('int32')\n",
    "movies_df['have_comments'] = movies_df['have_comments'].astype('int32')"
   ]
  },
  {
   "cell_type": "code",
   "execution_count": 38,
   "metadata": {
    "scrolled": false
   },
   "outputs": [
    {
     "name": "stdout",
     "output_type": "stream",
     "text": [
      "<class 'pandas.core.frame.DataFrame'>\n",
      "RangeIndex: 6296 entries, 0 to 6295\n",
      "Data columns (total 74 columns):\n",
      "tmdb_id                           6296 non-null float64\n",
      "mojo_title                        6296 non-null object\n",
      "original_title                    6296 non-null object\n",
      "tagline                           3619 non-null object\n",
      "collection_id                     668 non-null float64\n",
      "budget                            2401 non-null float64\n",
      "Total_gross                       6296 non-null int64\n",
      "comments_total_qty                6296 non-null float64\n",
      "sc_negative                       6296 non-null float64\n",
      "sc_neutral                        6296 non-null float64\n",
      "sc_positive                       6296 non-null float64\n",
      "total_sentiment_level             6296 non-null object\n",
      "holidayweek                       1019 non-null object\n",
      "Release_date                      6296 non-null datetime64[ns]\n",
      "Release_year                      6296 non-null int64\n",
      "Release_month                     6296 non-null int64\n",
      "Release_weekday                   6296 non-null int64\n",
      "release_in_holidayweek            6296 non-null int32\n",
      "original_language                 6296 non-null int32\n",
      "distributor                       6296 non-null int32\n",
      "belongs_to_collection             6296 non-null int64\n",
      "homepage                          6296 non-null int32\n",
      "genres                            6296 non-null int32\n",
      "Adventure                         6296 non-null int64\n",
      "Fantasy                           6296 non-null int64\n",
      "Animation                         6296 non-null int64\n",
      "Drama                             6296 non-null int64\n",
      "Horror                            6296 non-null int64\n",
      "Action                            6296 non-null int64\n",
      "Comedy                            6296 non-null int64\n",
      "History                           6296 non-null int64\n",
      "Thriller                          6296 non-null int64\n",
      "Crime                             6296 non-null int64\n",
      "Documentary                       6296 non-null int64\n",
      "Science Fiction                   6296 non-null int64\n",
      "Mystery                           6296 non-null int64\n",
      "Romance                           6296 non-null int64\n",
      "Family                            6296 non-null int64\n",
      "genre_others                      6296 non-null int64\n",
      "director_id                       6296 non-null int32\n",
      "top3_cast                         6296 non-null int32\n",
      "1st_cast                          6296 non-null int32\n",
      "2nd_cast                          6296 non-null int32\n",
      "3rd_cast                          6296 non-null int32\n",
      "have_comments                     6296 non-null int32\n",
      "runtime                           6296 non-null float64\n",
      "num_of_genres                     6296 non-null int64\n",
      "num_cast                          6296 non-null int64\n",
      "num_director                      6296 non-null int64\n",
      "num_awardActor                    6296 non-null int64\n",
      "num_nomActor                      6296 non-null int64\n",
      "num_awardDir                      6296 non-null int64\n",
      "comments_qty_before_release       6296 non-null float64\n",
      "comments_pc_before_release        6296 non-null float64\n",
      "sc2_negative                      6296 non-null float64\n",
      "sc2_neutral                       6296 non-null float64\n",
      "sc2_positive                      6296 non-null float64\n",
      "sentiment_level_before_release    6296 non-null int32\n",
      "sc2_negative_pc                   6296 non-null float64\n",
      "sc2_neutral_pc                    6296 non-null float64\n",
      "sc2_positive_pc                   6296 non-null float64\n",
      "comments_bf_1wk                   6296 non-null float64\n",
      "comments_bf_2wk                   6296 non-null float64\n",
      "comments_bf_4wk                   6296 non-null float64\n",
      "num_sp_languages                  6296 non-null int64\n",
      "gdp_deflator                      6296 non-null float64\n",
      "unemployment_rate                 6296 non-null float64\n",
      "gdp_annual_rate                   6296 non-null float64\n",
      "First_week_gross                  6296 non-null int64\n",
      "adj_first_week_gross              6296 non-null float64\n",
      "boxoffice_level                   6296 non-null int64\n",
      "week_boxoffice_level              6296 non-null int64\n",
      "boxoffice_level(4)                6296 non-null int64\n",
      "week_boxoffice_level(4)           6296 non-null int64\n",
      "dtypes: datetime64[ns](1), float64(23), int32(12), int64(33), object(5)\n",
      "memory usage: 3.3+ MB\n"
     ]
    }
   ],
   "source": [
    "movies_df.info()"
   ]
  },
  {
   "cell_type": "markdown",
   "metadata": {},
   "source": [
    "## Tree models"
   ]
  },
  {
   "cell_type": "markdown",
   "metadata": {},
   "source": [
    "### drop模型不會使用的欄位"
   ]
  },
  {
   "cell_type": "code",
   "execution_count": 39,
   "metadata": {},
   "outputs": [],
   "source": [
    "movies_df = movies_df.iloc[:,13:]"
   ]
  },
  {
   "cell_type": "code",
   "execution_count": 40,
   "metadata": {},
   "outputs": [
    {
     "name": "stdout",
     "output_type": "stream",
     "text": [
      "<class 'pandas.core.frame.DataFrame'>\n",
      "RangeIndex: 6296 entries, 0 to 6295\n",
      "Data columns (total 61 columns):\n",
      "Release_date                      6296 non-null datetime64[ns]\n",
      "Release_year                      6296 non-null int64\n",
      "Release_month                     6296 non-null int64\n",
      "Release_weekday                   6296 non-null int64\n",
      "release_in_holidayweek            6296 non-null int32\n",
      "original_language                 6296 non-null int32\n",
      "distributor                       6296 non-null int32\n",
      "belongs_to_collection             6296 non-null int64\n",
      "homepage                          6296 non-null int32\n",
      "genres                            6296 non-null int32\n",
      "Adventure                         6296 non-null int64\n",
      "Fantasy                           6296 non-null int64\n",
      "Animation                         6296 non-null int64\n",
      "Drama                             6296 non-null int64\n",
      "Horror                            6296 non-null int64\n",
      "Action                            6296 non-null int64\n",
      "Comedy                            6296 non-null int64\n",
      "History                           6296 non-null int64\n",
      "Thriller                          6296 non-null int64\n",
      "Crime                             6296 non-null int64\n",
      "Documentary                       6296 non-null int64\n",
      "Science Fiction                   6296 non-null int64\n",
      "Mystery                           6296 non-null int64\n",
      "Romance                           6296 non-null int64\n",
      "Family                            6296 non-null int64\n",
      "genre_others                      6296 non-null int64\n",
      "director_id                       6296 non-null int32\n",
      "top3_cast                         6296 non-null int32\n",
      "1st_cast                          6296 non-null int32\n",
      "2nd_cast                          6296 non-null int32\n",
      "3rd_cast                          6296 non-null int32\n",
      "have_comments                     6296 non-null int32\n",
      "runtime                           6296 non-null float64\n",
      "num_of_genres                     6296 non-null int64\n",
      "num_cast                          6296 non-null int64\n",
      "num_director                      6296 non-null int64\n",
      "num_awardActor                    6296 non-null int64\n",
      "num_nomActor                      6296 non-null int64\n",
      "num_awardDir                      6296 non-null int64\n",
      "comments_qty_before_release       6296 non-null float64\n",
      "comments_pc_before_release        6296 non-null float64\n",
      "sc2_negative                      6296 non-null float64\n",
      "sc2_neutral                       6296 non-null float64\n",
      "sc2_positive                      6296 non-null float64\n",
      "sentiment_level_before_release    6296 non-null int32\n",
      "sc2_negative_pc                   6296 non-null float64\n",
      "sc2_neutral_pc                    6296 non-null float64\n",
      "sc2_positive_pc                   6296 non-null float64\n",
      "comments_bf_1wk                   6296 non-null float64\n",
      "comments_bf_2wk                   6296 non-null float64\n",
      "comments_bf_4wk                   6296 non-null float64\n",
      "num_sp_languages                  6296 non-null int64\n",
      "gdp_deflator                      6296 non-null float64\n",
      "unemployment_rate                 6296 non-null float64\n",
      "gdp_annual_rate                   6296 non-null float64\n",
      "First_week_gross                  6296 non-null int64\n",
      "adj_first_week_gross              6296 non-null float64\n",
      "boxoffice_level                   6296 non-null int64\n",
      "week_boxoffice_level              6296 non-null int64\n",
      "boxoffice_level(4)                6296 non-null int64\n",
      "week_boxoffice_level(4)           6296 non-null int64\n",
      "dtypes: datetime64[ns](1), float64(16), int32(12), int64(32)\n",
      "memory usage: 2.6 MB\n"
     ]
    }
   ],
   "source": [
    "movies_df.info()"
   ]
  },
  {
   "cell_type": "markdown",
   "metadata": {},
   "source": [
    "### 測試分類不同的預測結果：boxoffice_level, week_boxoffice_level, boxoffice_level(4)"
   ]
  },
  {
   "cell_type": "markdown",
   "metadata": {},
   "source": [
    "#### 特徵全丟"
   ]
  },
  {
   "cell_type": "markdown",
   "metadata": {},
   "source": [
    "預測total_gross的類別：\n",
    "* best f1_score: 0.50\n",
    "* each categories: 0.66, 0.70, 0.39, 0.48, 0.22, 0.55\n",
    "* param setting: {'booster': 'gbtree',\n",
    " 'silent': 1,\n",
    " 'eta': 0.1,\n",
    " 'gamma': 0,\n",
    " 'max_depth': 6,\n",
    " 'min_child_weight': 1,\n",
    " 'max_delta_step': 0,\n",
    " 'subsample': 1,\n",
    " 'lambda': 2.5,\n",
    " 'alpha': 5,\n",
    " 'tree_method': 'auto',\n",
    " 'objective': 'multi:softmax',\n",
    " 'num_class': 6}"
   ]
  },
  {
   "cell_type": "markdown",
   "metadata": {},
   "source": [
    "預測First_week_gross的類別：\n",
    "* best f1_score: 0.54\n",
    "* each categories: 0.80, 0.34, 0.49, 0.06, 0.42, 0.64\n",
    "* param setting: {'booster': 'gbtree',\n",
    " 'silent': 1,\n",
    " 'eta': 0.1,\n",
    " 'gamma': 0,\n",
    " 'max_depth': 6,\n",
    " 'min_child_weight': 1,\n",
    " 'max_delta_step': 0,\n",
    " 'subsample': 1,\n",
    " 'lambda': 0,\n",
    " 'alpha': 1,\n",
    " 'tree_method': 'auto',\n",
    " 'objective': 'multi:softmax',\n",
    " 'num_class': 6}"
   ]
  },
  {
   "cell_type": "markdown",
   "metadata": {},
   "source": [
    "預測total_gross(4)的類別：\n",
    "* best f1_score: 0.81\n",
    "* each categories: 0.66, 0.70, 0.39, 0.92\n",
    "* param setting: {'booster': 'gbtree',\n",
    " 'silent': 1,\n",
    " 'eta': 0.1,\n",
    " 'gamma': 0,\n",
    " 'max_depth': 6,\n",
    " 'min_child_weight': 1,\n",
    " 'max_delta_step': 0,\n",
    " 'subsample': 1,\n",
    " 'lambda': 2,\n",
    " 'alpha': 0,\n",
    " 'tree_method': 'auto',\n",
    " 'objective': 'multi:softmax',\n",
    " 'num_class': 6}"
   ]
  },
  {
   "cell_type": "code",
   "execution_count": 41,
   "metadata": {},
   "outputs": [],
   "source": [
    "X = movies_df.iloc[:,1:-6]"
   ]
  },
  {
   "cell_type": "code",
   "execution_count": 42,
   "metadata": {},
   "outputs": [
    {
     "data": {
      "text/html": [
       "<div>\n",
       "<style scoped>\n",
       "    .dataframe tbody tr th:only-of-type {\n",
       "        vertical-align: middle;\n",
       "    }\n",
       "\n",
       "    .dataframe tbody tr th {\n",
       "        vertical-align: top;\n",
       "    }\n",
       "\n",
       "    .dataframe thead th {\n",
       "        text-align: right;\n",
       "    }\n",
       "</style>\n",
       "<table border=\"1\" class=\"dataframe\">\n",
       "  <thead>\n",
       "    <tr style=\"text-align: right;\">\n",
       "      <th></th>\n",
       "      <th>Release_year</th>\n",
       "      <th>Release_month</th>\n",
       "      <th>Release_weekday</th>\n",
       "      <th>release_in_holidayweek</th>\n",
       "      <th>original_language</th>\n",
       "      <th>distributor</th>\n",
       "      <th>belongs_to_collection</th>\n",
       "      <th>homepage</th>\n",
       "      <th>genres</th>\n",
       "      <th>Adventure</th>\n",
       "      <th>...</th>\n",
       "      <th>sc2_negative_pc</th>\n",
       "      <th>sc2_neutral_pc</th>\n",
       "      <th>sc2_positive_pc</th>\n",
       "      <th>comments_bf_1wk</th>\n",
       "      <th>comments_bf_2wk</th>\n",
       "      <th>comments_bf_4wk</th>\n",
       "      <th>num_sp_languages</th>\n",
       "      <th>gdp_deflator</th>\n",
       "      <th>unemployment_rate</th>\n",
       "      <th>gdp_annual_rate</th>\n",
       "    </tr>\n",
       "  </thead>\n",
       "  <tbody>\n",
       "    <tr>\n",
       "      <th>0</th>\n",
       "      <td>2009</td>\n",
       "      <td>12</td>\n",
       "      <td>4</td>\n",
       "      <td>0</td>\n",
       "      <td>14</td>\n",
       "      <td>192</td>\n",
       "      <td>1</td>\n",
       "      <td>1</td>\n",
       "      <td>56</td>\n",
       "      <td>1</td>\n",
       "      <td>...</td>\n",
       "      <td>0.0</td>\n",
       "      <td>0.0</td>\n",
       "      <td>0.0</td>\n",
       "      <td>0.0</td>\n",
       "      <td>0.0</td>\n",
       "      <td>0.0</td>\n",
       "      <td>2</td>\n",
       "      <td>0.76235</td>\n",
       "      <td>9.2542</td>\n",
       "      <td>-2.536757</td>\n",
       "    </tr>\n",
       "    <tr>\n",
       "      <th>1</th>\n",
       "      <td>2009</td>\n",
       "      <td>6</td>\n",
       "      <td>2</td>\n",
       "      <td>0</td>\n",
       "      <td>14</td>\n",
       "      <td>364</td>\n",
       "      <td>1</td>\n",
       "      <td>0</td>\n",
       "      <td>159</td>\n",
       "      <td>1</td>\n",
       "      <td>...</td>\n",
       "      <td>0.0</td>\n",
       "      <td>0.0</td>\n",
       "      <td>0.0</td>\n",
       "      <td>0.0</td>\n",
       "      <td>0.0</td>\n",
       "      <td>0.0</td>\n",
       "      <td>2</td>\n",
       "      <td>0.76235</td>\n",
       "      <td>9.2542</td>\n",
       "      <td>-2.536757</td>\n",
       "    </tr>\n",
       "    <tr>\n",
       "      <th>2</th>\n",
       "      <td>2009</td>\n",
       "      <td>7</td>\n",
       "      <td>2</td>\n",
       "      <td>0</td>\n",
       "      <td>14</td>\n",
       "      <td>511</td>\n",
       "      <td>1</td>\n",
       "      <td>1</td>\n",
       "      <td>7</td>\n",
       "      <td>1</td>\n",
       "      <td>...</td>\n",
       "      <td>0.0</td>\n",
       "      <td>0.0</td>\n",
       "      <td>0.0</td>\n",
       "      <td>0.0</td>\n",
       "      <td>0.0</td>\n",
       "      <td>0.0</td>\n",
       "      <td>1</td>\n",
       "      <td>0.76235</td>\n",
       "      <td>9.2542</td>\n",
       "      <td>-2.536757</td>\n",
       "    </tr>\n",
       "    <tr>\n",
       "      <th>3</th>\n",
       "      <td>2009</td>\n",
       "      <td>11</td>\n",
       "      <td>4</td>\n",
       "      <td>0</td>\n",
       "      <td>14</td>\n",
       "      <td>456</td>\n",
       "      <td>1</td>\n",
       "      <td>0</td>\n",
       "      <td>30</td>\n",
       "      <td>1</td>\n",
       "      <td>...</td>\n",
       "      <td>0.0</td>\n",
       "      <td>0.0</td>\n",
       "      <td>0.0</td>\n",
       "      <td>0.0</td>\n",
       "      <td>0.0</td>\n",
       "      <td>0.0</td>\n",
       "      <td>2</td>\n",
       "      <td>0.76235</td>\n",
       "      <td>9.2542</td>\n",
       "      <td>-2.536757</td>\n",
       "    </tr>\n",
       "    <tr>\n",
       "      <th>4</th>\n",
       "      <td>2009</td>\n",
       "      <td>5</td>\n",
       "      <td>4</td>\n",
       "      <td>1</td>\n",
       "      <td>14</td>\n",
       "      <td>90</td>\n",
       "      <td>0</td>\n",
       "      <td>1</td>\n",
       "      <td>84</td>\n",
       "      <td>1</td>\n",
       "      <td>...</td>\n",
       "      <td>0.0</td>\n",
       "      <td>0.0</td>\n",
       "      <td>0.0</td>\n",
       "      <td>0.0</td>\n",
       "      <td>0.0</td>\n",
       "      <td>0.0</td>\n",
       "      <td>1</td>\n",
       "      <td>0.76235</td>\n",
       "      <td>9.2542</td>\n",
       "      <td>-2.536757</td>\n",
       "    </tr>\n",
       "  </tbody>\n",
       "</table>\n",
       "<p>5 rows × 54 columns</p>\n",
       "</div>"
      ],
      "text/plain": [
       "   Release_year  Release_month  Release_weekday  release_in_holidayweek  \\\n",
       "0          2009             12                4                       0   \n",
       "1          2009              6                2                       0   \n",
       "2          2009              7                2                       0   \n",
       "3          2009             11                4                       0   \n",
       "4          2009              5                4                       1   \n",
       "\n",
       "   original_language  distributor  belongs_to_collection  homepage  genres  \\\n",
       "0                 14          192                      1         1      56   \n",
       "1                 14          364                      1         0     159   \n",
       "2                 14          511                      1         1       7   \n",
       "3                 14          456                      1         0      30   \n",
       "4                 14           90                      0         1      84   \n",
       "\n",
       "   Adventure  ...  sc2_negative_pc  sc2_neutral_pc  sc2_positive_pc  \\\n",
       "0          1  ...              0.0             0.0              0.0   \n",
       "1          1  ...              0.0             0.0              0.0   \n",
       "2          1  ...              0.0             0.0              0.0   \n",
       "3          1  ...              0.0             0.0              0.0   \n",
       "4          1  ...              0.0             0.0              0.0   \n",
       "\n",
       "   comments_bf_1wk  comments_bf_2wk  comments_bf_4wk  num_sp_languages  \\\n",
       "0              0.0              0.0              0.0                 2   \n",
       "1              0.0              0.0              0.0                 2   \n",
       "2              0.0              0.0              0.0                 1   \n",
       "3              0.0              0.0              0.0                 2   \n",
       "4              0.0              0.0              0.0                 1   \n",
       "\n",
       "   gdp_deflator  unemployment_rate  gdp_annual_rate  \n",
       "0       0.76235             9.2542        -2.536757  \n",
       "1       0.76235             9.2542        -2.536757  \n",
       "2       0.76235             9.2542        -2.536757  \n",
       "3       0.76235             9.2542        -2.536757  \n",
       "4       0.76235             9.2542        -2.536757  \n",
       "\n",
       "[5 rows x 54 columns]"
      ]
     },
     "execution_count": 42,
     "metadata": {},
     "output_type": "execute_result"
    }
   ],
   "source": [
    "X.head()"
   ]
  },
  {
   "cell_type": "code",
   "execution_count": 43,
   "metadata": {},
   "outputs": [],
   "source": [
    "y = movies_df['boxoffice_level(4)'].values"
   ]
  },
  {
   "cell_type": "code",
   "execution_count": 46,
   "metadata": {},
   "outputs": [],
   "source": [
    "y = movies_df['week_boxoffice_level(4)'].values"
   ]
  },
  {
   "cell_type": "code",
   "execution_count": 47,
   "metadata": {},
   "outputs": [
    {
     "data": {
      "text/plain": [
       "array([1, 1, 1, ..., 4, 4, 4], dtype=int64)"
      ]
     },
     "execution_count": 47,
     "metadata": {},
     "output_type": "execute_result"
    }
   ],
   "source": [
    "y"
   ]
  },
  {
   "cell_type": "code",
   "execution_count": 48,
   "metadata": {},
   "outputs": [
    {
     "data": {
      "text/plain": [
       "{1, 2, 3, 4}"
      ]
     },
     "execution_count": 48,
     "metadata": {},
     "output_type": "execute_result"
    }
   ],
   "source": [
    "set(y)"
   ]
  },
  {
   "cell_type": "markdown",
   "metadata": {
    "heading_collapsed": true
   },
   "source": [
    "#### 去掉dummy variances"
   ]
  },
  {
   "cell_type": "markdown",
   "metadata": {
    "hidden": true
   },
   "source": [
    "預測total_gross的類別：\n",
    "* best f1_score: 0.48\n",
    "* each categories: 0.71, 0.69. 0.29, 0.45, 0.25, 0.52\n",
    "* param setting:{'booster': 'gbtree',\n",
    " 'silent': 1,\n",
    " 'eta': 0.1,\n",
    " 'gamma': 0,\n",
    " 'max_depth': 6,\n",
    " 'min_child_weight': 1,\n",
    " 'max_delta_step': 0,\n",
    " 'subsample': 1,\n",
    " 'lambda': 2,\n",
    " 'alpha': 10,\n",
    " 'tree_method': 'auto',\n",
    " 'objective': 'multi:softmax',\n",
    " 'num_class': 6}"
   ]
  },
  {
   "cell_type": "markdown",
   "metadata": {
    "hidden": true
   },
   "source": [
    "預測First_week_gross的類別：\n",
    "* best f1_score: 0.52\n",
    "* each categories:0.77, 0.37, 0.46, 0.04, 0.46, 0.64\n",
    "* param setting:{'booster': 'gbtree',\n",
    " 'silent': 1,\n",
    " 'eta': 0.1,\n",
    " 'gamma': 0,\n",
    " 'max_depth': 6,\n",
    " 'min_child_weight': 1,\n",
    " 'max_delta_step': 0,\n",
    " 'subsample': 1,\n",
    " 'lambda': 10,\n",
    " 'alpha': 0,\n",
    " 'tree_method': 'auto',\n",
    " 'objective': 'multi:softmax',\n",
    " 'num_class': 6}"
   ]
  },
  {
   "cell_type": "markdown",
   "metadata": {
    "hidden": true
   },
   "source": [
    "預測total_gross(4)的類別：\n",
    "* best f1_score: 0.82\n",
    "* each categories: 0.73, 0.72, 0.41, 0.93\n",
    "* param setting:{'booster': 'gbtree',\n",
    " 'silent': 1,\n",
    " 'eta': 0.1,\n",
    " 'gamma': 0,\n",
    " 'max_depth': 6,\n",
    " 'min_child_weight': 1,\n",
    " 'max_delta_step': 0,\n",
    " 'subsample': 1,\n",
    " 'lambda': 2.5,\n",
    " 'alpha': 0,\n",
    " 'tree_method': 'auto',\n",
    " 'objective': 'multi:softmax',\n",
    " 'num_class': 6}"
   ]
  },
  {
   "cell_type": "code",
   "execution_count": null,
   "metadata": {
    "hidden": true
   },
   "outputs": [],
   "source": [
    "X = movies_df.iloc[:,1:-5]"
   ]
  },
  {
   "cell_type": "code",
   "execution_count": null,
   "metadata": {
    "hidden": true
   },
   "outputs": [],
   "source": [
    "X.drop(columns=['Adventure','Fantasy','Animation','Drama','Horror','Action','Comedy','History',\n",
    "                'Thriller','Crime','Documentary','Science Fiction','Mystery','Romance','Family','genre_others'],\n",
    "       inplace=True)"
   ]
  },
  {
   "cell_type": "code",
   "execution_count": null,
   "metadata": {
    "hidden": true
   },
   "outputs": [],
   "source": [
    "X.head()"
   ]
  },
  {
   "cell_type": "code",
   "execution_count": null,
   "metadata": {
    "hidden": true
   },
   "outputs": [],
   "source": [
    "y = movies_df['boxoffice_level(4)'].values\n",
    "set(y)"
   ]
  },
  {
   "cell_type": "markdown",
   "metadata": {},
   "source": [
    "#### 分測試與訓練集"
   ]
  },
  {
   "cell_type": "code",
   "execution_count": 52,
   "metadata": {},
   "outputs": [],
   "source": [
    "from sklearn.model_selection import train_test_split"
   ]
  },
  {
   "cell_type": "code",
   "execution_count": 53,
   "metadata": {},
   "outputs": [],
   "source": [
    "X_train, X_test, y_train, y_test = train_test_split(X, y, test_size=0.2, stratify=y)"
   ]
  },
  {
   "cell_type": "code",
   "execution_count": 54,
   "metadata": {},
   "outputs": [
    {
     "data": {
      "text/plain": [
       "((5036, 54), (5036,))"
      ]
     },
     "execution_count": 54,
     "metadata": {},
     "output_type": "execute_result"
    }
   ],
   "source": [
    "X_train.shape, y_train.shape"
   ]
  },
  {
   "cell_type": "code",
   "execution_count": 55,
   "metadata": {
    "scrolled": true
   },
   "outputs": [
    {
     "data": {
      "text/plain": [
       "((1260, 54), (1260,))"
      ]
     },
     "execution_count": 55,
     "metadata": {},
     "output_type": "execute_result"
    }
   ],
   "source": [
    "X_test.shape, y_test.shape"
   ]
  },
  {
   "cell_type": "code",
   "execution_count": 56,
   "metadata": {},
   "outputs": [
    {
     "data": {
      "text/plain": [
       "(array([4, 4, 3, ..., 4, 4, 4], dtype=int64),\n",
       " array([4, 4, 1, ..., 4, 4, 4], dtype=int64))"
      ]
     },
     "execution_count": 56,
     "metadata": {},
     "output_type": "execute_result"
    }
   ],
   "source": [
    "y_train, y_test"
   ]
  },
  {
   "cell_type": "markdown",
   "metadata": {},
   "source": [
    "### Random Forest"
   ]
  },
  {
   "cell_type": "code",
   "execution_count": 57,
   "metadata": {},
   "outputs": [],
   "source": [
    "from sklearn import tree\n",
    "from sklearn.ensemble.forest import RandomForestClassifier\n",
    "from sklearn.metrics import classification_report\n",
    "from sklearn.metrics import f1_score"
   ]
  },
  {
   "cell_type": "code",
   "execution_count": 58,
   "metadata": {},
   "outputs": [
    {
     "name": "stderr",
     "output_type": "stream",
     "text": [
      "C:\\ProgramData\\Anaconda3\\lib\\site-packages\\sklearn\\ensemble\\forest.py:245: FutureWarning: The default value of n_estimators will change from 10 in version 0.20 to 100 in 0.22.\n",
      "  \"10 in version 0.20 to 100 in 0.22.\", FutureWarning)\n",
      "C:\\ProgramData\\Anaconda3\\lib\\site-packages\\sklearn\\ensemble\\forest.py:460: UserWarning: Some inputs do not have OOB scores. This probably means too few trees were used to compute any reliable oob estimates.\n",
      "  warn(\"Some inputs do not have OOB scores. \"\n",
      "C:\\ProgramData\\Anaconda3\\lib\\site-packages\\sklearn\\ensemble\\forest.py:465: RuntimeWarning: invalid value encountered in true_divide\n",
      "  predictions[k].sum(axis=1)[:, np.newaxis])\n"
     ]
    }
   ],
   "source": [
    "clf = RandomForestClassifier(n_estimators='warn',\n",
    "                             criterion='gini',\n",
    "                             max_depth=None,\n",
    "                             max_features='auto',\n",
    "                             max_leaf_nodes=None,\n",
    "                             min_impurity_split=None,\n",
    "                             bootstrap=True,\n",
    "                             oob_score=True,\n",
    "                             verbose=0,\n",
    "                             warm_start=False,\n",
    "                             class_weight=None)\n",
    "model = clf.fit(X_train, y_train)"
   ]
  },
  {
   "cell_type": "code",
   "execution_count": 59,
   "metadata": {},
   "outputs": [
    {
     "name": "stdout",
     "output_type": "stream",
     "text": [
      "              precision    recall  f1-score   support\n",
      "\n",
      "           1       0.65      0.55      0.60        58\n",
      "           2       0.51      0.49      0.50       135\n",
      "           3       0.15      0.04      0.07       114\n",
      "           4       0.87      0.96      0.92       953\n",
      "\n",
      "    accuracy                           0.81      1260\n",
      "   macro avg       0.55      0.51      0.52      1260\n",
      "weighted avg       0.76      0.81      0.78      1260\n",
      "\n"
     ]
    }
   ],
   "source": [
    "testPredY = model.predict(X_test)\n",
    "print(classification_report(y_test, testPredY))"
   ]
  },
  {
   "cell_type": "code",
   "execution_count": 60,
   "metadata": {},
   "outputs": [
    {
     "data": {
      "text/plain": [
       "0.8087301587301587"
      ]
     },
     "execution_count": 60,
     "metadata": {},
     "output_type": "execute_result"
    }
   ],
   "source": [
    "f1_score(y_test, testPredY, average='micro')"
   ]
  },
  {
   "cell_type": "code",
   "execution_count": 61,
   "metadata": {},
   "outputs": [
    {
     "data": {
      "text/plain": [
       "0.7571485305798252"
      ]
     },
     "execution_count": 61,
     "metadata": {},
     "output_type": "execute_result"
    }
   ],
   "source": [
    "model.oob_score_"
   ]
  },
  {
   "cell_type": "code",
   "execution_count": 62,
   "metadata": {},
   "outputs": [
    {
     "data": {
      "text/plain": [
       "comments_bf_2wk                0.069078\n",
       "num_cast                       0.065748\n",
       "distributor                    0.050726\n",
       "sc2_positive                   0.048212\n",
       "comments_bf_1wk                0.043465\n",
       "comments_qty_before_release    0.041702\n",
       "comments_bf_4wk                0.040651\n",
       "genres                         0.031981\n",
       "belongs_to_collection          0.031636\n",
       "3rd_cast                       0.029906\n",
       "dtype: float64"
      ]
     },
     "execution_count": 62,
     "metadata": {},
     "output_type": "execute_result"
    }
   ],
   "source": [
    "results = {}\n",
    "for col_name, importance in zip(list(X_train.columns), model.feature_importances_):\n",
    "    results[col_name] = importance\n",
    "results = pd.Series(results).sort_values(ascending=False)\n",
    "results.head(10)"
   ]
  },
  {
   "cell_type": "code",
   "execution_count": 63,
   "metadata": {},
   "outputs": [
    {
     "data": {
      "text/plain": [
       "<matplotlib.axes._subplots.AxesSubplot at 0x2892530aba8>"
      ]
     },
     "execution_count": 63,
     "metadata": {},
     "output_type": "execute_result"
    },
    {
     "data": {
      "image/png": "[encoded data removed]",
      "text/plain": [
       "<Figure size 1000x600 with 1 Axes>"
      ]
     },
     "metadata": {},
     "output_type": "display_data"
    }
   ],
   "source": [
    "plt.figure(figsize=(10,6),dpi=100)\n",
    "results.plot(kind='bar')"
   ]
  },
  {
   "cell_type": "markdown",
   "metadata": {},
   "source": [
    "### Xgboost"
   ]
  },
  {
   "cell_type": "code",
   "execution_count": 64,
   "metadata": {},
   "outputs": [],
   "source": [
    "import xgboost as xgb\n",
    "from xgboost import plot_importance\n",
    "from sklearn.metrics import classification_report\n",
    "from sklearn.metrics import f1_score"
   ]
  },
  {
   "cell_type": "code",
   "execution_count": 65,
   "metadata": {},
   "outputs": [
    {
     "data": {
      "text/plain": [
       "((5036, 54), (5036,))"
      ]
     },
     "execution_count": 65,
     "metadata": {},
     "output_type": "execute_result"
    }
   ],
   "source": [
    "X_train.shape, y_train.shape"
   ]
  },
  {
   "cell_type": "code",
   "execution_count": 66,
   "metadata": {},
   "outputs": [],
   "source": [
    "y_train -= 1\n",
    "y_test -= 1"
   ]
  },
  {
   "cell_type": "code",
   "execution_count": 67,
   "metadata": {},
   "outputs": [
    {
     "data": {
      "text/plain": [
       "(array([3, 3, 2, ..., 3, 3, 3], dtype=int64), (1260,))"
      ]
     },
     "execution_count": 67,
     "metadata": {},
     "output_type": "execute_result"
    }
   ],
   "source": [
    "y_train, y_test.shape"
   ]
  },
  {
   "cell_type": "code",
   "execution_count": 68,
   "metadata": {},
   "outputs": [
    {
     "data": {
      "text/plain": [
       "({0, 1, 2, 3}, {0, 1, 2, 3})"
      ]
     },
     "execution_count": 68,
     "metadata": {},
     "output_type": "execute_result"
    }
   ],
   "source": [
    "set(y_train), set(y_test)"
   ]
  },
  {
   "cell_type": "markdown",
   "metadata": {
    "heading_collapsed": true
   },
   "source": [
    "### Parameter testing"
   ]
  },
  {
   "cell_type": "code",
   "execution_count": null,
   "metadata": {
    "hidden": true
   },
   "outputs": [],
   "source": [
    "data_train = xgb.DMatrix(X_train, label=y_train)\n",
    "data_test = xgb.DMatrix(X_test, label=y_test)"
   ]
  },
  {
   "cell_type": "code",
   "execution_count": null,
   "metadata": {
    "hidden": true
   },
   "outputs": [],
   "source": [
    "param_list = []\n",
    "l1 = l2 = [0,1,1.5,2,2.5,3,5,8,10]\n",
    "\n",
    "for i in l1:\n",
    "    for j in l2:\n",
    "        param = {}\n",
    "        param['booster'] = 'gbtree'\n",
    "        param['silent'] = 1\n",
    "        param['eta'] = 0.1\n",
    "        param['gamma'] = 0\n",
    "        param['max_depth'] = 6\n",
    "        param['min_child_weight'] = 1\n",
    "        param['max_delta_step'] = 0\n",
    "        param['subsample'] = 1 \n",
    "        param['lambda'] = j\n",
    "        param['alpha'] = i\n",
    "        param['tree_method'] = 'auto'\n",
    "        # param['scale_pos_weight'] = \n",
    "        param['objective'] = 'multi:softmax'\n",
    "        param['num_class'] = 6\n",
    "        param_list.append(param)\n",
    "\n",
    "eval_list = [(data_train,'train'), (data_test,'test')]\n",
    "num_round = 1000\n",
    "eval_history = {}"
   ]
  },
  {
   "cell_type": "code",
   "execution_count": null,
   "metadata": {
    "hidden": true
   },
   "outputs": [],
   "source": [
    "len(param_list)"
   ]
  },
  {
   "cell_type": "code",
   "execution_count": null,
   "metadata": {
    "hidden": true
   },
   "outputs": [],
   "source": [
    "f1_score_res, cls_report_res = [], []\n",
    "\n",
    "for p in param_list:\n",
    "    model = xgb.train(p, data_train, num_round, eval_list, evals_result=eval_history, verbose_eval=False)\n",
    "    y_pred = model.predict(data_test)\n",
    "    f1_score_res.append(f1_score(y_test, y_pred.astype('int'), average='micro'))\n",
    "    cls_report_res.append(classification_report(y_test, y_pred.astype('int')))"
   ]
  },
  {
   "cell_type": "code",
   "execution_count": null,
   "metadata": {
    "hidden": true
   },
   "outputs": [],
   "source": [
    "np.array(f1_score_res).max()"
   ]
  },
  {
   "cell_type": "code",
   "execution_count": null,
   "metadata": {
    "hidden": true
   },
   "outputs": [],
   "source": [
    "param_list[np.array(f1_score_res).argmax()]"
   ]
  },
  {
   "cell_type": "code",
   "execution_count": null,
   "metadata": {
    "hidden": true
   },
   "outputs": [],
   "source": [
    "print(cls_report_res[np.array(f1_score_res).argmax()])"
   ]
  },
  {
   "cell_type": "code",
   "execution_count": null,
   "metadata": {
    "hidden": true
   },
   "outputs": [],
   "source": []
  },
  {
   "cell_type": "markdown",
   "metadata": {
    "heading_collapsed": true
   },
   "source": [
    "### K-fold"
   ]
  },
  {
   "cell_type": "code",
   "execution_count": null,
   "metadata": {
    "hidden": true
   },
   "outputs": [],
   "source": [
    "def build_xgb_model(trn_x, trn_y, tst_x, tst_y):\n",
    "    data_train = xgb.DMatrix(trn_x, label=trn_y)\n",
    "    data_test = xgb.DMatrix(tst_x, label=tst_y)\n",
    "    param = {}\n",
    "    param['booster'] = 'gbtree'\n",
    "    param['silent'] = 1\n",
    "    param['eta'] = 0.1\n",
    "    param['gamma'] = 0\n",
    "    param['max_depth'] = 6\n",
    "    param['min_child_weight'] = 1\n",
    "    param['max_delta_step'] = 0\n",
    "    param['subsample'] = 1 \n",
    "    param['lambda'] = 2.5\n",
    "    param['alpha'] = 0\n",
    "    param['tree_method'] = 'auto'\n",
    "    param['objective'] = 'multi:softmax'\n",
    "    param['num_class'] = 6\n",
    "    eval_list = [(data_train,'train'), (data_test,'test')]\n",
    "    num_round = 2000\n",
    "    eval_history = {}\n",
    "    \n",
    "    model = xgb.train(param, data_train, num_round, eval_list, evals_result=eval_history, verbose_eval=False)\n",
    "    \n",
    "    return model"
   ]
  },
  {
   "cell_type": "code",
   "execution_count": null,
   "metadata": {
    "hidden": true
   },
   "outputs": [],
   "source": [
    "from sklearn.model_selection import KFold"
   ]
  },
  {
   "cell_type": "code",
   "execution_count": null,
   "metadata": {
    "hidden": true
   },
   "outputs": [],
   "source": [
    "random_seed = 2019\n",
    "fold = list(KFold(n_splits=5, shuffle=True, random_state=random_seed).split(X_train))\n",
    "results = []"
   ]
  },
  {
   "cell_type": "code",
   "execution_count": null,
   "metadata": {
    "hidden": true
   },
   "outputs": [],
   "source": [
    "X_train.shape, X_test.shape"
   ]
  },
  {
   "cell_type": "code",
   "execution_count": null,
   "metadata": {
    "hidden": true
   },
   "outputs": [],
   "source": [
    "data_test = xgb.DMatrix(X_test)"
   ]
  },
  {
   "cell_type": "code",
   "execution_count": null,
   "metadata": {
    "hidden": true
   },
   "outputs": [],
   "source": [
    "for i, (trn, val) in enumerate(fold):\n",
    "    trn_x = X_train.loc[trn, :]\n",
    "    trn_y = y_train[trn]\n",
    "    tst_x = X_train.loc[val, :]\n",
    "    tst_y = y_train[val]\n",
    "    model = build_xgb_model(trn_x, trn_y, tst_x, tst_y)\n",
    "    pred_y = model.predict(data_test)\n",
    "    f1_score_micro = f1_score(y_test, pred_y.astype('int'), average='micro')\n",
    "    clf_report = classification_report(y_test, pred_y.astype('int'))\n",
    "    results.append({'f1_score':f1_score_micro, 'classification_report':clf_report})\n",
    "    print(f'fold{i}:')\n",
    "    print('F1 Score:' + str(f1_score_micro))\n",
    "    print(clf_report)"
   ]
  },
  {
   "cell_type": "code",
   "execution_count": null,
   "metadata": {
    "hidden": true
   },
   "outputs": [],
   "source": []
  },
  {
   "cell_type": "markdown",
   "metadata": {},
   "source": [
    "### final testing"
   ]
  },
  {
   "cell_type": "markdown",
   "metadata": {},
   "source": [
    "0.8125\n",
    "* 'eta': 0.1,\n",
    "* 'subsample':0.5,\n",
    "* 'lambda': 1.5,\n",
    "* 'alpha': 1.5,\n"
   ]
  },
  {
   "cell_type": "code",
   "execution_count": 69,
   "metadata": {},
   "outputs": [],
   "source": [
    "data_train = xgb.DMatrix(X_train, label=y_train)\n",
    "data_test = xgb.DMatrix(X_test, label=y_test)"
   ]
  },
  {
   "cell_type": "code",
   "execution_count": 70,
   "metadata": {},
   "outputs": [],
   "source": [
    "param = {}\n",
    "param['booster'] = 'gbtree'\n",
    "param['silent'] = 1\n",
    "param['eta'] = 0.1\n",
    "param['gamma'] = 0\n",
    "param['max_depth'] = 6\n",
    "param['min_child_weight'] = 1\n",
    "param['max_delta_step'] = 0\n",
    "param['subsample'] = 1\n",
    "param['lambda'] = 1.5\n",
    "param['alpha'] = 1.5\n",
    "param['tree_method'] = 'auto'\n",
    "# param['scale_pos_weight'] = \n",
    "param['objective'] = 'multi:softmax'\n",
    "param['num_class'] = 6\n",
    "\n",
    "eval_list = [(data_train,'train'), (data_test,'test')]\n",
    "num_round = 1000\n",
    "eval_history = {}"
   ]
  },
  {
   "cell_type": "code",
   "execution_count": 71,
   "metadata": {},
   "outputs": [],
   "source": [
    "model = xgb.train(param, data_train, num_round, eval_list, evals_result=eval_history, verbose_eval=False)"
   ]
  },
  {
   "cell_type": "code",
   "execution_count": 72,
   "metadata": {},
   "outputs": [],
   "source": [
    "rmse_train = eval_history['train']['merror']\n",
    "rmse_test = eval_history['test']['merror']"
   ]
  },
  {
   "cell_type": "code",
   "execution_count": 73,
   "metadata": {},
   "outputs": [
    {
     "data": {
      "image/png": "[encoded data removed]",
      "text/plain": [
       "<Figure size 432x288 with 1 Axes>"
      ]
     },
     "metadata": {},
     "output_type": "display_data"
    }
   ],
   "source": [
    "plt.plot(rmse_train, ms=5, marker='.', label='train_eval')\n",
    "plt.plot(rmse_test, ms=5, marker='v', label='test_eval')\n",
    "plt.legend()\n",
    "plt.show()"
   ]
  },
  {
   "cell_type": "code",
   "execution_count": 74,
   "metadata": {},
   "outputs": [
    {
     "data": {
      "text/plain": [
       "('[0]\\teval-merror:0.000000', '[0]\\teval-merror:0.149206')"
      ]
     },
     "execution_count": 74,
     "metadata": {},
     "output_type": "execute_result"
    }
   ],
   "source": [
    "model.eval(data_train), model.eval(data_test)"
   ]
  },
  {
   "cell_type": "code",
   "execution_count": 75,
   "metadata": {},
   "outputs": [],
   "source": [
    "y_pred = model.predict(data_test)"
   ]
  },
  {
   "cell_type": "code",
   "execution_count": 76,
   "metadata": {},
   "outputs": [
    {
     "data": {
      "text/plain": [
       "0.8507936507936508"
      ]
     },
     "execution_count": 76,
     "metadata": {},
     "output_type": "execute_result"
    }
   ],
   "source": [
    "f1_score(y_test, y_pred.astype('int'), average='micro')"
   ]
  },
  {
   "cell_type": "code",
   "execution_count": 77,
   "metadata": {},
   "outputs": [
    {
     "name": "stdout",
     "output_type": "stream",
     "text": [
      "              precision    recall  f1-score   support\n",
      "\n",
      "           0       0.70      0.64      0.67        58\n",
      "           1       0.58      0.64      0.61       135\n",
      "           2       0.41      0.16      0.23       114\n",
      "           3       0.92      0.98      0.95       953\n",
      "\n",
      "    accuracy                           0.85      1260\n",
      "   macro avg       0.65      0.60      0.61      1260\n",
      "weighted avg       0.83      0.85      0.83      1260\n",
      "\n"
     ]
    }
   ],
   "source": [
    "print(classification_report(y_test, y_pred.astype('int')))"
   ]
  },
  {
   "cell_type": "code",
   "execution_count": 78,
   "metadata": {},
   "outputs": [],
   "source": [
    "%matplotlib inline\n",
    "sns.set()"
   ]
  },
  {
   "cell_type": "code",
   "execution_count": 79,
   "metadata": {
    "scrolled": true
   },
   "outputs": [
    {
     "data": {
      "text/plain": [
       "<matplotlib.axes._subplots.AxesSubplot at 0x28926a91d30>"
      ]
     },
     "execution_count": 79,
     "metadata": {},
     "output_type": "execute_result"
    },
    {
     "data": {
      "image/png": "[encoded data removed]",
      "text/plain": [
       "<Figure size 1440x1440 with 1 Axes>"
      ]
     },
     "metadata": {},
     "output_type": "display_data"
    }
   ],
   "source": [
    "fig, ax = plt.subplots(figsize=(12,12), dpi=120)\n",
    "plot_importance(model, ax=ax)"
   ]
  },
  {
   "cell_type": "code",
   "execution_count": 80,
   "metadata": {},
   "outputs": [
    {
     "data": {
      "text/plain": [
       "{'sc2_positive': 555,\n",
       " 'belongs_to_collection': 443,\n",
       " 'num_cast': 2545,\n",
       " 'comments_bf_1wk': 1042,\n",
       " 'distributor': 3433,\n",
       " 'runtime': 2601,\n",
       " 'Science Fiction': 187,\n",
       " 'Animation': 139,\n",
       " '2nd_cast': 2698,\n",
       " 'gdp_deflator': 652,\n",
       " 'sc2_negative': 557,\n",
       " 'num_nomActor': 827,\n",
       " 'genres': 2043,\n",
       " 'top3_cast': 2877,\n",
       " 'release_in_holidayweek': 211,\n",
       " 'Drama': 288,\n",
       " 'Release_weekday': 482,\n",
       " 'Release_year': 1086,\n",
       " 'homepage': 304,\n",
       " 'comments_bf_2wk': 754,\n",
       " 'director_id': 2990,\n",
       " 'original_language': 464,\n",
       " 'comments_pc_before_release': 1584,\n",
       " '3rd_cast': 2810,\n",
       " 'comments_qty_before_release': 533,\n",
       " 'Horror': 166,\n",
       " 'comments_bf_4wk': 804,\n",
       " 'sc2_neutral': 526,\n",
       " 'sc2_negative_pc': 1360,\n",
       " 'num_awardActor': 479,\n",
       " 'gdp_annual_rate': 608,\n",
       " 'Action': 228,\n",
       " 'sc2_neutral_pc': 1403,\n",
       " 'Release_month': 1545,\n",
       " 'Comedy': 213,\n",
       " 'sc2_positive_pc': 1313,\n",
       " 'num_of_genres': 542,\n",
       " 'Family': 225,\n",
       " 'Mystery': 156,\n",
       " 'Crime': 147,\n",
       " 'num_sp_languages': 374,\n",
       " 'Documentary': 44,\n",
       " 'sentiment_level_before_release': 293,\n",
       " 'num_awardDir': 74,\n",
       " 'num_director': 164,\n",
       " 'Romance': 142,\n",
       " 'have_comments': 44,\n",
       " 'Thriller': 242,\n",
       " 'History': 120,\n",
       " 'unemployment_rate': 62,\n",
       " 'Adventure': 42,\n",
       " 'genre_others': 166,\n",
       " 'Fantasy': 62,\n",
       " '1st_cast': 4}"
      ]
     },
     "execution_count": 80,
     "metadata": {},
     "output_type": "execute_result"
    }
   ],
   "source": [
    "model.get_score()"
   ]
  },
  {
   "cell_type": "code",
   "execution_count": null,
   "metadata": {},
   "outputs": [],
   "source": []
  }
 ],
 "metadata": {
  "kernelspec": {
   "display_name": "Python 3",
   "language": "python",
   "name": "python3"
  },
  "language_info": {
   "codemirror_mode": {
    "name": "ipython",
    "version": 3
   },
   "file_extension": ".py",
   "mimetype": "text/x-python",
   "name": "python",
   "nbconvert_exporter": "python",
   "pygments_lexer": "ipython3",
   "version": "3.8.8"
  },
  "varInspector": {
   "cols": {
    "lenName": 16,
    "lenType": 16,
    "lenVar": 40
   },
   "kernels_config": {
    "python": {
     "delete_cmd_postfix": "",
     "delete_cmd_prefix": "del ",
     "library": "var_list.py",
     "varRefreshCmd": "print(var_dic_list())"
    },
    "r": {
     "delete_cmd_postfix": ") ",
     "delete_cmd_prefix": "rm(",
     "library": "var_list.r",
     "varRefreshCmd": "cat(var_dic_list()) "
    }
   },
   "position": {
    "height": "158.594px",
    "left": "1605.19px",
    "right": "20px",
    "top": "117px",
    "width": "281.797px"
   },
   "types_to_exclude": [
    "module",
    "function",
    "builtin_function_or_method",
    "instance",
    "_Feature"
   ],
   "window_display": true
  }
 },
 "nbformat": 4,
 "nbformat_minor": 2
}

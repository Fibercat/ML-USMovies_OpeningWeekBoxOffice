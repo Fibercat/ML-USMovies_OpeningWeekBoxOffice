{
 "cells": [
  {
   "cell_type": "code",
   "execution_count": 16,
   "metadata": {},
   "outputs": [],
   "source": [
    "from IPython.core.interactiveshell import InteractiveShell\n",
    "InteractiveShell.ast_node_interactivity = \"all\"\n",
    "import numpy as np\n",
    "import pandas as pd\n",
    "import requests\n",
    "from bs4 import BeautifulSoup"
   ]
  },
  {
   "cell_type": "markdown",
   "metadata": {},
   "source": [
    "### getting Y2015 movies list from Mojo"
   ]
  },
  {
   "cell_type": "code",
   "execution_count": null,
   "metadata": {},
   "outputs": [],
   "source": [
    "link_mojo = 'https://www.boxofficemojo.com'"
   ]
  },
  {
   "cell_type": "code",
   "execution_count": null,
   "metadata": {},
   "outputs": [],
   "source": [
    "movie_titles = pd.DataFrame()"
   ]
  },
  {
   "cell_type": "code",
   "execution_count": null,
   "metadata": {},
   "outputs": [],
   "source": [
    "for i in range(1,9):    \n",
    "    movie_title, link, studio, total_gross, open_date = [], [], [], [], []\n",
    "    try:\n",
    "        req_url = f'https://www.boxofficemojo.com/yearly/chart/?page={i}&view=releasedate&view2=domestic&yr=2015&p=.htm'\n",
    "        request = BeautifulSoup(requests.get(req_url).text)\n",
    "        movie_title = [elem.text for elem in request.select('td td b font a')]\n",
    "        hrefs = [elem.get('href') for elem in request.select('td td b font a')]\n",
    "        for item in hrefs:\n",
    "            link.append(link_mojo + item)\n",
    "        studio = [elem.text for elem in request.select('td td tr+ tr td:nth-child(3) a')]\n",
    "        total_gross = [ elem.text for elem in request.select('td td tr+ tr td+ td font b') ]\n",
    "        openings = [ elem.text for elem in request.select('td:nth-child(8) a')]\n",
    "        for date in openings:\n",
    "            open_date.append(f'2015/{date}')\n",
    "        tmp_df = pd.DataFrame({'movie_title':movie_title,'link':link,'studio':studio,'total_gross':total_gross,'open_date':open_date })\n",
    "        movie_titles = movie_titles.append(tmp_df)\n",
    "    except:\n",
    "        pring('some error occurs...QAQ...')"
   ]
  },
  {
   "cell_type": "code",
   "execution_count": null,
   "metadata": {},
   "outputs": [],
   "source": [
    "len(movie_titles)\n",
    "movie_titles.head()\n",
    "movie_titles.tail()"
   ]
  },
  {
   "cell_type": "code",
   "execution_count": null,
   "metadata": {},
   "outputs": [],
   "source": [
    "movie_titles.to_csv('Mojo_movies_list_2015.csv', encoding='utf-8', index=False)"
   ]
  },
  {
   "cell_type": "markdown",
   "metadata": {},
   "source": [
    "### getting movies list of 2009~2019 from Mojo\n",
    "(2014, 2018, 2019資料CSS不對)"
   ]
  },
  {
   "cell_type": "code",
   "execution_count": 2,
   "metadata": {},
   "outputs": [],
   "source": [
    "link_mojo = 'https://www.boxofficemojo.com'"
   ]
  },
  {
   "cell_type": "code",
   "execution_count": null,
   "metadata": {},
   "outputs": [],
   "source": [
    "tmp = {'movie_title':[],'link':[] }"
   ]
  },
  {
   "cell_type": "code",
   "execution_count": null,
   "metadata": {},
   "outputs": [],
   "source": [
    "%%time\n",
    "for year in range(2009,2014):\n",
    "    for page in range(1,10):\n",
    "        req_url = f'https://www.boxofficemojo.com/yearly/chart/?page={page}&view=releasedate&view2=domestic&yr={year}&p=.htm'\n",
    "        request = BeautifulSoup(requests.get(req_url).text)\n",
    "        titles = request.select('td td b font a')\n",
    "        for elem in titles:\n",
    "            tmp['movie_title'].append(elem.text)\n",
    "            href = elem.get('href')\n",
    "            tmp['link'].append(link_mojo + href)\n",
    "        if len(titles) != 100:\n",
    "            print(f'the {year} year finished!')\n",
    "            break"
   ]
  },
  {
   "cell_type": "code",
   "execution_count": null,
   "metadata": {},
   "outputs": [],
   "source": [
    "len(tmp['movie_title'])\n",
    "len(tmp['link'])\n",
    "type(tmp)"
   ]
  },
  {
   "cell_type": "code",
   "execution_count": null,
   "metadata": {},
   "outputs": [],
   "source": [
    "movie_titles = pd.DataFrame(tmp)"
   ]
  },
  {
   "cell_type": "code",
   "execution_count": null,
   "metadata": {},
   "outputs": [],
   "source": [
    "len(movie_titles)\n",
    "movie_titles.head()\n",
    "movie_titles.tail()"
   ]
  },
  {
   "cell_type": "code",
   "execution_count": null,
   "metadata": {},
   "outputs": [],
   "source": [
    "movie_titles.to_csv('Mojo_movie_titles_2009-2013.csv', encoding = 'utf-8', index=False)"
   ]
  },
  {
   "cell_type": "markdown",
   "metadata": {},
   "source": [
    "#### getting Y2014, Y 2018 movies list from Mojo\n",
    "問題：\n",
    "* 2014：'2001: A Space Odyssey (2014 re-release)'\n",
    "* 2018：'Bullitt 50th Anniversary' in tmp['movie_title']\n",
    "* 2019：101~200只有99筆"
   ]
  },
  {
   "cell_type": "code",
   "execution_count": 10,
   "metadata": {},
   "outputs": [],
   "source": [
    "tmp = {'movie_title':[],'link':[] }"
   ]
  },
  {
   "cell_type": "code",
   "execution_count": 11,
   "metadata": {},
   "outputs": [
    {
     "name": "stdout",
     "output_type": "stream",
     "text": [
      "Wall time: 11.7 s\n"
     ]
    }
   ],
   "source": [
    "%%time\n",
    "for page in range(1,10):\n",
    "    req_url = f'https://www.boxofficemojo.com/yearly/chart/?page={page}&view=releasedate&view2=domestic&yr=2018&p=.htm'\n",
    "    request = BeautifulSoup(requests.get(req_url).text)\n",
    "    titles = request.select('td td b font a')\n",
    "    for elem in titles:\n",
    "        if elem.get('href') is not None:\n",
    "            tmp['movie_title'].append(elem.text)\n",
    "            href = elem.get('href')\n",
    "            tmp['link'].append(link_mojo + href)"
   ]
  },
  {
   "cell_type": "code",
   "execution_count": 12,
   "metadata": {},
   "outputs": [
    {
     "data": {
      "text/plain": [
       "878"
      ]
     },
     "execution_count": 12,
     "metadata": {},
     "output_type": "execute_result"
    },
    {
     "data": {
      "text/plain": [
       "878"
      ]
     },
     "execution_count": 12,
     "metadata": {},
     "output_type": "execute_result"
    },
    {
     "data": {
      "text/plain": [
       "dict"
      ]
     },
     "execution_count": 12,
     "metadata": {},
     "output_type": "execute_result"
    }
   ],
   "source": [
    "len(tmp['movie_title'])\n",
    "len(tmp['link'])\n",
    "type(tmp)"
   ]
  },
  {
   "cell_type": "code",
   "execution_count": 13,
   "metadata": {},
   "outputs": [],
   "source": [
    "movie_titles = pd.DataFrame(tmp)"
   ]
  },
  {
   "cell_type": "code",
   "execution_count": 14,
   "metadata": {},
   "outputs": [],
   "source": [
    "movie_titles.to_csv('Mojo_movie_titles_2018.csv', encoding = 'utf-8', index=False)"
   ]
  },
  {
   "cell_type": "markdown",
   "metadata": {},
   "source": [
    "### 合併檔案"
   ]
  },
  {
   "cell_type": "code",
   "execution_count": 17,
   "metadata": {},
   "outputs": [],
   "source": [
    "data_2019 = pd.read_csv(f'D:/Movie/MovieList/Mojo_movie_titles_2019.csv')\n",
    "data_2018 = pd.read_csv(f'D:/Movie/MovieList/Mojo_movie_titles_2018.csv')\n",
    "data_2017 = pd.read_csv(f'D:/Movie/MovieList/Mojo_movie_titles_2016-2017.csv')\n",
    "data_2015 = pd.read_csv(f'D:/Movie/MovieList/Mojo_movie_titles_2015.csv')\n",
    "data_2014 = pd.read_csv(f'D:/Movie/MovieList/Mojo_movie_titles_2014.csv')\n",
    "data_2013 = pd.read_csv(f'D:/Movie/MovieList/Mojo_movie_titles_2009-2013.csv')"
   ]
  },
  {
   "cell_type": "code",
   "execution_count": 26,
   "metadata": {},
   "outputs": [
    {
     "data": {
      "text/html": [
       "<div>\n",
       "<style scoped>\n",
       "    .dataframe tbody tr th:only-of-type {\n",
       "        vertical-align: middle;\n",
       "    }\n",
       "\n",
       "    .dataframe tbody tr th {\n",
       "        vertical-align: top;\n",
       "    }\n",
       "\n",
       "    .dataframe thead th {\n",
       "        text-align: right;\n",
       "    }\n",
       "</style>\n",
       "<table border=\"1\" class=\"dataframe\">\n",
       "  <thead>\n",
       "    <tr style=\"text-align: right;\">\n",
       "      <th></th>\n",
       "      <th>movie_title</th>\n",
       "      <th>link</th>\n",
       "    </tr>\n",
       "  </thead>\n",
       "  <tbody>\n",
       "    <tr>\n",
       "      <th>0</th>\n",
       "      <td>Star Wars: The Force Awakens</td>\n",
       "      <td>https://www.boxofficemojo.com/movies/?id=starw...</td>\n",
       "    </tr>\n",
       "    <tr>\n",
       "      <th>1</th>\n",
       "      <td>Jurassic World</td>\n",
       "      <td>https://www.boxofficemojo.com/movies/?id=juras...</td>\n",
       "    </tr>\n",
       "    <tr>\n",
       "      <th>2</th>\n",
       "      <td>Avengers: Age of Ultron</td>\n",
       "      <td>https://www.boxofficemojo.com/movies/?id=aveng...</td>\n",
       "    </tr>\n",
       "    <tr>\n",
       "      <th>3</th>\n",
       "      <td>Inside Out</td>\n",
       "      <td>https://www.boxofficemojo.com/movies/?id=pixar...</td>\n",
       "    </tr>\n",
       "    <tr>\n",
       "      <th>4</th>\n",
       "      <td>Furious 7</td>\n",
       "      <td>https://www.boxofficemojo.com/movies/?id=fast7...</td>\n",
       "    </tr>\n",
       "  </tbody>\n",
       "</table>\n",
       "</div>"
      ],
      "text/plain": [
       "                    movie_title  \\\n",
       "0  Star Wars: The Force Awakens   \n",
       "1                Jurassic World   \n",
       "2       Avengers: Age of Ultron   \n",
       "3                    Inside Out   \n",
       "4                     Furious 7   \n",
       "\n",
       "                                                link  \n",
       "0  https://www.boxofficemojo.com/movies/?id=starw...  \n",
       "1  https://www.boxofficemojo.com/movies/?id=juras...  \n",
       "2  https://www.boxofficemojo.com/movies/?id=aveng...  \n",
       "3  https://www.boxofficemojo.com/movies/?id=pixar...  \n",
       "4  https://www.boxofficemojo.com/movies/?id=fast7...  "
      ]
     },
     "execution_count": 26,
     "metadata": {},
     "output_type": "execute_result"
    }
   ],
   "source": [
    "data_2015 = data_2015.iloc[:, :2]\n",
    "data_2015.head()"
   ]
  },
  {
   "cell_type": "code",
   "execution_count": 30,
   "metadata": {},
   "outputs": [
    {
     "data": {
      "text/plain": [
       "(585, 2)"
      ]
     },
     "execution_count": 30,
     "metadata": {},
     "output_type": "execute_result"
    },
    {
     "data": {
      "text/plain": [
       "(878, 2)"
      ]
     },
     "execution_count": 30,
     "metadata": {},
     "output_type": "execute_result"
    },
    {
     "data": {
      "text/plain": [
       "(1478, 2)"
      ]
     },
     "execution_count": 30,
     "metadata": {},
     "output_type": "execute_result"
    },
    {
     "data": {
      "text/plain": [
       "(706, 2)"
      ]
     },
     "execution_count": 30,
     "metadata": {},
     "output_type": "execute_result"
    },
    {
     "data": {
      "text/plain": [
       "(708, 2)"
      ]
     },
     "execution_count": 30,
     "metadata": {},
     "output_type": "execute_result"
    },
    {
     "data": {
      "text/plain": [
       "(3018, 2)"
      ]
     },
     "execution_count": 30,
     "metadata": {},
     "output_type": "execute_result"
    }
   ],
   "source": [
    "data_2019.shape\n",
    "data_2018.shape\n",
    "data_2017.shape\n",
    "data_2015.shape\n",
    "data_2014.shape\n",
    "data_2013.shape"
   ]
  },
  {
   "cell_type": "code",
   "execution_count": 32,
   "metadata": {},
   "outputs": [],
   "source": [
    "new_df = pd.concat([data_2019,data_2018,data_2017,data_2015,data_2014,data_2013], ignore_index=True)"
   ]
  },
  {
   "cell_type": "code",
   "execution_count": 34,
   "metadata": {},
   "outputs": [
    {
     "data": {
      "text/plain": [
       "(7373, 2)"
      ]
     },
     "execution_count": 34,
     "metadata": {},
     "output_type": "execute_result"
    },
    {
     "data": {
      "text/html": [
       "<div>\n",
       "<style scoped>\n",
       "    .dataframe tbody tr th:only-of-type {\n",
       "        vertical-align: middle;\n",
       "    }\n",
       "\n",
       "    .dataframe tbody tr th {\n",
       "        vertical-align: top;\n",
       "    }\n",
       "\n",
       "    .dataframe thead th {\n",
       "        text-align: right;\n",
       "    }\n",
       "</style>\n",
       "<table border=\"1\" class=\"dataframe\">\n",
       "  <thead>\n",
       "    <tr style=\"text-align: right;\">\n",
       "      <th></th>\n",
       "      <th>movie_title</th>\n",
       "      <th>link</th>\n",
       "    </tr>\n",
       "  </thead>\n",
       "  <tbody>\n",
       "    <tr>\n",
       "      <th>0</th>\n",
       "      <td>Avengers: Endgame</td>\n",
       "      <td>https://www.boxofficemojo.com/movies/?id=marve...</td>\n",
       "    </tr>\n",
       "    <tr>\n",
       "      <th>1</th>\n",
       "      <td>The Lion King (2019)</td>\n",
       "      <td>https://www.boxofficemojo.com/movies/?id=lionk...</td>\n",
       "    </tr>\n",
       "    <tr>\n",
       "      <th>2</th>\n",
       "      <td>Toy Story 4</td>\n",
       "      <td>https://www.boxofficemojo.com/movies/?id=pixar...</td>\n",
       "    </tr>\n",
       "    <tr>\n",
       "      <th>3</th>\n",
       "      <td>Captain Marvel</td>\n",
       "      <td>https://www.boxofficemojo.com/movies/?id=marve...</td>\n",
       "    </tr>\n",
       "    <tr>\n",
       "      <th>4</th>\n",
       "      <td>Spider-Man: Far from Home</td>\n",
       "      <td>https://www.boxofficemojo.com/movies/?id=spide...</td>\n",
       "    </tr>\n",
       "  </tbody>\n",
       "</table>\n",
       "</div>"
      ],
      "text/plain": [
       "                 movie_title  \\\n",
       "0          Avengers: Endgame   \n",
       "1       The Lion King (2019)   \n",
       "2                Toy Story 4   \n",
       "3            Captain Marvel    \n",
       "4  Spider-Man: Far from Home   \n",
       "\n",
       "                                                link  \n",
       "0  https://www.boxofficemojo.com/movies/?id=marve...  \n",
       "1  https://www.boxofficemojo.com/movies/?id=lionk...  \n",
       "2  https://www.boxofficemojo.com/movies/?id=pixar...  \n",
       "3  https://www.boxofficemojo.com/movies/?id=marve...  \n",
       "4  https://www.boxofficemojo.com/movies/?id=spide...  "
      ]
     },
     "execution_count": 34,
     "metadata": {},
     "output_type": "execute_result"
    }
   ],
   "source": [
    "new_df.shape\n",
    "new_df.head()"
   ]
  },
  {
   "cell_type": "code",
   "execution_count": 36,
   "metadata": {},
   "outputs": [],
   "source": [
    "new_df.to_csv('Mojo_movie_titles_2009-2019.csv', encoding = 'utf-8', index=False)"
   ]
  }
 ],
 "metadata": {
  "kernelspec": {
   "display_name": "Python 3",
   "language": "python",
   "name": "python3"
  },
  "language_info": {
   "codemirror_mode": {
    "name": "ipython",
    "version": 3
   },
   "file_extension": ".py",
   "mimetype": "text/x-python",
   "name": "python",
   "nbconvert_exporter": "python",
   "pygments_lexer": "ipython3",
   "version": "3.8.8"
  },
  "varInspector": {
   "cols": {
    "lenName": 16,
    "lenType": 16,
    "lenVar": 40
   },
   "kernels_config": {
    "python": {
     "delete_cmd_postfix": "",
     "delete_cmd_prefix": "del ",
     "library": "var_list.py",
     "varRefreshCmd": "print(var_dic_list())"
    },
    "r": {
     "delete_cmd_postfix": ") ",
     "delete_cmd_prefix": "rm(",
     "library": "var_list.r",
     "varRefreshCmd": "cat(var_dic_list()) "
    }
   },
   "position": {
    "height": "196.6px",
    "left": "1306.8px",
    "right": "20px",
    "top": "120px",
    "width": "207.2px"
   },
   "types_to_exclude": [
    "module",
    "function",
    "builtin_function_or_method",
    "instance",
    "_Feature"
   ],
   "window_display": true
  }
 },
 "nbformat": 4,
 "nbformat_minor": 2
}
